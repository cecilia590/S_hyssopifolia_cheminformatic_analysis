{
  "cells": [
    {
      "cell_type": "markdown",
      "metadata": {},
      "source": [
        "## **PCA of Molecular Descriptors**\n",
        "This workflow loads curated SMILES, computes a compact set of interpretable descriptors (drug-like + O/N counts), standardizes features, performs PCA, and visualizes the first two components. Finally, we export per-dataset views.\n",
        "\n",
        "### **1. Notebook and data preparation**\n",
        "#### **1.1. Configure the environment**"
      ]
    },
    {
      "cell_type": "code",
      "execution_count": null,
      "metadata": {},
      "outputs": [],
      "source": [
        "### Import necessary libraries and configure settings\n",
        "\n",
        "import os\n",
        "import random\n",
        "from pathlib import Path\n",
        "\n",
        "import pandas as pd\n",
        "import numpy as np\n",
        "\n",
        "from rdkit import Chem\n",
        "from rdkit.Chem import Descriptors\n",
        "\n",
        "from sklearn.preprocessing import StandardScaler\n",
        "from sklearn.decomposition import PCA\n",
        "\n",
        "import matplotlib.pyplot as plt\n",
        "import plotly.express as px\n",
        "from plotly import io as pio"
      ]
    },
    {
      "cell_type": "code",
      "execution_count": 5,
      "metadata": {},
      "outputs": [],
      "source": [
        "### Define parameters and paths for reproducibility and portability\n",
        "\n",
        "SEED = 42\n",
        "random.seed(SEED)\n",
        "np.random.seed(SEED)\n",
        "\n",
        "INPUT_CSV = \"../raw_data/dbs_curated_sidas_dianat.csv\" # Path to the curated SMILES CSV\n",
        "OUTPUT_DIR = Path(\"../results/outputs_pca\") # Directory to save outputs\n",
        "OUTPUT_DIR.mkdir(parents=True, exist_ok=True)\n",
        "\n",
        "COL_ID = \"ID\"\n",
        "COL_DATASET = \"DATASET\"\n",
        "COL_SMILES = \"curated_smiles\""
      ]
    },
    {
      "cell_type": "markdown",
      "metadata": {},
      "source": [
        "#### **1.2. Load data and basic sanity checks**\n",
        "Keep only the required columns and drop rows with missing/invalid SMILES."
      ]
    },
    {
      "cell_type": "code",
      "execution_count": 6,
      "metadata": {},
      "outputs": [
        {
          "name": "stdout",
          "output_type": "stream",
          "text": [
            "(612, 3)\n"
          ]
        },
        {
          "data": {
            "text/html": [
              "<div>\n",
              "<style scoped>\n",
              "    .dataframe tbody tr th:only-of-type {\n",
              "        vertical-align: middle;\n",
              "    }\n",
              "\n",
              "    .dataframe tbody tr th {\n",
              "        vertical-align: top;\n",
              "    }\n",
              "\n",
              "    .dataframe thead th {\n",
              "        text-align: right;\n",
              "    }\n",
              "</style>\n",
              "<table border=\"1\" class=\"dataframe\">\n",
              "  <thead>\n",
              "    <tr style=\"text-align: right;\">\n",
              "      <th></th>\n",
              "      <th>ID</th>\n",
              "      <th>DATASET</th>\n",
              "      <th>curated_smiles</th>\n",
              "    </tr>\n",
              "  </thead>\n",
              "  <tbody>\n",
              "    <tr>\n",
              "      <th>0</th>\n",
              "      <td>DiaNatDB-1</td>\n",
              "      <td>DiaNat-DB</td>\n",
              "      <td>O=C(O)C1=C[C@@H](O)[C@@H](O)[C@H](O)C1</td>\n",
              "    </tr>\n",
              "    <tr>\n",
              "      <th>1</th>\n",
              "      <td>DiaNatDB-10</td>\n",
              "      <td>DiaNat-DB</td>\n",
              "      <td>C=C(C)[C@@H]1CC[C@]2(C)CC[C@]3(C)[C@H](CC[C@@H...</td>\n",
              "    </tr>\n",
              "    <tr>\n",
              "      <th>2</th>\n",
              "      <td>DiaNatDB-100</td>\n",
              "      <td>DiaNat-DB</td>\n",
              "      <td>C=C(CC[C@@H](C)[C@H]1CC[C@@]2(C)C3CC[C@H]4C(C)...</td>\n",
              "    </tr>\n",
              "  </tbody>\n",
              "</table>\n",
              "</div>"
            ],
            "text/plain": [
              "             ID    DATASET                                     curated_smiles\n",
              "0    DiaNatDB-1  DiaNat-DB             O=C(O)C1=C[C@@H](O)[C@@H](O)[C@H](O)C1\n",
              "1   DiaNatDB-10  DiaNat-DB  C=C(C)[C@@H]1CC[C@]2(C)CC[C@]3(C)[C@H](CC[C@@H...\n",
              "2  DiaNatDB-100  DiaNat-DB  C=C(CC[C@@H](C)[C@H]1CC[C@@]2(C)C3CC[C@H]4C(C)..."
            ]
          },
          "execution_count": 6,
          "metadata": {},
          "output_type": "execute_result"
        }
      ],
      "source": [
        "### Load data and keep required columns\n",
        "df = pd.read_csv(INPUT_CSV)\n",
        "\n",
        "required_cols = [COL_ID, COL_DATASET, COL_SMILES]\n",
        "missing = [c for c in required_cols if c not in df.columns]\n",
        "if missing:\n",
        "    raise ValueError(f\"Missing required columns in input CSV: {missing}\")\n",
        "\n",
        "df = df[required_cols].copy()\n",
        "print(df.shape)\n",
        "df.head(3)"
      ]
    },
    {
      "cell_type": "code",
      "execution_count": 7,
      "metadata": {},
      "outputs": [
        {
          "name": "stdout",
          "output_type": "stream",
          "text": [
            "After filtering invalid SMILES: (612, 3)\n"
          ]
        },
        {
          "data": {
            "text/html": [
              "<div>\n",
              "<style scoped>\n",
              "    .dataframe tbody tr th:only-of-type {\n",
              "        vertical-align: middle;\n",
              "    }\n",
              "\n",
              "    .dataframe tbody tr th {\n",
              "        vertical-align: top;\n",
              "    }\n",
              "\n",
              "    .dataframe thead th {\n",
              "        text-align: right;\n",
              "    }\n",
              "</style>\n",
              "<table border=\"1\" class=\"dataframe\">\n",
              "  <thead>\n",
              "    <tr style=\"text-align: right;\">\n",
              "      <th></th>\n",
              "      <th>ID</th>\n",
              "      <th>DATASET</th>\n",
              "      <th>curated_smiles</th>\n",
              "    </tr>\n",
              "  </thead>\n",
              "  <tbody>\n",
              "    <tr>\n",
              "      <th>0</th>\n",
              "      <td>DiaNatDB-1</td>\n",
              "      <td>DiaNat-DB</td>\n",
              "      <td>O=C(O)C1=C[C@@H](O)[C@@H](O)[C@H](O)C1</td>\n",
              "    </tr>\n",
              "    <tr>\n",
              "      <th>1</th>\n",
              "      <td>DiaNatDB-10</td>\n",
              "      <td>DiaNat-DB</td>\n",
              "      <td>C=C(C)[C@@H]1CC[C@]2(C)CC[C@]3(C)[C@H](CC[C@@H...</td>\n",
              "    </tr>\n",
              "    <tr>\n",
              "      <th>2</th>\n",
              "      <td>DiaNatDB-100</td>\n",
              "      <td>DiaNat-DB</td>\n",
              "      <td>C=C(CC[C@@H](C)[C@H]1CC[C@@]2(C)C3CC[C@H]4C(C)...</td>\n",
              "    </tr>\n",
              "  </tbody>\n",
              "</table>\n",
              "</div>"
            ],
            "text/plain": [
              "             ID    DATASET                                     curated_smiles\n",
              "0    DiaNatDB-1  DiaNat-DB             O=C(O)C1=C[C@@H](O)[C@@H](O)[C@H](O)C1\n",
              "1   DiaNatDB-10  DiaNat-DB  C=C(C)[C@@H]1CC[C@]2(C)CC[C@]3(C)[C@H](CC[C@@H...\n",
              "2  DiaNatDB-100  DiaNat-DB  C=C(CC[C@@H](C)[C@H]1CC[C@@]2(C)C3CC[C@H]4C(C)..."
            ]
          },
          "execution_count": 7,
          "metadata": {},
          "output_type": "execute_result"
        }
      ],
      "source": [
        "### Validate SMILES and filter invalid rows\n",
        "def is_valid_smiles(smiles: str) -> bool:\n",
        "    \"\"\"\n",
        "    Return True if SMILES parses into a valid RDKit Mol, else False.\n",
        "    \"\"\"\n",
        "    try:\n",
        "        mol = Chem.MolFromSmiles(smiles)\n",
        "        return mol is not None\n",
        "    except Exception:\n",
        "        return False\n",
        "    \n",
        "mask_valid = df[COL_SMILES].notna() & df[COL_SMILES].astype(str).apply(is_valid_smiles)\n",
        "df = df[mask_valid].reset_index(drop=True)\n",
        "print(f\"After filtering invalid SMILES: {df.shape}\")\n",
        "df.head(3)"
      ]
    },
    {
      "cell_type": "markdown",
      "metadata": {},
      "source": [
        "### **2. Compute descriptor set**\n",
        "Compute a compact set of physicochemical descriptors commonly used in drug discovery: HBD, HBA, MolWt, logP, TPSA, and Rotatable Bonds, and counts of O and N atoms."
      ]
    },
    {
      "cell_type": "code",
      "execution_count": 61,
      "metadata": {},
      "outputs": [],
      "source": [
        "### Define the descriptor columns name\n",
        "DESC_COLS = ['HBD', 'HBA', 'MolWt', 'LogP', 'TPSA',\n",
        "            'NumRotatableBonds', 'NumOxygens', 'NumNitrogens']\n",
        "\n",
        "### Function to compute descriptors\n",
        "def compute_descriptors(smiles: str) -> pd.Series:\n",
        "    \"\"\"\n",
        "    Compute a set of interpretable molecular descriptors from a SMILES string.\n",
        "    \"\"\"\n",
        "    mol = Chem.MolFromSmiles(smiles)\n",
        "    if mol is None:\n",
        "        return pd.Series([np.nan] * len(DESC_COLS), index=DESC_COLS)\n",
        "    \n",
        "    return pd.Series([\n",
        "        Descriptors.NumHDonors(mol),\n",
        "        Descriptors.NumHAcceptors(mol),\n",
        "        Descriptors.MolWt(mol),\n",
        "        Descriptors.MolLogP(mol),\n",
        "        Descriptors.TPSA(mol),\n",
        "        Descriptors.NumRotatableBonds(mol),\n",
        "        sum(1 for atom in mol.GetAtoms() if atom.GetAtomicNum() == 8),\n",
        "        sum(1 for atom in mol.GetAtoms() if atom.GetAtomicNum() == 7)\n",
        "    ], index=DESC_COLS)"
      ]
    },
    {
      "cell_type": "code",
      "execution_count": 62,
      "metadata": {},
      "outputs": [
        {
          "name": "stdout",
          "output_type": "stream",
          "text": [
            "Saved: ../results/outputs_pca/sidas_dianat_descriptors.csv\n",
            "After computing descriptors: (612, 11)\n"
          ]
        },
        {
          "data": {
            "text/html": [
              "<div>\n",
              "<style scoped>\n",
              "    .dataframe tbody tr th:only-of-type {\n",
              "        vertical-align: middle;\n",
              "    }\n",
              "\n",
              "    .dataframe tbody tr th {\n",
              "        vertical-align: top;\n",
              "    }\n",
              "\n",
              "    .dataframe thead th {\n",
              "        text-align: right;\n",
              "    }\n",
              "</style>\n",
              "<table border=\"1\" class=\"dataframe\">\n",
              "  <thead>\n",
              "    <tr style=\"text-align: right;\">\n",
              "      <th></th>\n",
              "      <th>ID</th>\n",
              "      <th>DATASET</th>\n",
              "      <th>curated_smiles</th>\n",
              "      <th>HBD</th>\n",
              "      <th>HBA</th>\n",
              "      <th>MolWt</th>\n",
              "      <th>LogP</th>\n",
              "      <th>TPSA</th>\n",
              "      <th>NumRotatableBonds</th>\n",
              "      <th>NumOxygens</th>\n",
              "      <th>NumNitrogens</th>\n",
              "    </tr>\n",
              "  </thead>\n",
              "  <tbody>\n",
              "    <tr>\n",
              "      <th>0</th>\n",
              "      <td>DiaNatDB-1</td>\n",
              "      <td>DiaNat-DB</td>\n",
              "      <td>O=C(O)C1=C[C@@H](O)[C@@H](O)[C@H](O)C1</td>\n",
              "      <td>4.0</td>\n",
              "      <td>4.0</td>\n",
              "      <td>174.152</td>\n",
              "      <td>-1.5162</td>\n",
              "      <td>97.99</td>\n",
              "      <td>1.0</td>\n",
              "      <td>5.0</td>\n",
              "      <td>0.0</td>\n",
              "    </tr>\n",
              "    <tr>\n",
              "      <th>1</th>\n",
              "      <td>DiaNatDB-10</td>\n",
              "      <td>DiaNat-DB</td>\n",
              "      <td>C=C(C)[C@@H]1CC[C@]2(C)CC[C@]3(C)[C@H](CC[C@@H...</td>\n",
              "      <td>1.0</td>\n",
              "      <td>1.0</td>\n",
              "      <td>426.729</td>\n",
              "      <td>8.0248</td>\n",
              "      <td>20.23</td>\n",
              "      <td>1.0</td>\n",
              "      <td>1.0</td>\n",
              "      <td>0.0</td>\n",
              "    </tr>\n",
              "    <tr>\n",
              "      <th>2</th>\n",
              "      <td>DiaNatDB-100</td>\n",
              "      <td>DiaNat-DB</td>\n",
              "      <td>C=C(CC[C@@H](C)[C@H]1CC[C@@]2(C)C3CC[C@H]4C(C)...</td>\n",
              "      <td>1.0</td>\n",
              "      <td>1.0</td>\n",
              "      <td>440.756</td>\n",
              "      <td>8.4149</td>\n",
              "      <td>20.23</td>\n",
              "      <td>5.0</td>\n",
              "      <td>1.0</td>\n",
              "      <td>0.0</td>\n",
              "    </tr>\n",
              "  </tbody>\n",
              "</table>\n",
              "</div>"
            ],
            "text/plain": [
              "             ID    DATASET                                     curated_smiles  \\\n",
              "0    DiaNatDB-1  DiaNat-DB             O=C(O)C1=C[C@@H](O)[C@@H](O)[C@H](O)C1   \n",
              "1   DiaNatDB-10  DiaNat-DB  C=C(C)[C@@H]1CC[C@]2(C)CC[C@]3(C)[C@H](CC[C@@H...   \n",
              "2  DiaNatDB-100  DiaNat-DB  C=C(CC[C@@H](C)[C@H]1CC[C@@]2(C)C3CC[C@H]4C(C)...   \n",
              "\n",
              "   HBD  HBA    MolWt    LogP   TPSA  NumRotatableBonds  NumOxygens  \\\n",
              "0  4.0  4.0  174.152 -1.5162  97.99                1.0         5.0   \n",
              "1  1.0  1.0  426.729  8.0248  20.23                1.0         1.0   \n",
              "2  1.0  1.0  440.756  8.4149  20.23                5.0         1.0   \n",
              "\n",
              "   NumNitrogens  \n",
              "0           0.0  \n",
              "1           0.0  \n",
              "2           0.0  "
            ]
          },
          "execution_count": 62,
          "metadata": {},
          "output_type": "execute_result"
        }
      ],
      "source": [
        "### Apply per-row descriptor computation\n",
        "df_desc = df[COL_SMILES].astype(str).apply(compute_descriptors)\n",
        "df_final = pd.concat([df, df_desc], axis=1)\n",
        "\n",
        "descriptors_csv = OUTPUT_DIR/\"sidas_dianat_descriptors.csv\"\n",
        "df_final.to_csv(descriptors_csv, index=False)\n",
        "print(f\"Saved: {descriptors_csv}\")\n",
        "\n",
        "print(f\"After computing descriptors: {df_final.shape}\")\n",
        "df_final.head(3)"
      ]
    },
    {
      "cell_type": "markdown",
      "metadata": {},
      "source": [
        "### **3. PCA workflow overview**\n",
        "\n",
        "* Select only descriptor columns.\n",
        "* Standardize features (mean 0, variance 1).\n",
        "* Fit PCA and compute transformed components.\n",
        "* Inspect explained variance and visualize **PC1 vs. PC2**.\n",
        "\n",
        "#### **3.1 Build the feature matrix and labels**"
      ]
    },
    {
      "cell_type": "code",
      "execution_count": 63,
      "metadata": {},
      "outputs": [
        {
          "name": "stdout",
          "output_type": "stream",
          "text": [
            "Feature matrix shape: (612, 8)\n"
          ]
        },
        {
          "data": {
            "text/html": [
              "<div>\n",
              "<style scoped>\n",
              "    .dataframe tbody tr th:only-of-type {\n",
              "        vertical-align: middle;\n",
              "    }\n",
              "\n",
              "    .dataframe tbody tr th {\n",
              "        vertical-align: top;\n",
              "    }\n",
              "\n",
              "    .dataframe thead th {\n",
              "        text-align: right;\n",
              "    }\n",
              "</style>\n",
              "<table border=\"1\" class=\"dataframe\">\n",
              "  <thead>\n",
              "    <tr style=\"text-align: right;\">\n",
              "      <th></th>\n",
              "      <th>0</th>\n",
              "      <th>1</th>\n",
              "      <th>2</th>\n",
              "      <th>3</th>\n",
              "      <th>4</th>\n",
              "      <th>5</th>\n",
              "      <th>6</th>\n",
              "      <th>7</th>\n",
              "    </tr>\n",
              "  </thead>\n",
              "  <tbody>\n",
              "    <tr>\n",
              "      <th>0</th>\n",
              "      <td>4.0</td>\n",
              "      <td>4.0</td>\n",
              "      <td>174.152</td>\n",
              "      <td>-1.5162</td>\n",
              "      <td>97.99</td>\n",
              "      <td>1.0</td>\n",
              "      <td>5.0</td>\n",
              "      <td>0.0</td>\n",
              "    </tr>\n",
              "    <tr>\n",
              "      <th>1</th>\n",
              "      <td>1.0</td>\n",
              "      <td>1.0</td>\n",
              "      <td>426.729</td>\n",
              "      <td>8.0248</td>\n",
              "      <td>20.23</td>\n",
              "      <td>1.0</td>\n",
              "      <td>1.0</td>\n",
              "      <td>0.0</td>\n",
              "    </tr>\n",
              "    <tr>\n",
              "      <th>2</th>\n",
              "      <td>1.0</td>\n",
              "      <td>1.0</td>\n",
              "      <td>440.756</td>\n",
              "      <td>8.4149</td>\n",
              "      <td>20.23</td>\n",
              "      <td>5.0</td>\n",
              "      <td>1.0</td>\n",
              "      <td>0.0</td>\n",
              "    </tr>\n",
              "  </tbody>\n",
              "</table>\n",
              "</div>"
            ],
            "text/plain": [
              "     0    1        2       3      4    5    6    7\n",
              "0  4.0  4.0  174.152 -1.5162  97.99  1.0  5.0  0.0\n",
              "1  1.0  1.0  426.729  8.0248  20.23  1.0  1.0  0.0\n",
              "2  1.0  1.0  440.756  8.4149  20.23  5.0  1.0  0.0"
            ]
          },
          "execution_count": 63,
          "metadata": {},
          "output_type": "execute_result"
        }
      ],
      "source": [
        "feature_matrix = df_final[DESC_COLS].to_numpy(dtype=float) # Feature matrix for PCA\n",
        "labels = df_final[[COL_DATASET, COL_ID, COL_SMILES]].copy()  # Labels for reference\n",
        "\n",
        "print(f\"Feature matrix shape: {feature_matrix.shape}\")\n",
        "\n",
        "pd.DataFrame(feature_matrix).head(3)"
      ]
    },
    {
      "cell_type": "markdown",
      "metadata": {},
      "source": [
        "#### **3.2. Standardize and fit PCA**\n",
        "Standardize features before PCA. Compute the first 3 components for potential 3D use and a full PCA for variance plots."
      ]
    },
    {
      "cell_type": "code",
      "execution_count": 64,
      "metadata": {},
      "outputs": [],
      "source": [
        "### Standardize and fit PCA\n",
        "scaler = StandardScaler()\n",
        "feature_matrix_std = scaler.fit_transform(feature_matrix)\n",
        "\n",
        "pca_3d = PCA(n_components=3, random_state=SEED)\n",
        "components_3d = pca_3d.fit_transform(feature_matrix_std)"
      ]
    },
    {
      "cell_type": "code",
      "execution_count": 65,
      "metadata": {},
      "outputs": [
        {
          "name": "stdout",
          "output_type": "stream",
          "text": [
            "Saved: ../results/outputs_pca/sidas_dianat_pca_3d.csv\n",
            "(612, 6)\n"
          ]
        },
        {
          "data": {
            "text/html": [
              "<div>\n",
              "<style scoped>\n",
              "    .dataframe tbody tr th:only-of-type {\n",
              "        vertical-align: middle;\n",
              "    }\n",
              "\n",
              "    .dataframe tbody tr th {\n",
              "        vertical-align: top;\n",
              "    }\n",
              "\n",
              "    .dataframe thead th {\n",
              "        text-align: right;\n",
              "    }\n",
              "</style>\n",
              "<table border=\"1\" class=\"dataframe\">\n",
              "  <thead>\n",
              "    <tr style=\"text-align: right;\">\n",
              "      <th></th>\n",
              "      <th>DATASET</th>\n",
              "      <th>ID</th>\n",
              "      <th>curated_smiles</th>\n",
              "      <th>PC1</th>\n",
              "      <th>PC2</th>\n",
              "      <th>PC3</th>\n",
              "    </tr>\n",
              "  </thead>\n",
              "  <tbody>\n",
              "    <tr>\n",
              "      <th>0</th>\n",
              "      <td>DiaNat-DB</td>\n",
              "      <td>DiaNatDB-1</td>\n",
              "      <td>O=C(O)C1=C[C@@H](O)[C@@H](O)[C@H](O)C1</td>\n",
              "      <td>-0.726505</td>\n",
              "      <td>-1.574555</td>\n",
              "      <td>-0.757983</td>\n",
              "    </tr>\n",
              "    <tr>\n",
              "      <th>1</th>\n",
              "      <td>DiaNat-DB</td>\n",
              "      <td>DiaNatDB-10</td>\n",
              "      <td>C=C(C)[C@@H]1CC[C@]2(C)CC[C@]3(C)[C@H](CC[C@@H...</td>\n",
              "      <td>-2.365329</td>\n",
              "      <td>1.453596</td>\n",
              "      <td>-0.424667</td>\n",
              "    </tr>\n",
              "    <tr>\n",
              "      <th>2</th>\n",
              "      <td>DiaNat-DB</td>\n",
              "      <td>DiaNatDB-100</td>\n",
              "      <td>C=C(CC[C@@H](C)[C@H]1CC[C@@]2(C)C3CC[C@H]4C(C)...</td>\n",
              "      <td>-2.184376</td>\n",
              "      <td>2.106328</td>\n",
              "      <td>-0.094654</td>\n",
              "    </tr>\n",
              "  </tbody>\n",
              "</table>\n",
              "</div>"
            ],
            "text/plain": [
              "     DATASET            ID                                     curated_smiles  \\\n",
              "0  DiaNat-DB    DiaNatDB-1             O=C(O)C1=C[C@@H](O)[C@@H](O)[C@H](O)C1   \n",
              "1  DiaNat-DB   DiaNatDB-10  C=C(C)[C@@H]1CC[C@]2(C)CC[C@]3(C)[C@H](CC[C@@H...   \n",
              "2  DiaNat-DB  DiaNatDB-100  C=C(CC[C@@H](C)[C@H]1CC[C@@]2(C)C3CC[C@H]4C(C)...   \n",
              "\n",
              "        PC1       PC2       PC3  \n",
              "0 -0.726505 -1.574555 -0.757983  \n",
              "1 -2.365329  1.453596 -0.424667  \n",
              "2 -2.184376  2.106328 -0.094654  "
            ]
          },
          "execution_count": 65,
          "metadata": {},
          "output_type": "execute_result"
        }
      ],
      "source": [
        "### Assemble a PCA results DataFrame\n",
        "pca_3d_df = labels.copy()\n",
        "pca_3d_df[['PC1', 'PC2', 'PC3']] = components_3d\n",
        "\n",
        "pca_3d_csv = OUTPUT_DIR/\"sidas_dianat_pca_3d.csv\"\n",
        "pca_3d_df.to_csv(pca_3d_csv, index=False)\n",
        "print(f\"Saved: {pca_3d_csv}\")\n",
        "print(pca_3d_df.shape)\n",
        "pca_3d_df.head(3)"
      ]
    },
    {
      "cell_type": "markdown",
      "metadata": {},
      "source": [
        "#### **3.3. Explained variance (individual and cumulative plots)**\n",
        "Compute explained variance ratios for all components to decide how many PCs are **informative enough**."
      ]
    },
    {
      "cell_type": "code",
      "execution_count": 66,
      "metadata": {},
      "outputs": [
        {
          "name": "stdout",
          "output_type": "stream",
          "text": [
            "PC1 variance: 60.58%\n",
            "PC2 variance: 18.04%\n"
          ]
        },
        {
          "data": {
            "image/png": "[encoded data removed]",
            "text/plain": [
              "<Figure size 700x500 with 1 Axes>"
            ]
          },
          "metadata": {},
          "output_type": "display_data"
        }
      ],
      "source": [
        "### Scree (individual) and cumulative variance plots\n",
        "pca_full = PCA(random_state=SEED)\n",
        "pca_full.fit(feature_matrix_std)\n",
        "\n",
        "exp_var = pca_full.explained_variance_ratio_\n",
        "cum_exp_var = np.cumsum(exp_var)\n",
        "\n",
        "plt.figure(figsize=(7, 5))\n",
        "plt.bar(range(1, len(exp_var) + 1), exp_var, alpha=0.7, label='Individual Explained Variance')\n",
        "plt.step(range(1, len(cum_exp_var) + 1), cum_exp_var, where='mid', label='Cumulative Explained Variance')\n",
        "plt.xlabel('Principal Component Index')\n",
        "plt.ylabel('Explained Variance Ratio')\n",
        "plt.legend(loc='best')\n",
        "plt.tight_layout()\n",
        "plt.savefig(OUTPUT_DIR/\"sidas_dianat_pca_explained_variance.png\", dpi=300)\n",
        "print(f\"PC1 variance: {exp_var[0]*100:.2f}%\")\n",
        "print(f\"PC2 variance: {exp_var[1]*100:.2f}%\")\n",
        "plt.show()"
      ]
    },
    {
      "cell_type": "markdown",
      "metadata": {},
      "source": [
        "### **4. Interactive PCA scatter**\n",
        "Points are colored by dataset. Hover to see ID. Axis titles include the actual explained variance."
      ]
    },
    {
      "cell_type": "code",
      "execution_count": 71,
      "metadata": {},
      "outputs": [
        {
          "name": "stdout",
          "output_type": "stream",
          "text": [
            "Saved: ../results/outputs_pca/sidas_dianat_pca_all.png\n"
          ]
        },
        {
          "data": {
            "application/vnd.plotly.v1+json": {
              "config": {
                "plotlyServerURL": "https://plot.ly"
              },
              "data": [
                {
                  "customdata": [
                    [
                      "DiaNatDB-1"
                    ],
                    [
                      "DiaNatDB-10"
                    ],
                    [
                      "DiaNatDB-100"
                    ],
                    [
                      "DiaNatDB-101"
                    ],
                    [
                      "DiaNatDB-102"
                    ],
                    [
                      "DiaNatDB-103"
                    ],
                    [
                      "DiaNatDB-104"
                    ],
                    [
                      "DiaNatDB-105"
                    ],
                    [
                      "DiaNatDB-106"
                    ],
                    [
                      "DiaNatDB-107"
                    ],
                    [
                      "DiaNatDB-108"
                    ],
                    [
                      "DiaNatDB-109"
                    ],
                    [
                      "DiaNatDB-11"
                    ],
                    [
                      "DiaNatDB-110"
                    ],
                    [
                      "DiaNatDB-111"
                    ],
                    [
                      "DiaNatDB-112"
                    ],
                    [
                      "DiaNatDB-113"
                    ],
                    [
                      "DiaNatDB-114"
                    ],
                    [
                      "DiaNatDB-115"
                    ],
                    [
                      "DiaNatDB-116"
                    ],
                    [
                      "DiaNatDB-117"
                    ],
                    [
                      "DiaNatDB-118"
                    ],
                    [
                      "DiaNatDB-119"
                    ],
                    [
                      "DiaNatDB-120"
                    ],
                    [
                      "DiaNatDB-121"
                    ],
                    [
                      "DiaNatDB-122"
                    ],
                    [
                      "DiaNatDB-123"
                    ],
                    [
                      "DiaNatDB-124"
                    ],
                    [
                      "DiaNatDB-125"
                    ],
                    [
                      "DiaNatDB-126"
                    ],
                    [
                      "DiaNatDB-127"
                    ],
                    [
                      "DiaNatDB-128"
                    ],
                    [
                      "DiaNatDB-129"
                    ],
                    [
                      "DiaNatDB-13"
                    ],
                    [
                      "DiaNatDB-130"
                    ],
                    [
                      "DiaNatDB-131"
                    ],
                    [
                      "DiaNatDB-132"
                    ],
                    [
                      "DiaNatDB-133"
                    ],
                    [
                      "DiaNatDB-134"
                    ],
                    [
                      "DiaNatDB-135"
                    ],
                    [
                      "DiaNatDB-136"
                    ],
                    [
                      "DiaNatDB-137"
                    ],
                    [
                      "DiaNatDB-138"
                    ],
                    [
                      "DiaNatDB-139"
                    ],
                    [
                      "DiaNatDB-14"
                    ],
                    [
                      "DiaNatDB-140"
                    ],
                    [
                      "DiaNatDB-141"
                    ],
                    [
                      "DiaNatDB-142"
                    ],
                    [
                      "DiaNatDB-143"
                    ],
                    [
                      "DiaNatDB-144"
                    ],
                    [
                      "DiaNatDB-145"
                    ],
                    [
                      "DiaNatDB-146"
                    ],
                    [
                      "DiaNatDB-147"
                    ],
                    [
                      "DiaNatDB-148"
                    ],
                    [
                      "DiaNatDB-149"
                    ],
                    [
                      "DiaNatDB-15"
                    ],
                    [
                      "DiaNatDB-150"
                    ],
                    [
                      "DiaNatDB-151"
                    ],
                    [
                      "DiaNatDB-152"
                    ],
                    [
                      "DiaNatDB-153"
                    ],
                    [
                      "DiaNatDB-154"
                    ],
                    [
                      "DiaNatDB-155"
                    ],
                    [
                      "DiaNatDB-156"
                    ],
                    [
                      "DiaNatDB-157"
                    ],
                    [
                      "DiaNatDB-158"
                    ],
                    [
                      "DiaNatDB-159"
                    ],
                    [
                      "DiaNatDB-16"
                    ],
                    [
                      "DiaNatDB-160"
                    ],
                    [
                      "DiaNatDB-161"
                    ],
                    [
                      "DiaNatDB-162"
                    ],
                    [
                      "DiaNatDB-163"
                    ],
                    [
                      "DiaNatDB-164"
                    ],
                    [
                      "DiaNatDB-165"
                    ],
                    [
                      "DiaNatDB-166"
                    ],
                    [
                      "DiaNatDB-167"
                    ],
                    [
                      "DiaNatDB-168"
                    ],
                    [
                      "DiaNatDB-169"
                    ],
                    [
                      "DiaNatDB-17"
                    ],
                    [
                      "DiaNatDB-170"
                    ],
                    [
                      "DiaNatDB-171"
                    ],
                    [
                      "DiaNatDB-172"
                    ],
                    [
                      "DiaNatDB-173"
                    ],
                    [
                      "DiaNatDB-174"
                    ],
                    [
                      "DiaNatDB-175"
                    ],
                    [
                      "DiaNatDB-176"
                    ],
                    [
                      "DiaNatDB-177"
                    ],
                    [
                      "DiaNatDB-178"
                    ],
                    [
                      "DiaNatDB-179"
                    ],
                    [
                      "DiaNatDB-18"
                    ],
                    [
                      "DiaNatDB-180"
                    ],
                    [
                      "DiaNatDB-181"
                    ],
                    [
                      "DiaNatDB-182"
                    ],
                    [
                      "DiaNatDB-183"
                    ],
                    [
                      "DiaNatDB-184"
                    ],
                    [
                      "DiaNatDB-185"
                    ],
                    [
                      "DiaNatDB-186"
                    ],
                    [
                      "DiaNatDB-187"
                    ],
                    [
                      "DiaNatDB-188"
                    ],
                    [
                      "DiaNatDB-189"
                    ],
                    [
                      "DiaNatDB-19"
                    ],
                    [
                      "DiaNatDB-190"
                    ],
                    [
                      "DiaNatDB-191"
                    ],
                    [
                      "DiaNatDB-192"
                    ],
                    [
                      "DiaNatDB-193"
                    ],
                    [
                      "DiaNatDB-194"
                    ],
                    [
                      "DiaNatDB-195"
                    ],
                    [
                      "DiaNatDB-196"
                    ],
                    [
                      "DiaNatDB-197"
                    ],
                    [
                      "DiaNatDB-198"
                    ],
                    [
                      "DiaNatDB-199"
                    ],
                    [
                      "DiaNatDB-2"
                    ],
                    [
                      "DiaNatDB-20"
                    ],
                    [
                      "DiaNatDB-200"
                    ],
                    [
                      "DiaNatDB-201"
                    ],
                    [
                      "DiaNatDB-202"
                    ],
                    [
                      "DiaNatDB-203"
                    ],
                    [
                      "DiaNatDB-204"
                    ],
                    [
                      "DiaNatDB-205"
                    ],
                    [
                      "DiaNatDB-206"
                    ],
                    [
                      "DiaNatDB-207"
                    ],
                    [
                      "DiaNatDB-208"
                    ],
                    [
                      "DiaNatDB-209"
                    ],
                    [
                      "DiaNatDB-21"
                    ],
                    [
                      "DiaNatDB-210"
                    ],
                    [
                      "DiaNatDB-211"
                    ],
                    [
                      "DiaNatDB-212"
                    ],
                    [
                      "DiaNatDB-213"
                    ],
                    [
                      "DiaNatDB-214"
                    ],
                    [
                      "DiaNatDB-215"
                    ],
                    [
                      "DiaNatDB-216"
                    ],
                    [
                      "DiaNatDB-217"
                    ],
                    [
                      "DiaNatDB-218"
                    ],
                    [
                      "DiaNatDB-219"
                    ],
                    [
                      "DiaNatDB-22"
                    ],
                    [
                      "DiaNatDB-220"
                    ],
                    [
                      "DiaNatDB-221"
                    ],
                    [
                      "DiaNatDB-222"
                    ],
                    [
                      "DiaNatDB-223"
                    ],
                    [
                      "DiaNatDB-224"
                    ],
                    [
                      "DiaNatDB-225"
                    ],
                    [
                      "DiaNatDB-226"
                    ],
                    [
                      "DiaNatDB-227"
                    ],
                    [
                      "DiaNatDB-228"
                    ],
                    [
                      "DiaNatDB-229"
                    ],
                    [
                      "DiaNatDB-23"
                    ],
                    [
                      "DiaNatDB-230"
                    ],
                    [
                      "DiaNatDB-231"
                    ],
                    [
                      "DiaNatDB-232"
                    ],
                    [
                      "DiaNatDB-233"
                    ],
                    [
                      "DiaNatDB-234"
                    ],
                    [
                      "DiaNatDB-235"
                    ],
                    [
                      "DiaNatDB-236"
                    ],
                    [
                      "DiaNatDB-237"
                    ],
                    [
                      "DiaNatDB-238"
                    ],
                    [
                      "DiaNatDB-239"
                    ],
                    [
                      "DiaNatDB-24"
                    ],
                    [
                      "DiaNatDB-240"
                    ],
                    [
                      "DiaNatDB-241"
                    ],
                    [
                      "DiaNatDB-242"
                    ],
                    [
                      "DiaNatDB-243"
                    ],
                    [
                      "DiaNatDB-244"
                    ],
                    [
                      "DiaNatDB-245"
                    ],
                    [
                      "DiaNatDB-246"
                    ],
                    [
                      "DiaNatDB-248"
                    ],
                    [
                      "DiaNatDB-249"
                    ],
                    [
                      "DiaNatDB-25"
                    ],
                    [
                      "DiaNatDB-250"
                    ],
                    [
                      "DiaNatDB-251"
                    ],
                    [
                      "DiaNatDB-252"
                    ],
                    [
                      "DiaNatDB-253"
                    ],
                    [
                      "DiaNatDB-254"
                    ],
                    [
                      "DiaNatDB-255"
                    ],
                    [
                      "DiaNatDB-256"
                    ],
                    [
                      "DiaNatDB-257"
                    ],
                    [
                      "DiaNatDB-258"
                    ],
                    [
                      "DiaNatDB-259"
                    ],
                    [
                      "DiaNatDB-26"
                    ],
                    [
                      "DiaNatDB-260"
                    ],
                    [
                      "DiaNatDB-261"
                    ],
                    [
                      "DiaNatDB-262"
                    ],
                    [
                      "DiaNatDB-263"
                    ],
                    [
                      "DiaNatDB-264"
                    ],
                    [
                      "DiaNatDB-265"
                    ],
                    [
                      "DiaNatDB-266"
                    ],
                    [
                      "DiaNatDB-267"
                    ],
                    [
                      "DiaNatDB-268"
                    ],
                    [
                      "DiaNatDB-269"
                    ],
                    [
                      "DiaNatDB-27"
                    ],
                    [
                      "DiaNatDB-270"
                    ],
                    [
                      "DiaNatDB-271"
                    ],
                    [
                      "DiaNatDB-272"
                    ],
                    [
                      "DiaNatDB-273"
                    ],
                    [
                      "DiaNatDB-274"
                    ],
                    [
                      "DiaNatDB-275"
                    ],
                    [
                      "DiaNatDB-276"
                    ],
                    [
                      "DiaNatDB-277"
                    ],
                    [
                      "DiaNatDB-278"
                    ],
                    [
                      "DiaNatDB-279"
                    ],
                    [
                      "DiaNatDB-28"
                    ],
                    [
                      "DiaNatDB-280"
                    ],
                    [
                      "DiaNatDB-281"
                    ],
                    [
                      "DiaNatDB-282"
                    ],
                    [
                      "DiaNatDB-283"
                    ],
                    [
                      "DiaNatDB-284"
                    ],
                    [
                      "DiaNatDB-285"
                    ],
                    [
                      "DiaNatDB-286"
                    ],
                    [
                      "DiaNatDB-287"
                    ],
                    [
                      "DiaNatDB-288"
                    ],
                    [
                      "DiaNatDB-289"
                    ],
                    [
                      "DiaNatDB-29"
                    ],
                    [
                      "DiaNatDB-290"
                    ],
                    [
                      "DiaNatDB-291"
                    ],
                    [
                      "DiaNatDB-292"
                    ],
                    [
                      "DiaNatDB-293"
                    ],
                    [
                      "DiaNatDB-294"
                    ],
                    [
                      "DiaNatDB-295"
                    ],
                    [
                      "DiaNatDB-296"
                    ],
                    [
                      "DiaNatDB-297"
                    ],
                    [
                      "DiaNatDB-298"
                    ],
                    [
                      "DiaNatDB-299"
                    ],
                    [
                      "DiaNatDB-3"
                    ],
                    [
                      "DiaNatDB-30"
                    ],
                    [
                      "DiaNatDB-300"
                    ],
                    [
                      "DiaNatDB-301"
                    ],
                    [
                      "DiaNatDB-302"
                    ],
                    [
                      "DiaNatDB-303"
                    ],
                    [
                      "DiaNatDB-304"
                    ],
                    [
                      "DiaNatDB-305"
                    ],
                    [
                      "DiaNatDB-306"
                    ],
                    [
                      "DiaNatDB-307"
                    ],
                    [
                      "DiaNatDB-308"
                    ],
                    [
                      "DiaNatDB-309"
                    ],
                    [
                      "DiaNatDB-31"
                    ],
                    [
                      "DiaNatDB-310"
                    ],
                    [
                      "DiaNatDB-311"
                    ],
                    [
                      "DiaNatDB-312"
                    ],
                    [
                      "DiaNatDB-313"
                    ],
                    [
                      "DiaNatDB-314"
                    ],
                    [
                      "DiaNatDB-315"
                    ],
                    [
                      "DiaNatDB-316"
                    ],
                    [
                      "DiaNatDB-317"
                    ],
                    [
                      "DiaNatDB-318"
                    ],
                    [
                      "DiaNatDB-319"
                    ],
                    [
                      "DiaNatDB-32"
                    ],
                    [
                      "DiaNatDB-320"
                    ],
                    [
                      "DiaNatDB-321"
                    ],
                    [
                      "DiaNatDB-322"
                    ],
                    [
                      "DiaNatDB-323"
                    ],
                    [
                      "DiaNatDB-324"
                    ],
                    [
                      "DiaNatDB-325"
                    ],
                    [
                      "DiaNatDB-326"
                    ],
                    [
                      "DiaNatDB-327"
                    ],
                    [
                      "DiaNatDB-328"
                    ],
                    [
                      "DiaNatDB-329"
                    ],
                    [
                      "DiaNatDB-33"
                    ],
                    [
                      "DiaNatDB-330"
                    ],
                    [
                      "DiaNatDB-331"
                    ],
                    [
                      "DiaNatDB-332"
                    ],
                    [
                      "DiaNatDB-333"
                    ],
                    [
                      "DiaNatDB-334"
                    ],
                    [
                      "DiaNatDB-335"
                    ],
                    [
                      "DiaNatDB-336"
                    ],
                    [
                      "DiaNatDB-337"
                    ],
                    [
                      "DiaNatDB-338"
                    ],
                    [
                      "DiaNatDB-339"
                    ],
                    [
                      "DiaNatDB-34"
                    ],
                    [
                      "DiaNatDB-340"
                    ],
                    [
                      "DiaNatDB-35"
                    ],
                    [
                      "DiaNatDB-36"
                    ],
                    [
                      "DiaNatDB-37"
                    ],
                    [
                      "DiaNatDB-38"
                    ],
                    [
                      "DiaNatDB-39"
                    ],
                    [
                      "DiaNatDB-40"
                    ],
                    [
                      "DiaNatDB-41"
                    ],
                    [
                      "DiaNatDB-42"
                    ],
                    [
                      "DiaNatDB-43"
                    ],
                    [
                      "DiaNatDB-44"
                    ],
                    [
                      "DiaNatDB-45"
                    ],
                    [
                      "DiaNatDB-46"
                    ],
                    [
                      "DiaNatDB-47"
                    ],
                    [
                      "DiaNatDB-48"
                    ],
                    [
                      "DiaNatDB-49"
                    ],
                    [
                      "DiaNatDB-5"
                    ],
                    [
                      "DiaNatDB-50"
                    ],
                    [
                      "DiaNatDB-51"
                    ],
                    [
                      "DiaNatDB-52"
                    ],
                    [
                      "DiaNatDB-53"
                    ],
                    [
                      "DiaNatDB-54"
                    ],
                    [
                      "DiaNatDB-55"
                    ],
                    [
                      "DiaNatDB-56"
                    ],
                    [
                      "DiaNatDB-57"
                    ],
                    [
                      "DiaNatDB-59"
                    ],
                    [
                      "DiaNatDB-6"
                    ],
                    [
                      "DiaNatDB-60"
                    ],
                    [
                      "DiaNatDB-61"
                    ],
                    [
                      "DiaNatDB-62"
                    ],
                    [
                      "DiaNatDB-63"
                    ],
                    [
                      "DiaNatDB-64"
                    ],
                    [
                      "DiaNatDB-65"
                    ],
                    [
                      "DiaNatDB-66"
                    ],
                    [
                      "DiaNatDB-67"
                    ],
                    [
                      "DiaNatDB-68"
                    ],
                    [
                      "DiaNatDB-69"
                    ],
                    [
                      "DiaNatDB-7"
                    ],
                    [
                      "DiaNatDB-70"
                    ],
                    [
                      "DiaNatDB-71"
                    ],
                    [
                      "DiaNatDB-72"
                    ],
                    [
                      "DiaNatDB-73"
                    ],
                    [
                      "DiaNatDB-74"
                    ],
                    [
                      "DiaNatDB-75"
                    ],
                    [
                      "DiaNatDB-76"
                    ],
                    [
                      "DiaNatDB-77"
                    ],
                    [
                      "DiaNatDB-78"
                    ],
                    [
                      "DiaNatDB-79"
                    ],
                    [
                      "DiaNatDB-8"
                    ],
                    [
                      "DiaNatDB-80"
                    ],
                    [
                      "DiaNatDB-81"
                    ],
                    [
                      "DiaNatDB-82"
                    ],
                    [
                      "DiaNatDB-83"
                    ],
                    [
                      "DiaNatDB-84"
                    ],
                    [
                      "DiaNatDB-85"
                    ],
                    [
                      "DiaNatDB-86"
                    ],
                    [
                      "DiaNatDB-87"
                    ],
                    [
                      "DiaNatDB-88"
                    ],
                    [
                      "DiaNatDB-89"
                    ],
                    [
                      "DiaNatDB-9"
                    ],
                    [
                      "DiaNatDB-90"
                    ],
                    [
                      "DiaNatDB-91"
                    ],
                    [
                      "DiaNatDB-92"
                    ],
                    [
                      "DiaNatDB-93"
                    ],
                    [
                      "DiaNatDB-94"
                    ],
                    [
                      "DiaNatDB-95"
                    ],
                    [
                      "DiaNatDB-96"
                    ],
                    [
                      "DiaNatDB-97"
                    ],
                    [
                      "DiaNatDB-98"
                    ],
                    [
                      "DiaNatDB-99"
                    ]
                  ],
                  "hovertemplate": "DATASET=DiaNat-DB<br>PC1=%{x}<br>PC2=%{y}<br>ID=%{customdata[0]}<extra></extra>",
                  "legendgroup": "DiaNat-DB",
                  "marker": {
                    "color": "#979745",
                    "size": 10,
                    "symbol": "circle"
                  },
                  "mode": "markers",
                  "name": "DiaNat-DB",
                  "orientation": "v",
                  "showlegend": true,
                  "type": "scatter",
                  "x": {
                    "bdata": "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",
                    "dtype": "f8"
                  },
                  "xaxis": "x",
                  "y": {
                    "bdata": "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",
                    "dtype": "f8"
                  },
                  "yaxis": "y"
                },
                {
                  "customdata": [
                    [
                      "162866484"
                    ],
                    [
                      "5282102"
                    ],
                    [
                      "447791"
                    ],
                    [
                      "311"
                    ],
                    [
                      "5793"
                    ],
                    [
                      "441574"
                    ],
                    [
                      "23642717"
                    ],
                    [
                      "163033482"
                    ],
                    [
                      "439341"
                    ],
                    [
                      "444539"
                    ],
                    [
                      "102430"
                    ],
                    [
                      "129847920"
                    ],
                    [
                      "11354754"
                    ],
                    [
                      "5274625"
                    ],
                    [
                      "57172986"
                    ],
                    [
                      "11953803"
                    ],
                    [
                      "5320006"
                    ],
                    [
                      "323"
                    ],
                    [
                      "6441104"
                    ],
                    [
                      "11692717"
                    ],
                    [
                      "8103"
                    ],
                    [
                      "10508776"
                    ],
                    [
                      "12088"
                    ],
                    [
                      "163195750"
                    ],
                    [
                      "44552029"
                    ],
                    [
                      "44552030"
                    ],
                    [
                      "798"
                    ],
                    [
                      "12097"
                    ],
                    [
                      "107526"
                    ],
                    [
                      "12799212"
                    ],
                    [
                      "479957"
                    ],
                    [
                      "11194416"
                    ],
                    [
                      "1711945"
                    ],
                    [
                      "102239783"
                    ],
                    [
                      "5280536"
                    ],
                    [
                      "128853"
                    ],
                    [
                      "5466138"
                    ],
                    [
                      "636576"
                    ],
                    [
                      "163057526"
                    ],
                    [
                      "78162875"
                    ],
                    [
                      "101182982"
                    ],
                    [
                      "101204053"
                    ],
                    [
                      "5460372"
                    ],
                    [
                      "440835"
                    ],
                    [
                      "5320834"
                    ],
                    [
                      "1183"
                    ],
                    [
                      "5468749"
                    ],
                    [
                      "10630882"
                    ],
                    [
                      "5280379"
                    ],
                    [
                      "10582821"
                    ],
                    [
                      "162957279"
                    ],
                    [
                      "10256"
                    ],
                    [
                      "162972958"
                    ],
                    [
                      "440265"
                    ],
                    [
                      "14681438"
                    ],
                    [
                      "101204054"
                    ],
                    [
                      "5281647"
                    ],
                    [
                      "28619"
                    ],
                    [
                      "996"
                    ],
                    [
                      "73172655"
                    ],
                    [
                      "129881889"
                    ],
                    [
                      "25310"
                    ],
                    [
                      "10187514"
                    ],
                    [
                      "21579640"
                    ],
                    [
                      "11072668"
                    ],
                    [
                      "9978316"
                    ],
                    [
                      "14340"
                    ],
                    [
                      "72732"
                    ],
                    [
                      "85524814"
                    ],
                    [
                      "49831493"
                    ],
                    [
                      "10652163"
                    ],
                    [
                      "107557"
                    ],
                    [
                      "101114361"
                    ],
                    [
                      "2723872"
                    ],
                    [
                      "44577733"
                    ],
                    [
                      "162842866"
                    ],
                    [
                      "163047490"
                    ],
                    [
                      "3314"
                    ],
                    [
                      "8299"
                    ],
                    [
                      "14079"
                    ],
                    [
                      "10105245"
                    ],
                    [
                      "5281578"
                    ],
                    [
                      "163190248"
                    ],
                    [
                      "10262028"
                    ],
                    [
                      "3083616"
                    ],
                    [
                      "72751004"
                    ],
                    [
                      "135191"
                    ],
                    [
                      "119216"
                    ],
                    [
                      "10413856"
                    ],
                    [
                      "518900"
                    ],
                    [
                      "101286273"
                    ],
                    [
                      "328066"
                    ],
                    [
                      "10743"
                    ],
                    [
                      "373912"
                    ],
                    [
                      "632128"
                    ],
                    [
                      "162978216"
                    ],
                    [
                      "11079623"
                    ],
                    [
                      "8417"
                    ],
                    [
                      "7967"
                    ],
                    [
                      "24982202"
                    ],
                    [
                      "11277992"
                    ],
                    [
                      "163040205"
                    ],
                    [
                      "26339717"
                    ],
                    [
                      "522636"
                    ],
                    [
                      "442101"
                    ],
                    [
                      "7302"
                    ],
                    [
                      "10922890"
                    ],
                    [
                      "1549095"
                    ],
                    [
                      "135"
                    ],
                    [
                      "101114360"
                    ],
                    [
                      "10969116"
                    ],
                    [
                      "5318717"
                    ],
                    [
                      "101262727"
                    ],
                    [
                      "125213"
                    ],
                    [
                      "28516"
                    ],
                    [
                      "44578390"
                    ],
                    [
                      "119205"
                    ],
                    [
                      "538953"
                    ],
                    [
                      "10472650"
                    ],
                    [
                      "85091334"
                    ],
                    [
                      "10748"
                    ],
                    [
                      "46181828"
                    ],
                    [
                      "1548883"
                    ],
                    [
                      "5460657"
                    ],
                    [
                      "5281601"
                    ],
                    [
                      "100151"
                    ],
                    [
                      "42608087"
                    ],
                    [
                      "181681"
                    ],
                    [
                      "124222280"
                    ],
                    [
                      "65373"
                    ],
                    [
                      "7478"
                    ],
                    [
                      "44631546"
                    ],
                    [
                      "5274621"
                    ],
                    [
                      "6274"
                    ],
                    [
                      "12681283"
                    ],
                    [
                      "162904343"
                    ],
                    [
                      "439514"
                    ],
                    [
                      "441833"
                    ],
                    [
                      "1249"
                    ],
                    [
                      "73323377"
                    ],
                    [
                      "49831491"
                    ],
                    [
                      "14035324"
                    ],
                    [
                      "439246"
                    ],
                    [
                      "10252339"
                    ],
                    [
                      "74978075"
                    ],
                    [
                      "375713"
                    ],
                    [
                      "31242"
                    ],
                    [
                      "94225"
                    ],
                    [
                      "636543"
                    ],
                    [
                      "10255859"
                    ],
                    [
                      "10393"
                    ],
                    [
                      "384679"
                    ],
                    [
                      "3469"
                    ],
                    [
                      "6185"
                    ],
                    [
                      "10371536"
                    ],
                    [
                      "16077448"
                    ],
                    [
                      "6057"
                    ],
                    [
                      "10176654"
                    ],
                    [
                      "5281612"
                    ],
                    [
                      "13988634"
                    ],
                    [
                      "5320254"
                    ],
                    [
                      "162847751"
                    ],
                    [
                      "13245586"
                    ],
                    [
                      "163003716"
                    ],
                    [
                      "135542082"
                    ],
                    [
                      "5281321"
                    ],
                    [
                      "132966232"
                    ],
                    [
                      "179"
                    ],
                    [
                      "7438"
                    ],
                    [
                      "441644"
                    ],
                    [
                      "163062115"
                    ],
                    [
                      "101182983"
                    ],
                    [
                      "7156991"
                    ],
                    [
                      "7237"
                    ],
                    [
                      "13915427"
                    ],
                    [
                      "263"
                    ],
                    [
                      "446066"
                    ],
                    [
                      "92863445"
                    ],
                    [
                      "12580"
                    ],
                    [
                      "163195778"
                    ],
                    [
                      "2682"
                    ],
                    [
                      "13918554"
                    ],
                    [
                      "441765"
                    ],
                    [
                      "1174"
                    ],
                    [
                      "35698"
                    ],
                    [
                      "1140"
                    ],
                    [
                      "71403936"
                    ],
                    [
                      "525578"
                    ],
                    [
                      "3015413"
                    ],
                    [
                      "156741"
                    ],
                    [
                      "100914108"
                    ],
                    [
                      "54005211"
                    ],
                    [
                      "100955863"
                    ],
                    [
                      "22238"
                    ],
                    [
                      "162844792"
                    ],
                    [
                      "21742"
                    ]
                  ],
                  "hovertemplate": "DATASET=SG-accumulated<br>PC1=%{x}<br>PC2=%{y}<br>ID=%{customdata[0]}<extra></extra>",
                  "legendgroup": "SG-accumulated",
                  "marker": {
                    "color": "#304be3",
                    "size": 10,
                    "symbol": "circle"
                  },
                  "mode": "markers",
                  "name": "SG-accumulated",
                  "orientation": "v",
                  "showlegend": true,
                  "type": "scatter",
                  "x": {
                    "bdata": "0hqKkxS5BkBsyCrIe3oAQFSBj+SCw/A/80USvCFXwr/VIUklRNG7v7Wrw3tEjgLAT5TSYQyv978GwYlIVgjuv8RghX+ghgJA+k4CYR1IAsCod7j21U/rvzN3H6LgjvC/GfPUqvMl8j+GbTlxg7T3PxLJ6soIr6m/5P/btxVq6j9A91VZM0f5v58qyCwNtgPA5bJ+pVitCECG0+rvFafmv89OcDdwvgPAEymfSi0eFkCYCuZZb0f/vw2YfRpcSwXAMJKmjxndF0B//OEx9YwSQDKHCgMDdQjAcLbFijW8A8BjknQ03wLAP1qf+tGCFgDA+F3kUsqS+b9WD6GTwSH3v9s4ag6I0gLAtjBpbfLT8r/JLaDzX039v1EXrHUAJb8/ZvKgBfU837/kXctUtk7+v6+bC2YitgNA2hQBk4Jp6D9yNpjNI8MKQF43Laj9osS/oX+ojYUC8L81tBlODu7pP8jz6CdU7BNAseQQVidx/r8FbpkPmrvqv5sLJD0XmQHAkDFm0Nb33b+z41jzZMgEwIApnnZ2DgHAD+LCnbk+BcAhfNuurJQOQNo6ARrbDvy/v2365oeEAUDWoy2XgzXVPy50xXTENQFAAbDuhp/AA8CwVILzJDYFwJpmd8f5FPK/okC8VHX41z+zgeFEnVPmv0cLDljPsAxAUw6adOlAB0BMNOC2KYkZQIpHeoc0KPQ/j30AzQcz9r/wcKKTm5wAwAu7IVpC0ve/OBxIRGDzAUDRWSSOiVgIQP+dKvvTsP+/gqCDrrPiCEAvEQElINi7v7N8GO2a4/i/fRbp0yrtDUAWcQq29mvtv1nwYJGRcwHAOf+yT17sAcClHE+3W24FwPJXgyHK+fm/KC4IZRxt67+QoY/M2yYQQAxAFdiiJPe/z3XY/vZc9L/L/GqcUtjrv5m7kcjIbOa/X7M7LdC+979qldKjT94AQD+xp20t4P2/r1BsgGQQBEBk0cDsHpPxv4K+TGcXgfG/YGhD/2YSA8Bk8qAF9Tzfvzj1xSryBdO/fBEe2GsFwr9uYMfM+k78v/GY+/3sdwbA+ZvoRn5VAUCQ1GV3QXv2v6WPLqjYoBFAvUwo/kB6/z8J85kX10rdv2buoIerQO8/i3jjtGIZBMBKzVjC/zL6v/N8iRFIgvq/PmqGVv7B/b/gFfP4uJQDQBo5Wqdj5/W/WYaeGOkx+D/3Uau/cy3vP+48fxfvOPC/+santy1Q/7+5BFW2FbzSv/I1OLJMQd6/yLvk9h39AMCFMXfnJK/Vv++GWbvXawhAbO2VScXuAMBd8JlmXGkSQOs4sS2nD/e/gk5n1pZbs79sMTHOXOzyvxWY9bUBs5Y/pbZAh8jsA0CqFi47zbrSvyzfm5p9Tg5AvGULZI3XsD86bQgvuRIAwN4XNTiB3+y/a5sWzyVNB0AvP3kdbIf9v32dJISSxei/vplaAv8VEED5DYx4w3nqP/fdCAkk+PU/t0zpHfEt0z+yJxPR+FgQQBkmH+gjVANAqCze2FJYD0CKy8bCSL/sv324RnP2EQBA41rMOEkpD0D7V8xiSHTjP/akuUGusQTADxTUWzHuAcB2/NihrNLvP3KP3KEzWfi/MRtXI6L2/7/ZbjjOYn3Qv5x/l4j6z/W/K2rnSVB50L8a6OGPJZERQEkWqcPgpv8/RTMFwloA978CE9pb02v4vyatb/HJLeG/yPPoJ1TsE0CkjHpPThP9Py5hRYc02Ny/oQVdq8NBA0B7xAuqwa0FQLBFsKT49PC/0k9d0GS22z81M+qXJqn5v8Dwxm4T5gHAuWeyOCtgBMCHzKnP2ssBwIyxX5oEgQRA0E2m/YB5D0BQDYKECPsCwPRNthwcDQnAvpZ2nmnB/L//LYrj2YAEwAb+9pQpzfM/L5ZyhsBw3L9ftaxreVAEwE96QmqJLwPA0+Xdtb/k/78k9P7zQEj5v9vz0j4O3xJAx4w3Ucn2AcD1uRdcVeUAwPoLmHshHgnAsIoQHJLp57+rR3I+BMQIwKsUGIf3Ffq/JtdWGLww6r8ZkbYbiwH7P0zdgvprJ/O/zKXS3gsN7r+WPci7LbIGwOsPbPC8a/2/Dt6bocGeAsA=",
                    "dtype": "f8"
                  },
                  "xaxis": "x",
                  "y": {
                    "bdata": "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",
                    "dtype": "f8"
                  },
                  "yaxis": "y"
                },
                {
                  "customdata": [
                    [
                      "5204"
                    ],
                    [
                      "442849"
                    ],
                    [
                      "21120946"
                    ],
                    [
                      "1054"
                    ],
                    [
                      "162912427"
                    ],
                    [
                      "162962930"
                    ],
                    [
                      "12303930"
                    ],
                    [
                      "162969771"
                    ],
                    [
                      "162961650"
                    ],
                    [
                      "16093748"
                    ],
                    [
                      "57006309"
                    ],
                    [
                      "7146"
                    ],
                    [
                      "444899"
                    ],
                    [
                      "10416"
                    ],
                    [
                      "112720"
                    ],
                    [
                      "163189932"
                    ],
                    [
                      "6734"
                    ],
                    [
                      "3084463"
                    ],
                    [
                      "5280934"
                    ],
                    [
                      "136085678"
                    ],
                    [
                      "8215"
                    ],
                    [
                      "9561835"
                    ],
                    [
                      "16441"
                    ],
                    [
                      "14091"
                    ],
                    [
                      "134781708"
                    ],
                    [
                      "15645217"
                    ]
                  ],
                  "hovertemplate": "DATASET=SR-accumulated<br>PC1=%{x}<br>PC2=%{y}<br>ID=%{customdata[0]}<extra></extra>",
                  "legendgroup": "SR-accumulated",
                  "marker": {
                    "color": "#19a3a6",
                    "size": 10,
                    "symbol": "circle"
                  },
                  "mode": "markers",
                  "name": "SR-accumulated",
                  "orientation": "v",
                  "showlegend": true,
                  "type": "scatter",
                  "x": {
                    "bdata": "Q9pjLX5N8r+NERKH3jT9v2/1qYixreO/rl7jWfI7978HDssmYCQNQKFCYlG6lvO/493uWGCI8D+0U8LA/gESQI4xIDR1sbU/lsj06CpY+j+GaXxecZwDwLmAzz2wagXASuvGEX+U+7/cNCTiaf37vyal7gBMGwHAFPn5tYLK9L98L42JWpoIwIlECKStS+S/GXjwrVCO/L9gXpGOScADwLNmasmk4/e/7Hb3A2U28r8G35w0zWoFwKlswvN1OAjAYvRvgMWi6r+r0lSv9GMIwA==",
                    "dtype": "f8"
                  },
                  "xaxis": "x",
                  "y": {
                    "bdata": "o10GkvJ70D8HyPXrk1r0v3/lX5+RqwRACf5lnxiG97+cjQXSXmHSP+fINxB8Y9O/H80ZArlKyj8GyaTBm9/iP43HE2QrS+A/go9HbMO98j/l8JB92N7AvymwDzmCEte/8ea8P1T4A0B4iH1UoOsCQN1JyfCPi/m/RKBsYSvuBEAxaj+FqEHVvwU44nqPIANAI6yt4j1xAUBquvwZ7574v0kGb6tHGA5AbTS/1hygA0AFpluGkgnLv9Yzcb0Fd7q/9oVbuwOTBkDhHy09L/mNPw==",
                    "dtype": "f8"
                  },
                  "yaxis": "y"
                },
                {
                  "customdata": [
                    [
                      "11060391"
                    ],
                    [
                      "338"
                    ],
                    [
                      "439944"
                    ],
                    [
                      "45273405"
                    ],
                    [
                      "12313704"
                    ],
                    [
                      "5491693"
                    ],
                    [
                      "133551"
                    ],
                    [
                      "25021697"
                    ],
                    [
                      "100967916"
                    ],
                    [
                      "90657201"
                    ],
                    [
                      "162999405"
                    ],
                    [
                      "10023166"
                    ],
                    [
                      "123908"
                    ],
                    [
                      "10603919"
                    ],
                    [
                      "286498"
                    ],
                    [
                      "5274626"
                    ],
                    [
                      "15767724"
                    ],
                    [
                      "5281119"
                    ],
                    [
                      "163106470"
                    ],
                    [
                      "163189360"
                    ],
                    [
                      "9930500"
                    ],
                    [
                      "14887607"
                    ],
                    [
                      "5490334"
                    ],
                    [
                      "14055737"
                    ],
                    [
                      "73207"
                    ],
                    [
                      "638014"
                    ],
                    [
                      "22236717"
                    ],
                    [
                      "15559735"
                    ],
                    [
                      "5487855"
                    ],
                    [
                      "6436348"
                    ],
                    [
                      "5319474"
                    ],
                    [
                      "163020497"
                    ],
                    [
                      "44178847"
                    ],
                    [
                      "162887874"
                    ],
                    [
                      "65064"
                    ],
                    [
                      "44566911"
                    ],
                    [
                      "73193"
                    ],
                    [
                      "5281702"
                    ],
                    [
                      "5281676"
                    ],
                    [
                      "44260032"
                    ],
                    [
                      "1742210"
                    ],
                    [
                      "1203"
                    ],
                    [
                      "101607227"
                    ],
                    [
                      "162957786"
                    ],
                    [
                      "19309"
                    ],
                    [
                      "62465"
                    ],
                    [
                      "24796850"
                    ],
                    [
                      "101248984"
                    ],
                    [
                      "11167374"
                    ],
                    [
                      "2371"
                    ],
                    [
                      "10494"
                    ],
                    [
                      "107876"
                    ],
                    [
                      "19844"
                    ],
                    [
                      "14707301"
                    ]
                  ],
                  "hovertemplate": "DATASET=SH-accumulated<br>PC1=%{x}<br>PC2=%{y}<br>ID=%{customdata[0]}<extra></extra>",
                  "legendgroup": "SH-accumulated",
                  "marker": {
                    "color": "#4AB82B",
                    "size": 10,
                    "symbol": "circle"
                  },
                  "mode": "markers",
                  "name": "SH-accumulated",
                  "orientation": "v",
                  "showlegend": true,
                  "type": "scatter",
                  "x": {
                    "bdata": "NoSSzHeK1j8+aoZW/sH9v2gQBNlNe+A/BaHKxS+14L9ILo93a6H8v2zIKsh7egBAn2IYzrLDzb9SWZsp88vVPyS2ONGPn8M/oSDLiIOR/j9lVpkquUn+Pw25qa6WRuo/DY9g+Qiw2T8VL5TdUUy2PzA1sWgJ3dE/gJ86CggNqL/iG8YGmF3TP7WRQ+bzgf6/EtUFCNAlCkBoqEqwgr7uv8743llbAty/pSdJHRT7BEAS1QUI0CUKQC2UQGUXSrA/hjF35ySv1b8I8tExkVgFwNtgGYxwjAPAh1mfeJqi8T9Q4ZqSqULIv4g6ThBZAAbA52LyihRl+L9eKBF9gWUMQG59k2UnDvO/G0MBZ+7kBEDTbgUVJW0AQGZ9AiO2hQFA9EqQ0zHQ4L9O4ZqSqULIvwHyiKDUMcQ/5sgqynjW+T9fYNs5VvUFwJu7pDM8NMm/VD7stZBR0L+EGOx9z5z3P1qf+tGCFgDAwWeHXmbqAcBfNaiDRaLGP6h5DubAUaS/wc9gdStp8L8RY9XQB/n4v37+fNXl1fm/fVDXjo18CUDqyUq+mo/5v6locuGaGO+/",
                    "dtype": "f8"
                  },
                  "xaxis": "x",
                  "y": {
                    "bdata": "uLdEpIGL5T8Yp/PC+4Trv3MnE+DyK/q/L8Hl1oIl9D8Yiw/nUh71P0SMIglmnuW/cjbVGBRaAkBmkSisB5X4vynNOG3HnQJAdBsbjMtP2L+Aizc9bojNPx4hk0Fx1OC/b+CCHV1/9L/+yCr2BwUAQF9Oz0Gvdt8/uFPbNRLj/T+IjXNcJ0AAQA5tHlEixvg/ZyDlniGl7L/V0FtbmKbov5qtu5Wf0vW/b526iAlq3r9oIOWeIaXsvw8qiQ+0nd0/betYivwG0T8dNC/pnOvCP7GnGMaSHOI/NCz4sjvT67/kGRG9P2Cev2U2KSTJDLk/dGoEcBfs4L/agr3nncXwv+6i6a9jGvM/3SjI+vB16L+7xmy42QPRv6i5PzWyduG/Ikf4sUUI5D9EGhG9P2Cev0mK5raGJ8I/8Y/u6jCW4L9B9FaJ7hF+PyyIgjg20ea/Mt1kCVRr5z+Q8STHbA/iP1n+UFrBmvC/x+GfQNE12r+tU05kFu/tPzevNFRPuu0/Q7S8Vp3n8D8fBoDPdhv1P1CN1itThPM/muezDXU5tz8+u5Hc4czivxEtZvrAfvI/",
                    "dtype": "f8"
                  },
                  "yaxis": "y"
                }
              ],
              "layout": {
                "height": 800,
                "legend": {
                  "title": {
                    "text": "Dataset"
                  },
                  "tracegroupgap": 0
                },
                "margin": {
                  "t": 60
                },
                "paper_bgcolor": "white",
                "plot_bgcolor": "white",
                "showlegend": true,
                "template": {
                  "data": {
                    "bar": [
                      {
                        "error_x": {
                          "color": "#2a3f5f"
                        },
                        "error_y": {
                          "color": "#2a3f5f"
                        },
                        "marker": {
                          "line": {
                            "color": "#E5ECF6",
                            "width": 0.5
                          },
                          "pattern": {
                            "fillmode": "overlay",
                            "size": 10,
                            "solidity": 0.2
                          }
                        },
                        "type": "bar"
                      }
                    ],
                    "barpolar": [
                      {
                        "marker": {
                          "line": {
                            "color": "#E5ECF6",
                            "width": 0.5
                          },
                          "pattern": {
                            "fillmode": "overlay",
                            "size": 10,
                            "solidity": 0.2
                          }
                        },
                        "type": "barpolar"
                      }
                    ],
                    "carpet": [
                      {
                        "aaxis": {
                          "endlinecolor": "#2a3f5f",
                          "gridcolor": "white",
                          "linecolor": "white",
                          "minorgridcolor": "white",
                          "startlinecolor": "#2a3f5f"
                        },
                        "baxis": {
                          "endlinecolor": "#2a3f5f",
                          "gridcolor": "white",
                          "linecolor": "white",
                          "minorgridcolor": "white",
                          "startlinecolor": "#2a3f5f"
                        },
                        "type": "carpet"
                      }
                    ],
                    "choropleth": [
                      {
                        "colorbar": {
                          "outlinewidth": 0,
                          "ticks": ""
                        },
                        "type": "choropleth"
                      }
                    ],
                    "contour": [
                      {
                        "colorbar": {
                          "outlinewidth": 0,
                          "ticks": ""
                        },
                        "colorscale": [
                          [
                            0,
                            "#0d0887"
                          ],
                          [
                            0.1111111111111111,
                            "#46039f"
                          ],
                          [
                            0.2222222222222222,
                            "#7201a8"
                          ],
                          [
                            0.3333333333333333,
                            "#9c179e"
                          ],
                          [
                            0.4444444444444444,
                            "#bd3786"
                          ],
                          [
                            0.5555555555555556,
                            "#d8576b"
                          ],
                          [
                            0.6666666666666666,
                            "#ed7953"
                          ],
                          [
                            0.7777777777777778,
                            "#fb9f3a"
                          ],
                          [
                            0.8888888888888888,
                            "#fdca26"
                          ],
                          [
                            1,
                            "#f0f921"
                          ]
                        ],
                        "type": "contour"
                      }
                    ],
                    "contourcarpet": [
                      {
                        "colorbar": {
                          "outlinewidth": 0,
                          "ticks": ""
                        },
                        "type": "contourcarpet"
                      }
                    ],
                    "heatmap": [
                      {
                        "colorbar": {
                          "outlinewidth": 0,
                          "ticks": ""
                        },
                        "colorscale": [
                          [
                            0,
                            "#0d0887"
                          ],
                          [
                            0.1111111111111111,
                            "#46039f"
                          ],
                          [
                            0.2222222222222222,
                            "#7201a8"
                          ],
                          [
                            0.3333333333333333,
                            "#9c179e"
                          ],
                          [
                            0.4444444444444444,
                            "#bd3786"
                          ],
                          [
                            0.5555555555555556,
                            "#d8576b"
                          ],
                          [
                            0.6666666666666666,
                            "#ed7953"
                          ],
                          [
                            0.7777777777777778,
                            "#fb9f3a"
                          ],
                          [
                            0.8888888888888888,
                            "#fdca26"
                          ],
                          [
                            1,
                            "#f0f921"
                          ]
                        ],
                        "type": "heatmap"
                      }
                    ],
                    "histogram": [
                      {
                        "marker": {
                          "pattern": {
                            "fillmode": "overlay",
                            "size": 10,
                            "solidity": 0.2
                          }
                        },
                        "type": "histogram"
                      }
                    ],
                    "histogram2d": [
                      {
                        "colorbar": {
                          "outlinewidth": 0,
                          "ticks": ""
                        },
                        "colorscale": [
                          [
                            0,
                            "#0d0887"
                          ],
                          [
                            0.1111111111111111,
                            "#46039f"
                          ],
                          [
                            0.2222222222222222,
                            "#7201a8"
                          ],
                          [
                            0.3333333333333333,
                            "#9c179e"
                          ],
                          [
                            0.4444444444444444,
                            "#bd3786"
                          ],
                          [
                            0.5555555555555556,
                            "#d8576b"
                          ],
                          [
                            0.6666666666666666,
                            "#ed7953"
                          ],
                          [
                            0.7777777777777778,
                            "#fb9f3a"
                          ],
                          [
                            0.8888888888888888,
                            "#fdca26"
                          ],
                          [
                            1,
                            "#f0f921"
                          ]
                        ],
                        "type": "histogram2d"
                      }
                    ],
                    "histogram2dcontour": [
                      {
                        "colorbar": {
                          "outlinewidth": 0,
                          "ticks": ""
                        },
                        "colorscale": [
                          [
                            0,
                            "#0d0887"
                          ],
                          [
                            0.1111111111111111,
                            "#46039f"
                          ],
                          [
                            0.2222222222222222,
                            "#7201a8"
                          ],
                          [
                            0.3333333333333333,
                            "#9c179e"
                          ],
                          [
                            0.4444444444444444,
                            "#bd3786"
                          ],
                          [
                            0.5555555555555556,
                            "#d8576b"
                          ],
                          [
                            0.6666666666666666,
                            "#ed7953"
                          ],
                          [
                            0.7777777777777778,
                            "#fb9f3a"
                          ],
                          [
                            0.8888888888888888,
                            "#fdca26"
                          ],
                          [
                            1,
                            "#f0f921"
                          ]
                        ],
                        "type": "histogram2dcontour"
                      }
                    ],
                    "mesh3d": [
                      {
                        "colorbar": {
                          "outlinewidth": 0,
                          "ticks": ""
                        },
                        "type": "mesh3d"
                      }
                    ],
                    "parcoords": [
                      {
                        "line": {
                          "colorbar": {
                            "outlinewidth": 0,
                            "ticks": ""
                          }
                        },
                        "type": "parcoords"
                      }
                    ],
                    "pie": [
                      {
                        "automargin": true,
                        "type": "pie"
                      }
                    ],
                    "scatter": [
                      {
                        "fillpattern": {
                          "fillmode": "overlay",
                          "size": 10,
                          "solidity": 0.2
                        },
                        "type": "scatter"
                      }
                    ],
                    "scatter3d": [
                      {
                        "line": {
                          "colorbar": {
                            "outlinewidth": 0,
                            "ticks": ""
                          }
                        },
                        "marker": {
                          "colorbar": {
                            "outlinewidth": 0,
                            "ticks": ""
                          }
                        },
                        "type": "scatter3d"
                      }
                    ],
                    "scattercarpet": [
                      {
                        "marker": {
                          "colorbar": {
                            "outlinewidth": 0,
                            "ticks": ""
                          }
                        },
                        "type": "scattercarpet"
                      }
                    ],
                    "scattergeo": [
                      {
                        "marker": {
                          "colorbar": {
                            "outlinewidth": 0,
                            "ticks": ""
                          }
                        },
                        "type": "scattergeo"
                      }
                    ],
                    "scattergl": [
                      {
                        "marker": {
                          "colorbar": {
                            "outlinewidth": 0,
                            "ticks": ""
                          }
                        },
                        "type": "scattergl"
                      }
                    ],
                    "scattermap": [
                      {
                        "marker": {
                          "colorbar": {
                            "outlinewidth": 0,
                            "ticks": ""
                          }
                        },
                        "type": "scattermap"
                      }
                    ],
                    "scattermapbox": [
                      {
                        "marker": {
                          "colorbar": {
                            "outlinewidth": 0,
                            "ticks": ""
                          }
                        },
                        "type": "scattermapbox"
                      }
                    ],
                    "scatterpolar": [
                      {
                        "marker": {
                          "colorbar": {
                            "outlinewidth": 0,
                            "ticks": ""
                          }
                        },
                        "type": "scatterpolar"
                      }
                    ],
                    "scatterpolargl": [
                      {
                        "marker": {
                          "colorbar": {
                            "outlinewidth": 0,
                            "ticks": ""
                          }
                        },
                        "type": "scatterpolargl"
                      }
                    ],
                    "scatterternary": [
                      {
                        "marker": {
                          "colorbar": {
                            "outlinewidth": 0,
                            "ticks": ""
                          }
                        },
                        "type": "scatterternary"
                      }
                    ],
                    "surface": [
                      {
                        "colorbar": {
                          "outlinewidth": 0,
                          "ticks": ""
                        },
                        "colorscale": [
                          [
                            0,
                            "#0d0887"
                          ],
                          [
                            0.1111111111111111,
                            "#46039f"
                          ],
                          [
                            0.2222222222222222,
                            "#7201a8"
                          ],
                          [
                            0.3333333333333333,
                            "#9c179e"
                          ],
                          [
                            0.4444444444444444,
                            "#bd3786"
                          ],
                          [
                            0.5555555555555556,
                            "#d8576b"
                          ],
                          [
                            0.6666666666666666,
                            "#ed7953"
                          ],
                          [
                            0.7777777777777778,
                            "#fb9f3a"
                          ],
                          [
                            0.8888888888888888,
                            "#fdca26"
                          ],
                          [
                            1,
                            "#f0f921"
                          ]
                        ],
                        "type": "surface"
                      }
                    ],
                    "table": [
                      {
                        "cells": {
                          "fill": {
                            "color": "#EBF0F8"
                          },
                          "line": {
                            "color": "white"
                          }
                        },
                        "header": {
                          "fill": {
                            "color": "#C8D4E3"
                          },
                          "line": {
                            "color": "white"
                          }
                        },
                        "type": "table"
                      }
                    ]
                  },
                  "layout": {
                    "annotationdefaults": {
                      "arrowcolor": "#2a3f5f",
                      "arrowhead": 0,
                      "arrowwidth": 1
                    },
                    "autotypenumbers": "strict",
                    "coloraxis": {
                      "colorbar": {
                        "outlinewidth": 0,
                        "ticks": ""
                      }
                    },
                    "colorscale": {
                      "diverging": [
                        [
                          0,
                          "#8e0152"
                        ],
                        [
                          0.1,
                          "#c51b7d"
                        ],
                        [
                          0.2,
                          "#de77ae"
                        ],
                        [
                          0.3,
                          "#f1b6da"
                        ],
                        [
                          0.4,
                          "#fde0ef"
                        ],
                        [
                          0.5,
                          "#f7f7f7"
                        ],
                        [
                          0.6,
                          "#e6f5d0"
                        ],
                        [
                          0.7,
                          "#b8e186"
                        ],
                        [
                          0.8,
                          "#7fbc41"
                        ],
                        [
                          0.9,
                          "#4d9221"
                        ],
                        [
                          1,
                          "#276419"
                        ]
                      ],
                      "sequential": [
                        [
                          0,
                          "#0d0887"
                        ],
                        [
                          0.1111111111111111,
                          "#46039f"
                        ],
                        [
                          0.2222222222222222,
                          "#7201a8"
                        ],
                        [
                          0.3333333333333333,
                          "#9c179e"
                        ],
                        [
                          0.4444444444444444,
                          "#bd3786"
                        ],
                        [
                          0.5555555555555556,
                          "#d8576b"
                        ],
                        [
                          0.6666666666666666,
                          "#ed7953"
                        ],
                        [
                          0.7777777777777778,
                          "#fb9f3a"
                        ],
                        [
                          0.8888888888888888,
                          "#fdca26"
                        ],
                        [
                          1,
                          "#f0f921"
                        ]
                      ],
                      "sequentialminus": [
                        [
                          0,
                          "#0d0887"
                        ],
                        [
                          0.1111111111111111,
                          "#46039f"
                        ],
                        [
                          0.2222222222222222,
                          "#7201a8"
                        ],
                        [
                          0.3333333333333333,
                          "#9c179e"
                        ],
                        [
                          0.4444444444444444,
                          "#bd3786"
                        ],
                        [
                          0.5555555555555556,
                          "#d8576b"
                        ],
                        [
                          0.6666666666666666,
                          "#ed7953"
                        ],
                        [
                          0.7777777777777778,
                          "#fb9f3a"
                        ],
                        [
                          0.8888888888888888,
                          "#fdca26"
                        ],
                        [
                          1,
                          "#f0f921"
                        ]
                      ]
                    },
                    "colorway": [
                      "#636efa",
                      "#EF553B",
                      "#00cc96",
                      "#ab63fa",
                      "#FFA15A",
                      "#19d3f3",
                      "#FF6692",
                      "#B6E880",
                      "#FF97FF",
                      "#FECB52"
                    ],
                    "font": {
                      "color": "#2a3f5f"
                    },
                    "geo": {
                      "bgcolor": "white",
                      "lakecolor": "white",
                      "landcolor": "#E5ECF6",
                      "showlakes": true,
                      "showland": true,
                      "subunitcolor": "white"
                    },
                    "hoverlabel": {
                      "align": "left"
                    },
                    "hovermode": "closest",
                    "mapbox": {
                      "style": "light"
                    },
                    "paper_bgcolor": "white",
                    "plot_bgcolor": "#E5ECF6",
                    "polar": {
                      "angularaxis": {
                        "gridcolor": "white",
                        "linecolor": "white",
                        "ticks": ""
                      },
                      "bgcolor": "#E5ECF6",
                      "radialaxis": {
                        "gridcolor": "white",
                        "linecolor": "white",
                        "ticks": ""
                      }
                    },
                    "scene": {
                      "xaxis": {
                        "backgroundcolor": "#E5ECF6",
                        "gridcolor": "white",
                        "gridwidth": 2,
                        "linecolor": "white",
                        "showbackground": true,
                        "ticks": "",
                        "zerolinecolor": "white"
                      },
                      "yaxis": {
                        "backgroundcolor": "#E5ECF6",
                        "gridcolor": "white",
                        "gridwidth": 2,
                        "linecolor": "white",
                        "showbackground": true,
                        "ticks": "",
                        "zerolinecolor": "white"
                      },
                      "zaxis": {
                        "backgroundcolor": "#E5ECF6",
                        "gridcolor": "white",
                        "gridwidth": 2,
                        "linecolor": "white",
                        "showbackground": true,
                        "ticks": "",
                        "zerolinecolor": "white"
                      }
                    },
                    "shapedefaults": {
                      "line": {
                        "color": "#2a3f5f"
                      }
                    },
                    "ternary": {
                      "aaxis": {
                        "gridcolor": "white",
                        "linecolor": "white",
                        "ticks": ""
                      },
                      "baxis": {
                        "gridcolor": "white",
                        "linecolor": "white",
                        "ticks": ""
                      },
                      "bgcolor": "#E5ECF6",
                      "caxis": {
                        "gridcolor": "white",
                        "linecolor": "white",
                        "ticks": ""
                      }
                    },
                    "title": {
                      "x": 0.05
                    },
                    "xaxis": {
                      "automargin": true,
                      "gridcolor": "white",
                      "linecolor": "white",
                      "ticks": "",
                      "title": {
                        "standoff": 15
                      },
                      "zerolinecolor": "white",
                      "zerolinewidth": 2
                    },
                    "yaxis": {
                      "automargin": true,
                      "gridcolor": "white",
                      "linecolor": "white",
                      "ticks": "",
                      "title": {
                        "standoff": 15
                      },
                      "zerolinecolor": "white",
                      "zerolinewidth": 2
                    }
                  }
                },
                "width": 1000,
                "xaxis": {
                  "anchor": "y",
                  "domain": [
                    0,
                    1
                  ],
                  "linecolor": "black",
                  "linewidth": 1,
                  "mirror": true,
                  "range": [
                    -5,
                    10
                  ],
                  "showgrid": false,
                  "showline": true,
                  "title": {
                    "font": {
                      "color": "black",
                      "size": 20
                    },
                    "text": "Principal component 1 (60.58%)"
                  }
                },
                "yaxis": {
                  "anchor": "x",
                  "domain": [
                    0,
                    1
                  ],
                  "linecolor": "black",
                  "linewidth": 1,
                  "mirror": true,
                  "range": [
                    -4,
                    8
                  ],
                  "showgrid": false,
                  "showline": true,
                  "title": {
                    "font": {
                      "color": "black",
                      "size": 20
                    },
                    "text": "Principal component 2 (18.04%)"
                  }
                }
              }
            }
          },
          "metadata": {},
          "output_type": "display_data"
        }
      ],
      "source": [
        "### Color dataset values\n",
        "COLOR_MAP = {\n",
        "    'DiaNat-DB': \"#979745\",\n",
        "    'SH-accumulated': \"#4AB82B\",\n",
        "    'SG-accumulated': \"#304be3\",\n",
        "    'SR-accumulated': \"#19a3a6\"\n",
        "            }\n",
        "\n",
        "# Stable order for legend and colors\n",
        "DATASET_ORDER = ['DiaNat-DB', 'SH-accumulated', 'SG-accumulated', 'SR-accumulated']\n",
        "pca_3d_df[COL_DATASET] = pd.Categorical(pca_3d_df[COL_DATASET], categories=DATASET_ORDER, ordered=True)\n",
        "\n",
        "### Interactive Plotly PCA scatter\n",
        "fig_pca = px.scatter(\n",
        "    pca_3d_df, x='PC1', y='PC2',\n",
        "    color=COL_DATASET,\n",
        "    color_discrete_map=COLOR_MAP,\n",
        "    title=False,\n",
        "    hover_data=[COL_ID],\n",
        "    width=1000,\n",
        "    height=800)\n",
        "\n",
        "### Improve layout and axis titles with dynamic variance\n",
        "fig_pca.update_traces(marker=dict(size=10))\n",
        "fig_pca.update_layout(\n",
        "    xaxis=dict(showgrid=False, showline=True, linewidth=1, linecolor='black', mirror=True),\n",
        "    yaxis=dict(showgrid=False, showline=True, linewidth=1, linecolor='black', mirror=True),\n",
        "    plot_bgcolor='white', paper_bgcolor='white',\n",
        "    legend_title_text=\"Dataset\", showlegend=True\n",
        ")\n",
        "fig_pca.update_xaxes(\n",
        "    title_text=f\"Principal component 1 ({exp_var[0]*100:.2f}%)\", range=[-5, 10],\n",
        "    title_font=dict(size=20, color= \"black\")\n",
        ")\n",
        "fig_pca.update_yaxes(\n",
        "    title_text=f\"Principal component 2 ({exp_var[1]*100:.2f}%)\", range=[-4, 8],\n",
        "    title_font=dict(size=20, color= \"black\")\n",
        ")\n",
        "\n",
        "### Save the static PNG\n",
        "png_all = OUTPUT_DIR/\"sidas_dianat_pca_all.png\"\n",
        "pio.write_image(fig_pca, str(png_all), width=1000, height=800, scale=3)\n",
        "print(f\"Saved: {png_all}\")\n",
        "fig_pca.show()"
      ]
    },
    {
      "cell_type": "markdown",
      "metadata": {},
      "source": [
        "### **5. Individual PCA scatter plots**\n",
        "Filter the PCA dataframe to visualize and export a single dataset, reusing the styling."
      ]
    },
    {
      "cell_type": "code",
      "execution_count": 73,
      "metadata": {},
      "outputs": [
        {
          "name": "stdout",
          "output_type": "stream",
          "text": [
            "Saved: ../results/outputs_pca/sidas_dianat_pca_dianat_db.png\n"
          ]
        },
        {
          "data": {
            "application/vnd.plotly.v1+json": {
              "config": {
                "plotlyServerURL": "https://plot.ly"
              },
              "data": [
                {
                  "customdata": [
                    [
                      "DiaNatDB-1"
                    ],
                    [
                      "DiaNatDB-10"
                    ],
                    [
                      "DiaNatDB-100"
                    ],
                    [
                      "DiaNatDB-101"
                    ],
                    [
                      "DiaNatDB-102"
                    ],
                    [
                      "DiaNatDB-103"
                    ],
                    [
                      "DiaNatDB-104"
                    ],
                    [
                      "DiaNatDB-105"
                    ],
                    [
                      "DiaNatDB-106"
                    ],
                    [
                      "DiaNatDB-107"
                    ],
                    [
                      "DiaNatDB-108"
                    ],
                    [
                      "DiaNatDB-109"
                    ],
                    [
                      "DiaNatDB-11"
                    ],
                    [
                      "DiaNatDB-110"
                    ],
                    [
                      "DiaNatDB-111"
                    ],
                    [
                      "DiaNatDB-112"
                    ],
                    [
                      "DiaNatDB-113"
                    ],
                    [
                      "DiaNatDB-114"
                    ],
                    [
                      "DiaNatDB-115"
                    ],
                    [
                      "DiaNatDB-116"
                    ],
                    [
                      "DiaNatDB-117"
                    ],
                    [
                      "DiaNatDB-118"
                    ],
                    [
                      "DiaNatDB-119"
                    ],
                    [
                      "DiaNatDB-120"
                    ],
                    [
                      "DiaNatDB-121"
                    ],
                    [
                      "DiaNatDB-122"
                    ],
                    [
                      "DiaNatDB-123"
                    ],
                    [
                      "DiaNatDB-124"
                    ],
                    [
                      "DiaNatDB-125"
                    ],
                    [
                      "DiaNatDB-126"
                    ],
                    [
                      "DiaNatDB-127"
                    ],
                    [
                      "DiaNatDB-128"
                    ],
                    [
                      "DiaNatDB-129"
                    ],
                    [
                      "DiaNatDB-13"
                    ],
                    [
                      "DiaNatDB-130"
                    ],
                    [
                      "DiaNatDB-131"
                    ],
                    [
                      "DiaNatDB-132"
                    ],
                    [
                      "DiaNatDB-133"
                    ],
                    [
                      "DiaNatDB-134"
                    ],
                    [
                      "DiaNatDB-135"
                    ],
                    [
                      "DiaNatDB-136"
                    ],
                    [
                      "DiaNatDB-137"
                    ],
                    [
                      "DiaNatDB-138"
                    ],
                    [
                      "DiaNatDB-139"
                    ],
                    [
                      "DiaNatDB-14"
                    ],
                    [
                      "DiaNatDB-140"
                    ],
                    [
                      "DiaNatDB-141"
                    ],
                    [
                      "DiaNatDB-142"
                    ],
                    [
                      "DiaNatDB-143"
                    ],
                    [
                      "DiaNatDB-144"
                    ],
                    [
                      "DiaNatDB-145"
                    ],
                    [
                      "DiaNatDB-146"
                    ],
                    [
                      "DiaNatDB-147"
                    ],
                    [
                      "DiaNatDB-148"
                    ],
                    [
                      "DiaNatDB-149"
                    ],
                    [
                      "DiaNatDB-15"
                    ],
                    [
                      "DiaNatDB-150"
                    ],
                    [
                      "DiaNatDB-151"
                    ],
                    [
                      "DiaNatDB-152"
                    ],
                    [
                      "DiaNatDB-153"
                    ],
                    [
                      "DiaNatDB-154"
                    ],
                    [
                      "DiaNatDB-155"
                    ],
                    [
                      "DiaNatDB-156"
                    ],
                    [
                      "DiaNatDB-157"
                    ],
                    [
                      "DiaNatDB-158"
                    ],
                    [
                      "DiaNatDB-159"
                    ],
                    [
                      "DiaNatDB-16"
                    ],
                    [
                      "DiaNatDB-160"
                    ],
                    [
                      "DiaNatDB-161"
                    ],
                    [
                      "DiaNatDB-162"
                    ],
                    [
                      "DiaNatDB-163"
                    ],
                    [
                      "DiaNatDB-164"
                    ],
                    [
                      "DiaNatDB-165"
                    ],
                    [
                      "DiaNatDB-166"
                    ],
                    [
                      "DiaNatDB-167"
                    ],
                    [
                      "DiaNatDB-168"
                    ],
                    [
                      "DiaNatDB-169"
                    ],
                    [
                      "DiaNatDB-17"
                    ],
                    [
                      "DiaNatDB-170"
                    ],
                    [
                      "DiaNatDB-171"
                    ],
                    [
                      "DiaNatDB-172"
                    ],
                    [
                      "DiaNatDB-173"
                    ],
                    [
                      "DiaNatDB-174"
                    ],
                    [
                      "DiaNatDB-175"
                    ],
                    [
                      "DiaNatDB-176"
                    ],
                    [
                      "DiaNatDB-177"
                    ],
                    [
                      "DiaNatDB-178"
                    ],
                    [
                      "DiaNatDB-179"
                    ],
                    [
                      "DiaNatDB-18"
                    ],
                    [
                      "DiaNatDB-180"
                    ],
                    [
                      "DiaNatDB-181"
                    ],
                    [
                      "DiaNatDB-182"
                    ],
                    [
                      "DiaNatDB-183"
                    ],
                    [
                      "DiaNatDB-184"
                    ],
                    [
                      "DiaNatDB-185"
                    ],
                    [
                      "DiaNatDB-186"
                    ],
                    [
                      "DiaNatDB-187"
                    ],
                    [
                      "DiaNatDB-188"
                    ],
                    [
                      "DiaNatDB-189"
                    ],
                    [
                      "DiaNatDB-19"
                    ],
                    [
                      "DiaNatDB-190"
                    ],
                    [
                      "DiaNatDB-191"
                    ],
                    [
                      "DiaNatDB-192"
                    ],
                    [
                      "DiaNatDB-193"
                    ],
                    [
                      "DiaNatDB-194"
                    ],
                    [
                      "DiaNatDB-195"
                    ],
                    [
                      "DiaNatDB-196"
                    ],
                    [
                      "DiaNatDB-197"
                    ],
                    [
                      "DiaNatDB-198"
                    ],
                    [
                      "DiaNatDB-199"
                    ],
                    [
                      "DiaNatDB-2"
                    ],
                    [
                      "DiaNatDB-20"
                    ],
                    [
                      "DiaNatDB-200"
                    ],
                    [
                      "DiaNatDB-201"
                    ],
                    [
                      "DiaNatDB-202"
                    ],
                    [
                      "DiaNatDB-203"
                    ],
                    [
                      "DiaNatDB-204"
                    ],
                    [
                      "DiaNatDB-205"
                    ],
                    [
                      "DiaNatDB-206"
                    ],
                    [
                      "DiaNatDB-207"
                    ],
                    [
                      "DiaNatDB-208"
                    ],
                    [
                      "DiaNatDB-209"
                    ],
                    [
                      "DiaNatDB-21"
                    ],
                    [
                      "DiaNatDB-210"
                    ],
                    [
                      "DiaNatDB-211"
                    ],
                    [
                      "DiaNatDB-212"
                    ],
                    [
                      "DiaNatDB-213"
                    ],
                    [
                      "DiaNatDB-214"
                    ],
                    [
                      "DiaNatDB-215"
                    ],
                    [
                      "DiaNatDB-216"
                    ],
                    [
                      "DiaNatDB-217"
                    ],
                    [
                      "DiaNatDB-218"
                    ],
                    [
                      "DiaNatDB-219"
                    ],
                    [
                      "DiaNatDB-22"
                    ],
                    [
                      "DiaNatDB-220"
                    ],
                    [
                      "DiaNatDB-221"
                    ],
                    [
                      "DiaNatDB-222"
                    ],
                    [
                      "DiaNatDB-223"
                    ],
                    [
                      "DiaNatDB-224"
                    ],
                    [
                      "DiaNatDB-225"
                    ],
                    [
                      "DiaNatDB-226"
                    ],
                    [
                      "DiaNatDB-227"
                    ],
                    [
                      "DiaNatDB-228"
                    ],
                    [
                      "DiaNatDB-229"
                    ],
                    [
                      "DiaNatDB-23"
                    ],
                    [
                      "DiaNatDB-230"
                    ],
                    [
                      "DiaNatDB-231"
                    ],
                    [
                      "DiaNatDB-232"
                    ],
                    [
                      "DiaNatDB-233"
                    ],
                    [
                      "DiaNatDB-234"
                    ],
                    [
                      "DiaNatDB-235"
                    ],
                    [
                      "DiaNatDB-236"
                    ],
                    [
                      "DiaNatDB-237"
                    ],
                    [
                      "DiaNatDB-238"
                    ],
                    [
                      "DiaNatDB-239"
                    ],
                    [
                      "DiaNatDB-24"
                    ],
                    [
                      "DiaNatDB-240"
                    ],
                    [
                      "DiaNatDB-241"
                    ],
                    [
                      "DiaNatDB-242"
                    ],
                    [
                      "DiaNatDB-243"
                    ],
                    [
                      "DiaNatDB-244"
                    ],
                    [
                      "DiaNatDB-245"
                    ],
                    [
                      "DiaNatDB-246"
                    ],
                    [
                      "DiaNatDB-248"
                    ],
                    [
                      "DiaNatDB-249"
                    ],
                    [
                      "DiaNatDB-25"
                    ],
                    [
                      "DiaNatDB-250"
                    ],
                    [
                      "DiaNatDB-251"
                    ],
                    [
                      "DiaNatDB-252"
                    ],
                    [
                      "DiaNatDB-253"
                    ],
                    [
                      "DiaNatDB-254"
                    ],
                    [
                      "DiaNatDB-255"
                    ],
                    [
                      "DiaNatDB-256"
                    ],
                    [
                      "DiaNatDB-257"
                    ],
                    [
                      "DiaNatDB-258"
                    ],
                    [
                      "DiaNatDB-259"
                    ],
                    [
                      "DiaNatDB-26"
                    ],
                    [
                      "DiaNatDB-260"
                    ],
                    [
                      "DiaNatDB-261"
                    ],
                    [
                      "DiaNatDB-262"
                    ],
                    [
                      "DiaNatDB-263"
                    ],
                    [
                      "DiaNatDB-264"
                    ],
                    [
                      "DiaNatDB-265"
                    ],
                    [
                      "DiaNatDB-266"
                    ],
                    [
                      "DiaNatDB-267"
                    ],
                    [
                      "DiaNatDB-268"
                    ],
                    [
                      "DiaNatDB-269"
                    ],
                    [
                      "DiaNatDB-27"
                    ],
                    [
                      "DiaNatDB-270"
                    ],
                    [
                      "DiaNatDB-271"
                    ],
                    [
                      "DiaNatDB-272"
                    ],
                    [
                      "DiaNatDB-273"
                    ],
                    [
                      "DiaNatDB-274"
                    ],
                    [
                      "DiaNatDB-275"
                    ],
                    [
                      "DiaNatDB-276"
                    ],
                    [
                      "DiaNatDB-277"
                    ],
                    [
                      "DiaNatDB-278"
                    ],
                    [
                      "DiaNatDB-279"
                    ],
                    [
                      "DiaNatDB-28"
                    ],
                    [
                      "DiaNatDB-280"
                    ],
                    [
                      "DiaNatDB-281"
                    ],
                    [
                      "DiaNatDB-282"
                    ],
                    [
                      "DiaNatDB-283"
                    ],
                    [
                      "DiaNatDB-284"
                    ],
                    [
                      "DiaNatDB-285"
                    ],
                    [
                      "DiaNatDB-286"
                    ],
                    [
                      "DiaNatDB-287"
                    ],
                    [
                      "DiaNatDB-288"
                    ],
                    [
                      "DiaNatDB-289"
                    ],
                    [
                      "DiaNatDB-29"
                    ],
                    [
                      "DiaNatDB-290"
                    ],
                    [
                      "DiaNatDB-291"
                    ],
                    [
                      "DiaNatDB-292"
                    ],
                    [
                      "DiaNatDB-293"
                    ],
                    [
                      "DiaNatDB-294"
                    ],
                    [
                      "DiaNatDB-295"
                    ],
                    [
                      "DiaNatDB-296"
                    ],
                    [
                      "DiaNatDB-297"
                    ],
                    [
                      "DiaNatDB-298"
                    ],
                    [
                      "DiaNatDB-299"
                    ],
                    [
                      "DiaNatDB-3"
                    ],
                    [
                      "DiaNatDB-30"
                    ],
                    [
                      "DiaNatDB-300"
                    ],
                    [
                      "DiaNatDB-301"
                    ],
                    [
                      "DiaNatDB-302"
                    ],
                    [
                      "DiaNatDB-303"
                    ],
                    [
                      "DiaNatDB-304"
                    ],
                    [
                      "DiaNatDB-305"
                    ],
                    [
                      "DiaNatDB-306"
                    ],
                    [
                      "DiaNatDB-307"
                    ],
                    [
                      "DiaNatDB-308"
                    ],
                    [
                      "DiaNatDB-309"
                    ],
                    [
                      "DiaNatDB-31"
                    ],
                    [
                      "DiaNatDB-310"
                    ],
                    [
                      "DiaNatDB-311"
                    ],
                    [
                      "DiaNatDB-312"
                    ],
                    [
                      "DiaNatDB-313"
                    ],
                    [
                      "DiaNatDB-314"
                    ],
                    [
                      "DiaNatDB-315"
                    ],
                    [
                      "DiaNatDB-316"
                    ],
                    [
                      "DiaNatDB-317"
                    ],
                    [
                      "DiaNatDB-318"
                    ],
                    [
                      "DiaNatDB-319"
                    ],
                    [
                      "DiaNatDB-32"
                    ],
                    [
                      "DiaNatDB-320"
                    ],
                    [
                      "DiaNatDB-321"
                    ],
                    [
                      "DiaNatDB-322"
                    ],
                    [
                      "DiaNatDB-323"
                    ],
                    [
                      "DiaNatDB-324"
                    ],
                    [
                      "DiaNatDB-325"
                    ],
                    [
                      "DiaNatDB-326"
                    ],
                    [
                      "DiaNatDB-327"
                    ],
                    [
                      "DiaNatDB-328"
                    ],
                    [
                      "DiaNatDB-329"
                    ],
                    [
                      "DiaNatDB-33"
                    ],
                    [
                      "DiaNatDB-330"
                    ],
                    [
                      "DiaNatDB-331"
                    ],
                    [
                      "DiaNatDB-332"
                    ],
                    [
                      "DiaNatDB-333"
                    ],
                    [
                      "DiaNatDB-334"
                    ],
                    [
                      "DiaNatDB-335"
                    ],
                    [
                      "DiaNatDB-336"
                    ],
                    [
                      "DiaNatDB-337"
                    ],
                    [
                      "DiaNatDB-338"
                    ],
                    [
                      "DiaNatDB-339"
                    ],
                    [
                      "DiaNatDB-34"
                    ],
                    [
                      "DiaNatDB-340"
                    ],
                    [
                      "DiaNatDB-35"
                    ],
                    [
                      "DiaNatDB-36"
                    ],
                    [
                      "DiaNatDB-37"
                    ],
                    [
                      "DiaNatDB-38"
                    ],
                    [
                      "DiaNatDB-39"
                    ],
                    [
                      "DiaNatDB-40"
                    ],
                    [
                      "DiaNatDB-41"
                    ],
                    [
                      "DiaNatDB-42"
                    ],
                    [
                      "DiaNatDB-43"
                    ],
                    [
                      "DiaNatDB-44"
                    ],
                    [
                      "DiaNatDB-45"
                    ],
                    [
                      "DiaNatDB-46"
                    ],
                    [
                      "DiaNatDB-47"
                    ],
                    [
                      "DiaNatDB-48"
                    ],
                    [
                      "DiaNatDB-49"
                    ],
                    [
                      "DiaNatDB-5"
                    ],
                    [
                      "DiaNatDB-50"
                    ],
                    [
                      "DiaNatDB-51"
                    ],
                    [
                      "DiaNatDB-52"
                    ],
                    [
                      "DiaNatDB-53"
                    ],
                    [
                      "DiaNatDB-54"
                    ],
                    [
                      "DiaNatDB-55"
                    ],
                    [
                      "DiaNatDB-56"
                    ],
                    [
                      "DiaNatDB-57"
                    ],
                    [
                      "DiaNatDB-59"
                    ],
                    [
                      "DiaNatDB-6"
                    ],
                    [
                      "DiaNatDB-60"
                    ],
                    [
                      "DiaNatDB-61"
                    ],
                    [
                      "DiaNatDB-62"
                    ],
                    [
                      "DiaNatDB-63"
                    ],
                    [
                      "DiaNatDB-64"
                    ],
                    [
                      "DiaNatDB-65"
                    ],
                    [
                      "DiaNatDB-66"
                    ],
                    [
                      "DiaNatDB-67"
                    ],
                    [
                      "DiaNatDB-68"
                    ],
                    [
                      "DiaNatDB-69"
                    ],
                    [
                      "DiaNatDB-7"
                    ],
                    [
                      "DiaNatDB-70"
                    ],
                    [
                      "DiaNatDB-71"
                    ],
                    [
                      "DiaNatDB-72"
                    ],
                    [
                      "DiaNatDB-73"
                    ],
                    [
                      "DiaNatDB-74"
                    ],
                    [
                      "DiaNatDB-75"
                    ],
                    [
                      "DiaNatDB-76"
                    ],
                    [
                      "DiaNatDB-77"
                    ],
                    [
                      "DiaNatDB-78"
                    ],
                    [
                      "DiaNatDB-79"
                    ],
                    [
                      "DiaNatDB-8"
                    ],
                    [
                      "DiaNatDB-80"
                    ],
                    [
                      "DiaNatDB-81"
                    ],
                    [
                      "DiaNatDB-82"
                    ],
                    [
                      "DiaNatDB-83"
                    ],
                    [
                      "DiaNatDB-84"
                    ],
                    [
                      "DiaNatDB-85"
                    ],
                    [
                      "DiaNatDB-86"
                    ],
                    [
                      "DiaNatDB-87"
                    ],
                    [
                      "DiaNatDB-88"
                    ],
                    [
                      "DiaNatDB-89"
                    ],
                    [
                      "DiaNatDB-9"
                    ],
                    [
                      "DiaNatDB-90"
                    ],
                    [
                      "DiaNatDB-91"
                    ],
                    [
                      "DiaNatDB-92"
                    ],
                    [
                      "DiaNatDB-93"
                    ],
                    [
                      "DiaNatDB-94"
                    ],
                    [
                      "DiaNatDB-95"
                    ],
                    [
                      "DiaNatDB-96"
                    ],
                    [
                      "DiaNatDB-97"
                    ],
                    [
                      "DiaNatDB-98"
                    ],
                    [
                      "DiaNatDB-99"
                    ]
                  ],
                  "hovertemplate": "PC1=%{x}<br>PC2=%{y}<br>ID=%{customdata[0]}<extra></extra>",
                  "legendgroup": "",
                  "marker": {
                    "color": "#979745",
                    "size": 10,
                    "symbol": "circle"
                  },
                  "mode": "markers",
                  "name": "",
                  "orientation": "v",
                  "showlegend": false,
                  "type": "scatter",
                  "x": {
                    "bdata": "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",
                    "dtype": "f8"
                  },
                  "xaxis": "x",
                  "y": {
                    "bdata": "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",
                    "dtype": "f8"
                  },
                  "yaxis": "y"
                }
              ],
              "layout": {
                "height": 800,
                "legend": {
                  "tracegroupgap": 0
                },
                "margin": {
                  "t": 60
                },
                "paper_bgcolor": "white",
                "plot_bgcolor": "white",
                "showlegend": false,
                "template": {
                  "data": {
                    "bar": [
                      {
                        "error_x": {
                          "color": "#2a3f5f"
                        },
                        "error_y": {
                          "color": "#2a3f5f"
                        },
                        "marker": {
                          "line": {
                            "color": "#E5ECF6",
                            "width": 0.5
                          },
                          "pattern": {
                            "fillmode": "overlay",
                            "size": 10,
                            "solidity": 0.2
                          }
                        },
                        "type": "bar"
                      }
                    ],
                    "barpolar": [
                      {
                        "marker": {
                          "line": {
                            "color": "#E5ECF6",
                            "width": 0.5
                          },
                          "pattern": {
                            "fillmode": "overlay",
                            "size": 10,
                            "solidity": 0.2
                          }
                        },
                        "type": "barpolar"
                      }
                    ],
                    "carpet": [
                      {
                        "aaxis": {
                          "endlinecolor": "#2a3f5f",
                          "gridcolor": "white",
                          "linecolor": "white",
                          "minorgridcolor": "white",
                          "startlinecolor": "#2a3f5f"
                        },
                        "baxis": {
                          "endlinecolor": "#2a3f5f",
                          "gridcolor": "white",
                          "linecolor": "white",
                          "minorgridcolor": "white",
                          "startlinecolor": "#2a3f5f"
                        },
                        "type": "carpet"
                      }
                    ],
                    "choropleth": [
                      {
                        "colorbar": {
                          "outlinewidth": 0,
                          "ticks": ""
                        },
                        "type": "choropleth"
                      }
                    ],
                    "contour": [
                      {
                        "colorbar": {
                          "outlinewidth": 0,
                          "ticks": ""
                        },
                        "colorscale": [
                          [
                            0,
                            "#0d0887"
                          ],
                          [
                            0.1111111111111111,
                            "#46039f"
                          ],
                          [
                            0.2222222222222222,
                            "#7201a8"
                          ],
                          [
                            0.3333333333333333,
                            "#9c179e"
                          ],
                          [
                            0.4444444444444444,
                            "#bd3786"
                          ],
                          [
                            0.5555555555555556,
                            "#d8576b"
                          ],
                          [
                            0.6666666666666666,
                            "#ed7953"
                          ],
                          [
                            0.7777777777777778,
                            "#fb9f3a"
                          ],
                          [
                            0.8888888888888888,
                            "#fdca26"
                          ],
                          [
                            1,
                            "#f0f921"
                          ]
                        ],
                        "type": "contour"
                      }
                    ],
                    "contourcarpet": [
                      {
                        "colorbar": {
                          "outlinewidth": 0,
                          "ticks": ""
                        },
                        "type": "contourcarpet"
                      }
                    ],
                    "heatmap": [
                      {
                        "colorbar": {
                          "outlinewidth": 0,
                          "ticks": ""
                        },
                        "colorscale": [
                          [
                            0,
                            "#0d0887"
                          ],
                          [
                            0.1111111111111111,
                            "#46039f"
                          ],
                          [
                            0.2222222222222222,
                            "#7201a8"
                          ],
                          [
                            0.3333333333333333,
                            "#9c179e"
                          ],
                          [
                            0.4444444444444444,
                            "#bd3786"
                          ],
                          [
                            0.5555555555555556,
                            "#d8576b"
                          ],
                          [
                            0.6666666666666666,
                            "#ed7953"
                          ],
                          [
                            0.7777777777777778,
                            "#fb9f3a"
                          ],
                          [
                            0.8888888888888888,
                            "#fdca26"
                          ],
                          [
                            1,
                            "#f0f921"
                          ]
                        ],
                        "type": "heatmap"
                      }
                    ],
                    "histogram": [
                      {
                        "marker": {
                          "pattern": {
                            "fillmode": "overlay",
                            "size": 10,
                            "solidity": 0.2
                          }
                        },
                        "type": "histogram"
                      }
                    ],
                    "histogram2d": [
                      {
                        "colorbar": {
                          "outlinewidth": 0,
                          "ticks": ""
                        },
                        "colorscale": [
                          [
                            0,
                            "#0d0887"
                          ],
                          [
                            0.1111111111111111,
                            "#46039f"
                          ],
                          [
                            0.2222222222222222,
                            "#7201a8"
                          ],
                          [
                            0.3333333333333333,
                            "#9c179e"
                          ],
                          [
                            0.4444444444444444,
                            "#bd3786"
                          ],
                          [
                            0.5555555555555556,
                            "#d8576b"
                          ],
                          [
                            0.6666666666666666,
                            "#ed7953"
                          ],
                          [
                            0.7777777777777778,
                            "#fb9f3a"
                          ],
                          [
                            0.8888888888888888,
                            "#fdca26"
                          ],
                          [
                            1,
                            "#f0f921"
                          ]
                        ],
                        "type": "histogram2d"
                      }
                    ],
                    "histogram2dcontour": [
                      {
                        "colorbar": {
                          "outlinewidth": 0,
                          "ticks": ""
                        },
                        "colorscale": [
                          [
                            0,
                            "#0d0887"
                          ],
                          [
                            0.1111111111111111,
                            "#46039f"
                          ],
                          [
                            0.2222222222222222,
                            "#7201a8"
                          ],
                          [
                            0.3333333333333333,
                            "#9c179e"
                          ],
                          [
                            0.4444444444444444,
                            "#bd3786"
                          ],
                          [
                            0.5555555555555556,
                            "#d8576b"
                          ],
                          [
                            0.6666666666666666,
                            "#ed7953"
                          ],
                          [
                            0.7777777777777778,
                            "#fb9f3a"
                          ],
                          [
                            0.8888888888888888,
                            "#fdca26"
                          ],
                          [
                            1,
                            "#f0f921"
                          ]
                        ],
                        "type": "histogram2dcontour"
                      }
                    ],
                    "mesh3d": [
                      {
                        "colorbar": {
                          "outlinewidth": 0,
                          "ticks": ""
                        },
                        "type": "mesh3d"
                      }
                    ],
                    "parcoords": [
                      {
                        "line": {
                          "colorbar": {
                            "outlinewidth": 0,
                            "ticks": ""
                          }
                        },
                        "type": "parcoords"
                      }
                    ],
                    "pie": [
                      {
                        "automargin": true,
                        "type": "pie"
                      }
                    ],
                    "scatter": [
                      {
                        "fillpattern": {
                          "fillmode": "overlay",
                          "size": 10,
                          "solidity": 0.2
                        },
                        "type": "scatter"
                      }
                    ],
                    "scatter3d": [
                      {
                        "line": {
                          "colorbar": {
                            "outlinewidth": 0,
                            "ticks": ""
                          }
                        },
                        "marker": {
                          "colorbar": {
                            "outlinewidth": 0,
                            "ticks": ""
                          }
                        },
                        "type": "scatter3d"
                      }
                    ],
                    "scattercarpet": [
                      {
                        "marker": {
                          "colorbar": {
                            "outlinewidth": 0,
                            "ticks": ""
                          }
                        },
                        "type": "scattercarpet"
                      }
                    ],
                    "scattergeo": [
                      {
                        "marker": {
                          "colorbar": {
                            "outlinewidth": 0,
                            "ticks": ""
                          }
                        },
                        "type": "scattergeo"
                      }
                    ],
                    "scattergl": [
                      {
                        "marker": {
                          "colorbar": {
                            "outlinewidth": 0,
                            "ticks": ""
                          }
                        },
                        "type": "scattergl"
                      }
                    ],
                    "scattermap": [
                      {
                        "marker": {
                          "colorbar": {
                            "outlinewidth": 0,
                            "ticks": ""
                          }
                        },
                        "type": "scattermap"
                      }
                    ],
                    "scattermapbox": [
                      {
                        "marker": {
                          "colorbar": {
                            "outlinewidth": 0,
                            "ticks": ""
                          }
                        },
                        "type": "scattermapbox"
                      }
                    ],
                    "scatterpolar": [
                      {
                        "marker": {
                          "colorbar": {
                            "outlinewidth": 0,
                            "ticks": ""
                          }
                        },
                        "type": "scatterpolar"
                      }
                    ],
                    "scatterpolargl": [
                      {
                        "marker": {
                          "colorbar": {
                            "outlinewidth": 0,
                            "ticks": ""
                          }
                        },
                        "type": "scatterpolargl"
                      }
                    ],
                    "scatterternary": [
                      {
                        "marker": {
                          "colorbar": {
                            "outlinewidth": 0,
                            "ticks": ""
                          }
                        },
                        "type": "scatterternary"
                      }
                    ],
                    "surface": [
                      {
                        "colorbar": {
                          "outlinewidth": 0,
                          "ticks": ""
                        },
                        "colorscale": [
                          [
                            0,
                            "#0d0887"
                          ],
                          [
                            0.1111111111111111,
                            "#46039f"
                          ],
                          [
                            0.2222222222222222,
                            "#7201a8"
                          ],
                          [
                            0.3333333333333333,
                            "#9c179e"
                          ],
                          [
                            0.4444444444444444,
                            "#bd3786"
                          ],
                          [
                            0.5555555555555556,
                            "#d8576b"
                          ],
                          [
                            0.6666666666666666,
                            "#ed7953"
                          ],
                          [
                            0.7777777777777778,
                            "#fb9f3a"
                          ],
                          [
                            0.8888888888888888,
                            "#fdca26"
                          ],
                          [
                            1,
                            "#f0f921"
                          ]
                        ],
                        "type": "surface"
                      }
                    ],
                    "table": [
                      {
                        "cells": {
                          "fill": {
                            "color": "#EBF0F8"
                          },
                          "line": {
                            "color": "white"
                          }
                        },
                        "header": {
                          "fill": {
                            "color": "#C8D4E3"
                          },
                          "line": {
                            "color": "white"
                          }
                        },
                        "type": "table"
                      }
                    ]
                  },
                  "layout": {
                    "annotationdefaults": {
                      "arrowcolor": "#2a3f5f",
                      "arrowhead": 0,
                      "arrowwidth": 1
                    },
                    "autotypenumbers": "strict",
                    "coloraxis": {
                      "colorbar": {
                        "outlinewidth": 0,
                        "ticks": ""
                      }
                    },
                    "colorscale": {
                      "diverging": [
                        [
                          0,
                          "#8e0152"
                        ],
                        [
                          0.1,
                          "#c51b7d"
                        ],
                        [
                          0.2,
                          "#de77ae"
                        ],
                        [
                          0.3,
                          "#f1b6da"
                        ],
                        [
                          0.4,
                          "#fde0ef"
                        ],
                        [
                          0.5,
                          "#f7f7f7"
                        ],
                        [
                          0.6,
                          "#e6f5d0"
                        ],
                        [
                          0.7,
                          "#b8e186"
                        ],
                        [
                          0.8,
                          "#7fbc41"
                        ],
                        [
                          0.9,
                          "#4d9221"
                        ],
                        [
                          1,
                          "#276419"
                        ]
                      ],
                      "sequential": [
                        [
                          0,
                          "#0d0887"
                        ],
                        [
                          0.1111111111111111,
                          "#46039f"
                        ],
                        [
                          0.2222222222222222,
                          "#7201a8"
                        ],
                        [
                          0.3333333333333333,
                          "#9c179e"
                        ],
                        [
                          0.4444444444444444,
                          "#bd3786"
                        ],
                        [
                          0.5555555555555556,
                          "#d8576b"
                        ],
                        [
                          0.6666666666666666,
                          "#ed7953"
                        ],
                        [
                          0.7777777777777778,
                          "#fb9f3a"
                        ],
                        [
                          0.8888888888888888,
                          "#fdca26"
                        ],
                        [
                          1,
                          "#f0f921"
                        ]
                      ],
                      "sequentialminus": [
                        [
                          0,
                          "#0d0887"
                        ],
                        [
                          0.1111111111111111,
                          "#46039f"
                        ],
                        [
                          0.2222222222222222,
                          "#7201a8"
                        ],
                        [
                          0.3333333333333333,
                          "#9c179e"
                        ],
                        [
                          0.4444444444444444,
                          "#bd3786"
                        ],
                        [
                          0.5555555555555556,
                          "#d8576b"
                        ],
                        [
                          0.6666666666666666,
                          "#ed7953"
                        ],
                        [
                          0.7777777777777778,
                          "#fb9f3a"
                        ],
                        [
                          0.8888888888888888,
                          "#fdca26"
                        ],
                        [
                          1,
                          "#f0f921"
                        ]
                      ]
                    },
                    "colorway": [
                      "#636efa",
                      "#EF553B",
                      "#00cc96",
                      "#ab63fa",
                      "#FFA15A",
                      "#19d3f3",
                      "#FF6692",
                      "#B6E880",
                      "#FF97FF",
                      "#FECB52"
                    ],
                    "font": {
                      "color": "#2a3f5f"
                    },
                    "geo": {
                      "bgcolor": "white",
                      "lakecolor": "white",
                      "landcolor": "#E5ECF6",
                      "showlakes": true,
                      "showland": true,
                      "subunitcolor": "white"
                    },
                    "hoverlabel": {
                      "align": "left"
                    },
                    "hovermode": "closest",
                    "mapbox": {
                      "style": "light"
                    },
                    "paper_bgcolor": "white",
                    "plot_bgcolor": "#E5ECF6",
                    "polar": {
                      "angularaxis": {
                        "gridcolor": "white",
                        "linecolor": "white",
                        "ticks": ""
                      },
                      "bgcolor": "#E5ECF6",
                      "radialaxis": {
                        "gridcolor": "white",
                        "linecolor": "white",
                        "ticks": ""
                      }
                    },
                    "scene": {
                      "xaxis": {
                        "backgroundcolor": "#E5ECF6",
                        "gridcolor": "white",
                        "gridwidth": 2,
                        "linecolor": "white",
                        "showbackground": true,
                        "ticks": "",
                        "zerolinecolor": "white"
                      },
                      "yaxis": {
                        "backgroundcolor": "#E5ECF6",
                        "gridcolor": "white",
                        "gridwidth": 2,
                        "linecolor": "white",
                        "showbackground": true,
                        "ticks": "",
                        "zerolinecolor": "white"
                      },
                      "zaxis": {
                        "backgroundcolor": "#E5ECF6",
                        "gridcolor": "white",
                        "gridwidth": 2,
                        "linecolor": "white",
                        "showbackground": true,
                        "ticks": "",
                        "zerolinecolor": "white"
                      }
                    },
                    "shapedefaults": {
                      "line": {
                        "color": "#2a3f5f"
                      }
                    },
                    "ternary": {
                      "aaxis": {
                        "gridcolor": "white",
                        "linecolor": "white",
                        "ticks": ""
                      },
                      "baxis": {
                        "gridcolor": "white",
                        "linecolor": "white",
                        "ticks": ""
                      },
                      "bgcolor": "#E5ECF6",
                      "caxis": {
                        "gridcolor": "white",
                        "linecolor": "white",
                        "ticks": ""
                      }
                    },
                    "title": {
                      "x": 0.05
                    },
                    "xaxis": {
                      "automargin": true,
                      "gridcolor": "white",
                      "linecolor": "white",
                      "ticks": "",
                      "title": {
                        "standoff": 15
                      },
                      "zerolinecolor": "white",
                      "zerolinewidth": 2
                    },
                    "yaxis": {
                      "automargin": true,
                      "gridcolor": "white",
                      "linecolor": "white",
                      "ticks": "",
                      "title": {
                        "standoff": 15
                      },
                      "zerolinecolor": "white",
                      "zerolinewidth": 2
                    }
                  }
                },
                "width": 1000,
                "xaxis": {
                  "anchor": "y",
                  "domain": [
                    0,
                    1
                  ],
                  "linecolor": "black",
                  "linewidth": 1,
                  "mirror": true,
                  "range": [
                    -5,
                    10
                  ],
                  "showgrid": false,
                  "showline": true,
                  "title": {
                    "font": {
                      "color": "black",
                      "size": 20
                    },
                    "text": "Principal component 1"
                  }
                },
                "yaxis": {
                  "anchor": "x",
                  "domain": [
                    0,
                    1
                  ],
                  "linecolor": "black",
                  "linewidth": 1,
                  "mirror": true,
                  "range": [
                    -4,
                    8
                  ],
                  "showgrid": false,
                  "showline": true,
                  "title": {
                    "font": {
                      "color": "black",
                      "size": 20
                    },
                    "text": "Principal component 2"
                  }
                }
              }
            }
          },
          "metadata": {},
          "output_type": "display_data"
        },
        {
          "name": "stdout",
          "output_type": "stream",
          "text": [
            "Saved: ../results/outputs_pca/sidas_dianat_pca_sh_accumulated.png\n"
          ]
        },
        {
          "data": {
            "application/vnd.plotly.v1+json": {
              "config": {
                "plotlyServerURL": "https://plot.ly"
              },
              "data": [
                {
                  "customdata": [
                    [
                      "11060391"
                    ],
                    [
                      "338"
                    ],
                    [
                      "439944"
                    ],
                    [
                      "45273405"
                    ],
                    [
                      "12313704"
                    ],
                    [
                      "5491693"
                    ],
                    [
                      "133551"
                    ],
                    [
                      "25021697"
                    ],
                    [
                      "100967916"
                    ],
                    [
                      "90657201"
                    ],
                    [
                      "162999405"
                    ],
                    [
                      "10023166"
                    ],
                    [
                      "123908"
                    ],
                    [
                      "10603919"
                    ],
                    [
                      "286498"
                    ],
                    [
                      "5274626"
                    ],
                    [
                      "15767724"
                    ],
                    [
                      "5281119"
                    ],
                    [
                      "163106470"
                    ],
                    [
                      "163189360"
                    ],
                    [
                      "9930500"
                    ],
                    [
                      "14887607"
                    ],
                    [
                      "5490334"
                    ],
                    [
                      "14055737"
                    ],
                    [
                      "73207"
                    ],
                    [
                      "638014"
                    ],
                    [
                      "22236717"
                    ],
                    [
                      "15559735"
                    ],
                    [
                      "5487855"
                    ],
                    [
                      "6436348"
                    ],
                    [
                      "5319474"
                    ],
                    [
                      "163020497"
                    ],
                    [
                      "44178847"
                    ],
                    [
                      "162887874"
                    ],
                    [
                      "65064"
                    ],
                    [
                      "44566911"
                    ],
                    [
                      "73193"
                    ],
                    [
                      "5281702"
                    ],
                    [
                      "5281676"
                    ],
                    [
                      "44260032"
                    ],
                    [
                      "1742210"
                    ],
                    [
                      "1203"
                    ],
                    [
                      "101607227"
                    ],
                    [
                      "162957786"
                    ],
                    [
                      "19309"
                    ],
                    [
                      "62465"
                    ],
                    [
                      "24796850"
                    ],
                    [
                      "101248984"
                    ],
                    [
                      "11167374"
                    ],
                    [
                      "2371"
                    ],
                    [
                      "10494"
                    ],
                    [
                      "107876"
                    ],
                    [
                      "19844"
                    ],
                    [
                      "14707301"
                    ]
                  ],
                  "hovertemplate": "PC1=%{x}<br>PC2=%{y}<br>ID=%{customdata[0]}<extra></extra>",
                  "legendgroup": "",
                  "marker": {
                    "color": "#4AB82B",
                    "size": 10,
                    "symbol": "circle"
                  },
                  "mode": "markers",
                  "name": "",
                  "orientation": "v",
                  "showlegend": false,
                  "type": "scatter",
                  "x": {
                    "bdata": "NoSSzHeK1j8+aoZW/sH9v2gQBNlNe+A/BaHKxS+14L9ILo93a6H8v2zIKsh7egBAn2IYzrLDzb9SWZsp88vVPyS2ONGPn8M/oSDLiIOR/j9lVpkquUn+Pw25qa6WRuo/DY9g+Qiw2T8VL5TdUUy2PzA1sWgJ3dE/gJ86CggNqL/iG8YGmF3TP7WRQ+bzgf6/EtUFCNAlCkBoqEqwgr7uv8743llbAty/pSdJHRT7BEAS1QUI0CUKQC2UQGUXSrA/hjF35ySv1b8I8tExkVgFwNtgGYxwjAPAh1mfeJqi8T9Q4ZqSqULIv4g6ThBZAAbA52LyihRl+L9eKBF9gWUMQG59k2UnDvO/G0MBZ+7kBEDTbgUVJW0AQGZ9AiO2hQFA9EqQ0zHQ4L9O4ZqSqULIvwHyiKDUMcQ/5sgqynjW+T9fYNs5VvUFwJu7pDM8NMm/VD7stZBR0L+EGOx9z5z3P1qf+tGCFgDAwWeHXmbqAcBfNaiDRaLGP6h5DubAUaS/wc9gdStp8L8RY9XQB/n4v37+fNXl1fm/fVDXjo18CUDqyUq+mo/5v6locuGaGO+/",
                    "dtype": "f8"
                  },
                  "xaxis": "x",
                  "y": {
                    "bdata": "uLdEpIGL5T8Yp/PC+4Trv3MnE+DyK/q/L8Hl1oIl9D8Yiw/nUh71P0SMIglmnuW/cjbVGBRaAkBmkSisB5X4vynNOG3HnQJAdBsbjMtP2L+Aizc9bojNPx4hk0Fx1OC/b+CCHV1/9L/+yCr2BwUAQF9Oz0Gvdt8/uFPbNRLj/T+IjXNcJ0AAQA5tHlEixvg/ZyDlniGl7L/V0FtbmKbov5qtu5Wf0vW/b526iAlq3r9oIOWeIaXsvw8qiQ+0nd0/betYivwG0T8dNC/pnOvCP7GnGMaSHOI/NCz4sjvT67/kGRG9P2Cev2U2KSTJDLk/dGoEcBfs4L/agr3nncXwv+6i6a9jGvM/3SjI+vB16L+7xmy42QPRv6i5PzWyduG/Ikf4sUUI5D9EGhG9P2Cev0mK5raGJ8I/8Y/u6jCW4L9B9FaJ7hF+PyyIgjg20ea/Mt1kCVRr5z+Q8STHbA/iP1n+UFrBmvC/x+GfQNE12r+tU05kFu/tPzevNFRPuu0/Q7S8Vp3n8D8fBoDPdhv1P1CN1itThPM/muezDXU5tz8+u5Hc4czivxEtZvrAfvI/",
                    "dtype": "f8"
                  },
                  "yaxis": "y"
                }
              ],
              "layout": {
                "height": 800,
                "legend": {
                  "tracegroupgap": 0
                },
                "margin": {
                  "t": 60
                },
                "paper_bgcolor": "white",
                "plot_bgcolor": "white",
                "showlegend": false,
                "template": {
                  "data": {
                    "bar": [
                      {
                        "error_x": {
                          "color": "#2a3f5f"
                        },
                        "error_y": {
                          "color": "#2a3f5f"
                        },
                        "marker": {
                          "line": {
                            "color": "#E5ECF6",
                            "width": 0.5
                          },
                          "pattern": {
                            "fillmode": "overlay",
                            "size": 10,
                            "solidity": 0.2
                          }
                        },
                        "type": "bar"
                      }
                    ],
                    "barpolar": [
                      {
                        "marker": {
                          "line": {
                            "color": "#E5ECF6",
                            "width": 0.5
                          },
                          "pattern": {
                            "fillmode": "overlay",
                            "size": 10,
                            "solidity": 0.2
                          }
                        },
                        "type": "barpolar"
                      }
                    ],
                    "carpet": [
                      {
                        "aaxis": {
                          "endlinecolor": "#2a3f5f",
                          "gridcolor": "white",
                          "linecolor": "white",
                          "minorgridcolor": "white",
                          "startlinecolor": "#2a3f5f"
                        },
                        "baxis": {
                          "endlinecolor": "#2a3f5f",
                          "gridcolor": "white",
                          "linecolor": "white",
                          "minorgridcolor": "white",
                          "startlinecolor": "#2a3f5f"
                        },
                        "type": "carpet"
                      }
                    ],
                    "choropleth": [
                      {
                        "colorbar": {
                          "outlinewidth": 0,
                          "ticks": ""
                        },
                        "type": "choropleth"
                      }
                    ],
                    "contour": [
                      {
                        "colorbar": {
                          "outlinewidth": 0,
                          "ticks": ""
                        },
                        "colorscale": [
                          [
                            0,
                            "#0d0887"
                          ],
                          [
                            0.1111111111111111,
                            "#46039f"
                          ],
                          [
                            0.2222222222222222,
                            "#7201a8"
                          ],
                          [
                            0.3333333333333333,
                            "#9c179e"
                          ],
                          [
                            0.4444444444444444,
                            "#bd3786"
                          ],
                          [
                            0.5555555555555556,
                            "#d8576b"
                          ],
                          [
                            0.6666666666666666,
                            "#ed7953"
                          ],
                          [
                            0.7777777777777778,
                            "#fb9f3a"
                          ],
                          [
                            0.8888888888888888,
                            "#fdca26"
                          ],
                          [
                            1,
                            "#f0f921"
                          ]
                        ],
                        "type": "contour"
                      }
                    ],
                    "contourcarpet": [
                      {
                        "colorbar": {
                          "outlinewidth": 0,
                          "ticks": ""
                        },
                        "type": "contourcarpet"
                      }
                    ],
                    "heatmap": [
                      {
                        "colorbar": {
                          "outlinewidth": 0,
                          "ticks": ""
                        },
                        "colorscale": [
                          [
                            0,
                            "#0d0887"
                          ],
                          [
                            0.1111111111111111,
                            "#46039f"
                          ],
                          [
                            0.2222222222222222,
                            "#7201a8"
                          ],
                          [
                            0.3333333333333333,
                            "#9c179e"
                          ],
                          [
                            0.4444444444444444,
                            "#bd3786"
                          ],
                          [
                            0.5555555555555556,
                            "#d8576b"
                          ],
                          [
                            0.6666666666666666,
                            "#ed7953"
                          ],
                          [
                            0.7777777777777778,
                            "#fb9f3a"
                          ],
                          [
                            0.8888888888888888,
                            "#fdca26"
                          ],
                          [
                            1,
                            "#f0f921"
                          ]
                        ],
                        "type": "heatmap"
                      }
                    ],
                    "histogram": [
                      {
                        "marker": {
                          "pattern": {
                            "fillmode": "overlay",
                            "size": 10,
                            "solidity": 0.2
                          }
                        },
                        "type": "histogram"
                      }
                    ],
                    "histogram2d": [
                      {
                        "colorbar": {
                          "outlinewidth": 0,
                          "ticks": ""
                        },
                        "colorscale": [
                          [
                            0,
                            "#0d0887"
                          ],
                          [
                            0.1111111111111111,
                            "#46039f"
                          ],
                          [
                            0.2222222222222222,
                            "#7201a8"
                          ],
                          [
                            0.3333333333333333,
                            "#9c179e"
                          ],
                          [
                            0.4444444444444444,
                            "#bd3786"
                          ],
                          [
                            0.5555555555555556,
                            "#d8576b"
                          ],
                          [
                            0.6666666666666666,
                            "#ed7953"
                          ],
                          [
                            0.7777777777777778,
                            "#fb9f3a"
                          ],
                          [
                            0.8888888888888888,
                            "#fdca26"
                          ],
                          [
                            1,
                            "#f0f921"
                          ]
                        ],
                        "type": "histogram2d"
                      }
                    ],
                    "histogram2dcontour": [
                      {
                        "colorbar": {
                          "outlinewidth": 0,
                          "ticks": ""
                        },
                        "colorscale": [
                          [
                            0,
                            "#0d0887"
                          ],
                          [
                            0.1111111111111111,
                            "#46039f"
                          ],
                          [
                            0.2222222222222222,
                            "#7201a8"
                          ],
                          [
                            0.3333333333333333,
                            "#9c179e"
                          ],
                          [
                            0.4444444444444444,
                            "#bd3786"
                          ],
                          [
                            0.5555555555555556,
                            "#d8576b"
                          ],
                          [
                            0.6666666666666666,
                            "#ed7953"
                          ],
                          [
                            0.7777777777777778,
                            "#fb9f3a"
                          ],
                          [
                            0.8888888888888888,
                            "#fdca26"
                          ],
                          [
                            1,
                            "#f0f921"
                          ]
                        ],
                        "type": "histogram2dcontour"
                      }
                    ],
                    "mesh3d": [
                      {
                        "colorbar": {
                          "outlinewidth": 0,
                          "ticks": ""
                        },
                        "type": "mesh3d"
                      }
                    ],
                    "parcoords": [
                      {
                        "line": {
                          "colorbar": {
                            "outlinewidth": 0,
                            "ticks": ""
                          }
                        },
                        "type": "parcoords"
                      }
                    ],
                    "pie": [
                      {
                        "automargin": true,
                        "type": "pie"
                      }
                    ],
                    "scatter": [
                      {
                        "fillpattern": {
                          "fillmode": "overlay",
                          "size": 10,
                          "solidity": 0.2
                        },
                        "type": "scatter"
                      }
                    ],
                    "scatter3d": [
                      {
                        "line": {
                          "colorbar": {
                            "outlinewidth": 0,
                            "ticks": ""
                          }
                        },
                        "marker": {
                          "colorbar": {
                            "outlinewidth": 0,
                            "ticks": ""
                          }
                        },
                        "type": "scatter3d"
                      }
                    ],
                    "scattercarpet": [
                      {
                        "marker": {
                          "colorbar": {
                            "outlinewidth": 0,
                            "ticks": ""
                          }
                        },
                        "type": "scattercarpet"
                      }
                    ],
                    "scattergeo": [
                      {
                        "marker": {
                          "colorbar": {
                            "outlinewidth": 0,
                            "ticks": ""
                          }
                        },
                        "type": "scattergeo"
                      }
                    ],
                    "scattergl": [
                      {
                        "marker": {
                          "colorbar": {
                            "outlinewidth": 0,
                            "ticks": ""
                          }
                        },
                        "type": "scattergl"
                      }
                    ],
                    "scattermap": [
                      {
                        "marker": {
                          "colorbar": {
                            "outlinewidth": 0,
                            "ticks": ""
                          }
                        },
                        "type": "scattermap"
                      }
                    ],
                    "scattermapbox": [
                      {
                        "marker": {
                          "colorbar": {
                            "outlinewidth": 0,
                            "ticks": ""
                          }
                        },
                        "type": "scattermapbox"
                      }
                    ],
                    "scatterpolar": [
                      {
                        "marker": {
                          "colorbar": {
                            "outlinewidth": 0,
                            "ticks": ""
                          }
                        },
                        "type": "scatterpolar"
                      }
                    ],
                    "scatterpolargl": [
                      {
                        "marker": {
                          "colorbar": {
                            "outlinewidth": 0,
                            "ticks": ""
                          }
                        },
                        "type": "scatterpolargl"
                      }
                    ],
                    "scatterternary": [
                      {
                        "marker": {
                          "colorbar": {
                            "outlinewidth": 0,
                            "ticks": ""
                          }
                        },
                        "type": "scatterternary"
                      }
                    ],
                    "surface": [
                      {
                        "colorbar": {
                          "outlinewidth": 0,
                          "ticks": ""
                        },
                        "colorscale": [
                          [
                            0,
                            "#0d0887"
                          ],
                          [
                            0.1111111111111111,
                            "#46039f"
                          ],
                          [
                            0.2222222222222222,
                            "#7201a8"
                          ],
                          [
                            0.3333333333333333,
                            "#9c179e"
                          ],
                          [
                            0.4444444444444444,
                            "#bd3786"
                          ],
                          [
                            0.5555555555555556,
                            "#d8576b"
                          ],
                          [
                            0.6666666666666666,
                            "#ed7953"
                          ],
                          [
                            0.7777777777777778,
                            "#fb9f3a"
                          ],
                          [
                            0.8888888888888888,
                            "#fdca26"
                          ],
                          [
                            1,
                            "#f0f921"
                          ]
                        ],
                        "type": "surface"
                      }
                    ],
                    "table": [
                      {
                        "cells": {
                          "fill": {
                            "color": "#EBF0F8"
                          },
                          "line": {
                            "color": "white"
                          }
                        },
                        "header": {
                          "fill": {
                            "color": "#C8D4E3"
                          },
                          "line": {
                            "color": "white"
                          }
                        },
                        "type": "table"
                      }
                    ]
                  },
                  "layout": {
                    "annotationdefaults": {
                      "arrowcolor": "#2a3f5f",
                      "arrowhead": 0,
                      "arrowwidth": 1
                    },
                    "autotypenumbers": "strict",
                    "coloraxis": {
                      "colorbar": {
                        "outlinewidth": 0,
                        "ticks": ""
                      }
                    },
                    "colorscale": {
                      "diverging": [
                        [
                          0,
                          "#8e0152"
                        ],
                        [
                          0.1,
                          "#c51b7d"
                        ],
                        [
                          0.2,
                          "#de77ae"
                        ],
                        [
                          0.3,
                          "#f1b6da"
                        ],
                        [
                          0.4,
                          "#fde0ef"
                        ],
                        [
                          0.5,
                          "#f7f7f7"
                        ],
                        [
                          0.6,
                          "#e6f5d0"
                        ],
                        [
                          0.7,
                          "#b8e186"
                        ],
                        [
                          0.8,
                          "#7fbc41"
                        ],
                        [
                          0.9,
                          "#4d9221"
                        ],
                        [
                          1,
                          "#276419"
                        ]
                      ],
                      "sequential": [
                        [
                          0,
                          "#0d0887"
                        ],
                        [
                          0.1111111111111111,
                          "#46039f"
                        ],
                        [
                          0.2222222222222222,
                          "#7201a8"
                        ],
                        [
                          0.3333333333333333,
                          "#9c179e"
                        ],
                        [
                          0.4444444444444444,
                          "#bd3786"
                        ],
                        [
                          0.5555555555555556,
                          "#d8576b"
                        ],
                        [
                          0.6666666666666666,
                          "#ed7953"
                        ],
                        [
                          0.7777777777777778,
                          "#fb9f3a"
                        ],
                        [
                          0.8888888888888888,
                          "#fdca26"
                        ],
                        [
                          1,
                          "#f0f921"
                        ]
                      ],
                      "sequentialminus": [
                        [
                          0,
                          "#0d0887"
                        ],
                        [
                          0.1111111111111111,
                          "#46039f"
                        ],
                        [
                          0.2222222222222222,
                          "#7201a8"
                        ],
                        [
                          0.3333333333333333,
                          "#9c179e"
                        ],
                        [
                          0.4444444444444444,
                          "#bd3786"
                        ],
                        [
                          0.5555555555555556,
                          "#d8576b"
                        ],
                        [
                          0.6666666666666666,
                          "#ed7953"
                        ],
                        [
                          0.7777777777777778,
                          "#fb9f3a"
                        ],
                        [
                          0.8888888888888888,
                          "#fdca26"
                        ],
                        [
                          1,
                          "#f0f921"
                        ]
                      ]
                    },
                    "colorway": [
                      "#636efa",
                      "#EF553B",
                      "#00cc96",
                      "#ab63fa",
                      "#FFA15A",
                      "#19d3f3",
                      "#FF6692",
                      "#B6E880",
                      "#FF97FF",
                      "#FECB52"
                    ],
                    "font": {
                      "color": "#2a3f5f"
                    },
                    "geo": {
                      "bgcolor": "white",
                      "lakecolor": "white",
                      "landcolor": "#E5ECF6",
                      "showlakes": true,
                      "showland": true,
                      "subunitcolor": "white"
                    },
                    "hoverlabel": {
                      "align": "left"
                    },
                    "hovermode": "closest",
                    "mapbox": {
                      "style": "light"
                    },
                    "paper_bgcolor": "white",
                    "plot_bgcolor": "#E5ECF6",
                    "polar": {
                      "angularaxis": {
                        "gridcolor": "white",
                        "linecolor": "white",
                        "ticks": ""
                      },
                      "bgcolor": "#E5ECF6",
                      "radialaxis": {
                        "gridcolor": "white",
                        "linecolor": "white",
                        "ticks": ""
                      }
                    },
                    "scene": {
                      "xaxis": {
                        "backgroundcolor": "#E5ECF6",
                        "gridcolor": "white",
                        "gridwidth": 2,
                        "linecolor": "white",
                        "showbackground": true,
                        "ticks": "",
                        "zerolinecolor": "white"
                      },
                      "yaxis": {
                        "backgroundcolor": "#E5ECF6",
                        "gridcolor": "white",
                        "gridwidth": 2,
                        "linecolor": "white",
                        "showbackground": true,
                        "ticks": "",
                        "zerolinecolor": "white"
                      },
                      "zaxis": {
                        "backgroundcolor": "#E5ECF6",
                        "gridcolor": "white",
                        "gridwidth": 2,
                        "linecolor": "white",
                        "showbackground": true,
                        "ticks": "",
                        "zerolinecolor": "white"
                      }
                    },
                    "shapedefaults": {
                      "line": {
                        "color": "#2a3f5f"
                      }
                    },
                    "ternary": {
                      "aaxis": {
                        "gridcolor": "white",
                        "linecolor": "white",
                        "ticks": ""
                      },
                      "baxis": {
                        "gridcolor": "white",
                        "linecolor": "white",
                        "ticks": ""
                      },
                      "bgcolor": "#E5ECF6",
                      "caxis": {
                        "gridcolor": "white",
                        "linecolor": "white",
                        "ticks": ""
                      }
                    },
                    "title": {
                      "x": 0.05
                    },
                    "xaxis": {
                      "automargin": true,
                      "gridcolor": "white",
                      "linecolor": "white",
                      "ticks": "",
                      "title": {
                        "standoff": 15
                      },
                      "zerolinecolor": "white",
                      "zerolinewidth": 2
                    },
                    "yaxis": {
                      "automargin": true,
                      "gridcolor": "white",
                      "linecolor": "white",
                      "ticks": "",
                      "title": {
                        "standoff": 15
                      },
                      "zerolinecolor": "white",
                      "zerolinewidth": 2
                    }
                  }
                },
                "width": 1000,
                "xaxis": {
                  "anchor": "y",
                  "domain": [
                    0,
                    1
                  ],
                  "linecolor": "black",
                  "linewidth": 1,
                  "mirror": true,
                  "range": [
                    -5,
                    10
                  ],
                  "showgrid": false,
                  "showline": true,
                  "title": {
                    "font": {
                      "color": "black",
                      "size": 20
                    },
                    "text": "Principal component 1"
                  }
                },
                "yaxis": {
                  "anchor": "x",
                  "domain": [
                    0,
                    1
                  ],
                  "linecolor": "black",
                  "linewidth": 1,
                  "mirror": true,
                  "range": [
                    -4,
                    8
                  ],
                  "showgrid": false,
                  "showline": true,
                  "title": {
                    "font": {
                      "color": "black",
                      "size": 20
                    },
                    "text": "Principal component 2"
                  }
                }
              }
            }
          },
          "metadata": {},
          "output_type": "display_data"
        },
        {
          "name": "stdout",
          "output_type": "stream",
          "text": [
            "Saved: ../results/outputs_pca/sidas_dianat_pca_sg_accumulated.png\n"
          ]
        },
        {
          "data": {
            "application/vnd.plotly.v1+json": {
              "config": {
                "plotlyServerURL": "https://plot.ly"
              },
              "data": [
                {
                  "customdata": [
                    [
                      "162866484"
                    ],
                    [
                      "5282102"
                    ],
                    [
                      "447791"
                    ],
                    [
                      "311"
                    ],
                    [
                      "5793"
                    ],
                    [
                      "441574"
                    ],
                    [
                      "23642717"
                    ],
                    [
                      "163033482"
                    ],
                    [
                      "439341"
                    ],
                    [
                      "444539"
                    ],
                    [
                      "102430"
                    ],
                    [
                      "129847920"
                    ],
                    [
                      "11354754"
                    ],
                    [
                      "5274625"
                    ],
                    [
                      "57172986"
                    ],
                    [
                      "11953803"
                    ],
                    [
                      "5320006"
                    ],
                    [
                      "323"
                    ],
                    [
                      "6441104"
                    ],
                    [
                      "11692717"
                    ],
                    [
                      "8103"
                    ],
                    [
                      "10508776"
                    ],
                    [
                      "12088"
                    ],
                    [
                      "163195750"
                    ],
                    [
                      "44552029"
                    ],
                    [
                      "44552030"
                    ],
                    [
                      "798"
                    ],
                    [
                      "12097"
                    ],
                    [
                      "107526"
                    ],
                    [
                      "12799212"
                    ],
                    [
                      "479957"
                    ],
                    [
                      "11194416"
                    ],
                    [
                      "1711945"
                    ],
                    [
                      "102239783"
                    ],
                    [
                      "5280536"
                    ],
                    [
                      "128853"
                    ],
                    [
                      "5466138"
                    ],
                    [
                      "636576"
                    ],
                    [
                      "163057526"
                    ],
                    [
                      "78162875"
                    ],
                    [
                      "101182982"
                    ],
                    [
                      "101204053"
                    ],
                    [
                      "5460372"
                    ],
                    [
                      "440835"
                    ],
                    [
                      "5320834"
                    ],
                    [
                      "1183"
                    ],
                    [
                      "5468749"
                    ],
                    [
                      "10630882"
                    ],
                    [
                      "5280379"
                    ],
                    [
                      "10582821"
                    ],
                    [
                      "162957279"
                    ],
                    [
                      "10256"
                    ],
                    [
                      "162972958"
                    ],
                    [
                      "440265"
                    ],
                    [
                      "14681438"
                    ],
                    [
                      "101204054"
                    ],
                    [
                      "5281647"
                    ],
                    [
                      "28619"
                    ],
                    [
                      "996"
                    ],
                    [
                      "73172655"
                    ],
                    [
                      "129881889"
                    ],
                    [
                      "25310"
                    ],
                    [
                      "10187514"
                    ],
                    [
                      "21579640"
                    ],
                    [
                      "11072668"
                    ],
                    [
                      "9978316"
                    ],
                    [
                      "14340"
                    ],
                    [
                      "72732"
                    ],
                    [
                      "85524814"
                    ],
                    [
                      "49831493"
                    ],
                    [
                      "10652163"
                    ],
                    [
                      "107557"
                    ],
                    [
                      "101114361"
                    ],
                    [
                      "2723872"
                    ],
                    [
                      "44577733"
                    ],
                    [
                      "162842866"
                    ],
                    [
                      "163047490"
                    ],
                    [
                      "3314"
                    ],
                    [
                      "8299"
                    ],
                    [
                      "14079"
                    ],
                    [
                      "10105245"
                    ],
                    [
                      "5281578"
                    ],
                    [
                      "163190248"
                    ],
                    [
                      "10262028"
                    ],
                    [
                      "3083616"
                    ],
                    [
                      "72751004"
                    ],
                    [
                      "135191"
                    ],
                    [
                      "119216"
                    ],
                    [
                      "10413856"
                    ],
                    [
                      "518900"
                    ],
                    [
                      "101286273"
                    ],
                    [
                      "328066"
                    ],
                    [
                      "10743"
                    ],
                    [
                      "373912"
                    ],
                    [
                      "632128"
                    ],
                    [
                      "162978216"
                    ],
                    [
                      "11079623"
                    ],
                    [
                      "8417"
                    ],
                    [
                      "7967"
                    ],
                    [
                      "24982202"
                    ],
                    [
                      "11277992"
                    ],
                    [
                      "163040205"
                    ],
                    [
                      "26339717"
                    ],
                    [
                      "522636"
                    ],
                    [
                      "442101"
                    ],
                    [
                      "7302"
                    ],
                    [
                      "10922890"
                    ],
                    [
                      "1549095"
                    ],
                    [
                      "135"
                    ],
                    [
                      "101114360"
                    ],
                    [
                      "10969116"
                    ],
                    [
                      "5318717"
                    ],
                    [
                      "101262727"
                    ],
                    [
                      "125213"
                    ],
                    [
                      "28516"
                    ],
                    [
                      "44578390"
                    ],
                    [
                      "119205"
                    ],
                    [
                      "538953"
                    ],
                    [
                      "10472650"
                    ],
                    [
                      "85091334"
                    ],
                    [
                      "10748"
                    ],
                    [
                      "46181828"
                    ],
                    [
                      "1548883"
                    ],
                    [
                      "5460657"
                    ],
                    [
                      "5281601"
                    ],
                    [
                      "100151"
                    ],
                    [
                      "42608087"
                    ],
                    [
                      "181681"
                    ],
                    [
                      "124222280"
                    ],
                    [
                      "65373"
                    ],
                    [
                      "7478"
                    ],
                    [
                      "44631546"
                    ],
                    [
                      "5274621"
                    ],
                    [
                      "6274"
                    ],
                    [
                      "12681283"
                    ],
                    [
                      "162904343"
                    ],
                    [
                      "439514"
                    ],
                    [
                      "441833"
                    ],
                    [
                      "1249"
                    ],
                    [
                      "73323377"
                    ],
                    [
                      "49831491"
                    ],
                    [
                      "14035324"
                    ],
                    [
                      "439246"
                    ],
                    [
                      "10252339"
                    ],
                    [
                      "74978075"
                    ],
                    [
                      "375713"
                    ],
                    [
                      "31242"
                    ],
                    [
                      "94225"
                    ],
                    [
                      "636543"
                    ],
                    [
                      "10255859"
                    ],
                    [
                      "10393"
                    ],
                    [
                      "384679"
                    ],
                    [
                      "3469"
                    ],
                    [
                      "6185"
                    ],
                    [
                      "10371536"
                    ],
                    [
                      "16077448"
                    ],
                    [
                      "6057"
                    ],
                    [
                      "10176654"
                    ],
                    [
                      "5281612"
                    ],
                    [
                      "13988634"
                    ],
                    [
                      "5320254"
                    ],
                    [
                      "162847751"
                    ],
                    [
                      "13245586"
                    ],
                    [
                      "163003716"
                    ],
                    [
                      "135542082"
                    ],
                    [
                      "5281321"
                    ],
                    [
                      "132966232"
                    ],
                    [
                      "179"
                    ],
                    [
                      "7438"
                    ],
                    [
                      "441644"
                    ],
                    [
                      "163062115"
                    ],
                    [
                      "101182983"
                    ],
                    [
                      "7156991"
                    ],
                    [
                      "7237"
                    ],
                    [
                      "13915427"
                    ],
                    [
                      "263"
                    ],
                    [
                      "446066"
                    ],
                    [
                      "92863445"
                    ],
                    [
                      "12580"
                    ],
                    [
                      "163195778"
                    ],
                    [
                      "2682"
                    ],
                    [
                      "13918554"
                    ],
                    [
                      "441765"
                    ],
                    [
                      "1174"
                    ],
                    [
                      "35698"
                    ],
                    [
                      "1140"
                    ],
                    [
                      "71403936"
                    ],
                    [
                      "525578"
                    ],
                    [
                      "3015413"
                    ],
                    [
                      "156741"
                    ],
                    [
                      "100914108"
                    ],
                    [
                      "54005211"
                    ],
                    [
                      "100955863"
                    ],
                    [
                      "22238"
                    ],
                    [
                      "162844792"
                    ],
                    [
                      "21742"
                    ]
                  ],
                  "hovertemplate": "PC1=%{x}<br>PC2=%{y}<br>ID=%{customdata[0]}<extra></extra>",
                  "legendgroup": "",
                  "marker": {
                    "color": "#304be3",
                    "size": 10,
                    "symbol": "circle"
                  },
                  "mode": "markers",
                  "name": "",
                  "orientation": "v",
                  "showlegend": false,
                  "type": "scatter",
                  "x": {
                    "bdata": "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",
                    "dtype": "f8"
                  },
                  "xaxis": "x",
                  "y": {
                    "bdata": "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",
                    "dtype": "f8"
                  },
                  "yaxis": "y"
                }
              ],
              "layout": {
                "height": 800,
                "legend": {
                  "tracegroupgap": 0
                },
                "margin": {
                  "t": 60
                },
                "paper_bgcolor": "white",
                "plot_bgcolor": "white",
                "showlegend": false,
                "template": {
                  "data": {
                    "bar": [
                      {
                        "error_x": {
                          "color": "#2a3f5f"
                        },
                        "error_y": {
                          "color": "#2a3f5f"
                        },
                        "marker": {
                          "line": {
                            "color": "#E5ECF6",
                            "width": 0.5
                          },
                          "pattern": {
                            "fillmode": "overlay",
                            "size": 10,
                            "solidity": 0.2
                          }
                        },
                        "type": "bar"
                      }
                    ],
                    "barpolar": [
                      {
                        "marker": {
                          "line": {
                            "color": "#E5ECF6",
                            "width": 0.5
                          },
                          "pattern": {
                            "fillmode": "overlay",
                            "size": 10,
                            "solidity": 0.2
                          }
                        },
                        "type": "barpolar"
                      }
                    ],
                    "carpet": [
                      {
                        "aaxis": {
                          "endlinecolor": "#2a3f5f",
                          "gridcolor": "white",
                          "linecolor": "white",
                          "minorgridcolor": "white",
                          "startlinecolor": "#2a3f5f"
                        },
                        "baxis": {
                          "endlinecolor": "#2a3f5f",
                          "gridcolor": "white",
                          "linecolor": "white",
                          "minorgridcolor": "white",
                          "startlinecolor": "#2a3f5f"
                        },
                        "type": "carpet"
                      }
                    ],
                    "choropleth": [
                      {
                        "colorbar": {
                          "outlinewidth": 0,
                          "ticks": ""
                        },
                        "type": "choropleth"
                      }
                    ],
                    "contour": [
                      {
                        "colorbar": {
                          "outlinewidth": 0,
                          "ticks": ""
                        },
                        "colorscale": [
                          [
                            0,
                            "#0d0887"
                          ],
                          [
                            0.1111111111111111,
                            "#46039f"
                          ],
                          [
                            0.2222222222222222,
                            "#7201a8"
                          ],
                          [
                            0.3333333333333333,
                            "#9c179e"
                          ],
                          [
                            0.4444444444444444,
                            "#bd3786"
                          ],
                          [
                            0.5555555555555556,
                            "#d8576b"
                          ],
                          [
                            0.6666666666666666,
                            "#ed7953"
                          ],
                          [
                            0.7777777777777778,
                            "#fb9f3a"
                          ],
                          [
                            0.8888888888888888,
                            "#fdca26"
                          ],
                          [
                            1,
                            "#f0f921"
                          ]
                        ],
                        "type": "contour"
                      }
                    ],
                    "contourcarpet": [
                      {
                        "colorbar": {
                          "outlinewidth": 0,
                          "ticks": ""
                        },
                        "type": "contourcarpet"
                      }
                    ],
                    "heatmap": [
                      {
                        "colorbar": {
                          "outlinewidth": 0,
                          "ticks": ""
                        },
                        "colorscale": [
                          [
                            0,
                            "#0d0887"
                          ],
                          [
                            0.1111111111111111,
                            "#46039f"
                          ],
                          [
                            0.2222222222222222,
                            "#7201a8"
                          ],
                          [
                            0.3333333333333333,
                            "#9c179e"
                          ],
                          [
                            0.4444444444444444,
                            "#bd3786"
                          ],
                          [
                            0.5555555555555556,
                            "#d8576b"
                          ],
                          [
                            0.6666666666666666,
                            "#ed7953"
                          ],
                          [
                            0.7777777777777778,
                            "#fb9f3a"
                          ],
                          [
                            0.8888888888888888,
                            "#fdca26"
                          ],
                          [
                            1,
                            "#f0f921"
                          ]
                        ],
                        "type": "heatmap"
                      }
                    ],
                    "histogram": [
                      {
                        "marker": {
                          "pattern": {
                            "fillmode": "overlay",
                            "size": 10,
                            "solidity": 0.2
                          }
                        },
                        "type": "histogram"
                      }
                    ],
                    "histogram2d": [
                      {
                        "colorbar": {
                          "outlinewidth": 0,
                          "ticks": ""
                        },
                        "colorscale": [
                          [
                            0,
                            "#0d0887"
                          ],
                          [
                            0.1111111111111111,
                            "#46039f"
                          ],
                          [
                            0.2222222222222222,
                            "#7201a8"
                          ],
                          [
                            0.3333333333333333,
                            "#9c179e"
                          ],
                          [
                            0.4444444444444444,
                            "#bd3786"
                          ],
                          [
                            0.5555555555555556,
                            "#d8576b"
                          ],
                          [
                            0.6666666666666666,
                            "#ed7953"
                          ],
                          [
                            0.7777777777777778,
                            "#fb9f3a"
                          ],
                          [
                            0.8888888888888888,
                            "#fdca26"
                          ],
                          [
                            1,
                            "#f0f921"
                          ]
                        ],
                        "type": "histogram2d"
                      }
                    ],
                    "histogram2dcontour": [
                      {
                        "colorbar": {
                          "outlinewidth": 0,
                          "ticks": ""
                        },
                        "colorscale": [
                          [
                            0,
                            "#0d0887"
                          ],
                          [
                            0.1111111111111111,
                            "#46039f"
                          ],
                          [
                            0.2222222222222222,
                            "#7201a8"
                          ],
                          [
                            0.3333333333333333,
                            "#9c179e"
                          ],
                          [
                            0.4444444444444444,
                            "#bd3786"
                          ],
                          [
                            0.5555555555555556,
                            "#d8576b"
                          ],
                          [
                            0.6666666666666666,
                            "#ed7953"
                          ],
                          [
                            0.7777777777777778,
                            "#fb9f3a"
                          ],
                          [
                            0.8888888888888888,
                            "#fdca26"
                          ],
                          [
                            1,
                            "#f0f921"
                          ]
                        ],
                        "type": "histogram2dcontour"
                      }
                    ],
                    "mesh3d": [
                      {
                        "colorbar": {
                          "outlinewidth": 0,
                          "ticks": ""
                        },
                        "type": "mesh3d"
                      }
                    ],
                    "parcoords": [
                      {
                        "line": {
                          "colorbar": {
                            "outlinewidth": 0,
                            "ticks": ""
                          }
                        },
                        "type": "parcoords"
                      }
                    ],
                    "pie": [
                      {
                        "automargin": true,
                        "type": "pie"
                      }
                    ],
                    "scatter": [
                      {
                        "fillpattern": {
                          "fillmode": "overlay",
                          "size": 10,
                          "solidity": 0.2
                        },
                        "type": "scatter"
                      }
                    ],
                    "scatter3d": [
                      {
                        "line": {
                          "colorbar": {
                            "outlinewidth": 0,
                            "ticks": ""
                          }
                        },
                        "marker": {
                          "colorbar": {
                            "outlinewidth": 0,
                            "ticks": ""
                          }
                        },
                        "type": "scatter3d"
                      }
                    ],
                    "scattercarpet": [
                      {
                        "marker": {
                          "colorbar": {
                            "outlinewidth": 0,
                            "ticks": ""
                          }
                        },
                        "type": "scattercarpet"
                      }
                    ],
                    "scattergeo": [
                      {
                        "marker": {
                          "colorbar": {
                            "outlinewidth": 0,
                            "ticks": ""
                          }
                        },
                        "type": "scattergeo"
                      }
                    ],
                    "scattergl": [
                      {
                        "marker": {
                          "colorbar": {
                            "outlinewidth": 0,
                            "ticks": ""
                          }
                        },
                        "type": "scattergl"
                      }
                    ],
                    "scattermap": [
                      {
                        "marker": {
                          "colorbar": {
                            "outlinewidth": 0,
                            "ticks": ""
                          }
                        },
                        "type": "scattermap"
                      }
                    ],
                    "scattermapbox": [
                      {
                        "marker": {
                          "colorbar": {
                            "outlinewidth": 0,
                            "ticks": ""
                          }
                        },
                        "type": "scattermapbox"
                      }
                    ],
                    "scatterpolar": [
                      {
                        "marker": {
                          "colorbar": {
                            "outlinewidth": 0,
                            "ticks": ""
                          }
                        },
                        "type": "scatterpolar"
                      }
                    ],
                    "scatterpolargl": [
                      {
                        "marker": {
                          "colorbar": {
                            "outlinewidth": 0,
                            "ticks": ""
                          }
                        },
                        "type": "scatterpolargl"
                      }
                    ],
                    "scatterternary": [
                      {
                        "marker": {
                          "colorbar": {
                            "outlinewidth": 0,
                            "ticks": ""
                          }
                        },
                        "type": "scatterternary"
                      }
                    ],
                    "surface": [
                      {
                        "colorbar": {
                          "outlinewidth": 0,
                          "ticks": ""
                        },
                        "colorscale": [
                          [
                            0,
                            "#0d0887"
                          ],
                          [
                            0.1111111111111111,
                            "#46039f"
                          ],
                          [
                            0.2222222222222222,
                            "#7201a8"
                          ],
                          [
                            0.3333333333333333,
                            "#9c179e"
                          ],
                          [
                            0.4444444444444444,
                            "#bd3786"
                          ],
                          [
                            0.5555555555555556,
                            "#d8576b"
                          ],
                          [
                            0.6666666666666666,
                            "#ed7953"
                          ],
                          [
                            0.7777777777777778,
                            "#fb9f3a"
                          ],
                          [
                            0.8888888888888888,
                            "#fdca26"
                          ],
                          [
                            1,
                            "#f0f921"
                          ]
                        ],
                        "type": "surface"
                      }
                    ],
                    "table": [
                      {
                        "cells": {
                          "fill": {
                            "color": "#EBF0F8"
                          },
                          "line": {
                            "color": "white"
                          }
                        },
                        "header": {
                          "fill": {
                            "color": "#C8D4E3"
                          },
                          "line": {
                            "color": "white"
                          }
                        },
                        "type": "table"
                      }
                    ]
                  },
                  "layout": {
                    "annotationdefaults": {
                      "arrowcolor": "#2a3f5f",
                      "arrowhead": 0,
                      "arrowwidth": 1
                    },
                    "autotypenumbers": "strict",
                    "coloraxis": {
                      "colorbar": {
                        "outlinewidth": 0,
                        "ticks": ""
                      }
                    },
                    "colorscale": {
                      "diverging": [
                        [
                          0,
                          "#8e0152"
                        ],
                        [
                          0.1,
                          "#c51b7d"
                        ],
                        [
                          0.2,
                          "#de77ae"
                        ],
                        [
                          0.3,
                          "#f1b6da"
                        ],
                        [
                          0.4,
                          "#fde0ef"
                        ],
                        [
                          0.5,
                          "#f7f7f7"
                        ],
                        [
                          0.6,
                          "#e6f5d0"
                        ],
                        [
                          0.7,
                          "#b8e186"
                        ],
                        [
                          0.8,
                          "#7fbc41"
                        ],
                        [
                          0.9,
                          "#4d9221"
                        ],
                        [
                          1,
                          "#276419"
                        ]
                      ],
                      "sequential": [
                        [
                          0,
                          "#0d0887"
                        ],
                        [
                          0.1111111111111111,
                          "#46039f"
                        ],
                        [
                          0.2222222222222222,
                          "#7201a8"
                        ],
                        [
                          0.3333333333333333,
                          "#9c179e"
                        ],
                        [
                          0.4444444444444444,
                          "#bd3786"
                        ],
                        [
                          0.5555555555555556,
                          "#d8576b"
                        ],
                        [
                          0.6666666666666666,
                          "#ed7953"
                        ],
                        [
                          0.7777777777777778,
                          "#fb9f3a"
                        ],
                        [
                          0.8888888888888888,
                          "#fdca26"
                        ],
                        [
                          1,
                          "#f0f921"
                        ]
                      ],
                      "sequentialminus": [
                        [
                          0,
                          "#0d0887"
                        ],
                        [
                          0.1111111111111111,
                          "#46039f"
                        ],
                        [
                          0.2222222222222222,
                          "#7201a8"
                        ],
                        [
                          0.3333333333333333,
                          "#9c179e"
                        ],
                        [
                          0.4444444444444444,
                          "#bd3786"
                        ],
                        [
                          0.5555555555555556,
                          "#d8576b"
                        ],
                        [
                          0.6666666666666666,
                          "#ed7953"
                        ],
                        [
                          0.7777777777777778,
                          "#fb9f3a"
                        ],
                        [
                          0.8888888888888888,
                          "#fdca26"
                        ],
                        [
                          1,
                          "#f0f921"
                        ]
                      ]
                    },
                    "colorway": [
                      "#636efa",
                      "#EF553B",
                      "#00cc96",
                      "#ab63fa",
                      "#FFA15A",
                      "#19d3f3",
                      "#FF6692",
                      "#B6E880",
                      "#FF97FF",
                      "#FECB52"
                    ],
                    "font": {
                      "color": "#2a3f5f"
                    },
                    "geo": {
                      "bgcolor": "white",
                      "lakecolor": "white",
                      "landcolor": "#E5ECF6",
                      "showlakes": true,
                      "showland": true,
                      "subunitcolor": "white"
                    },
                    "hoverlabel": {
                      "align": "left"
                    },
                    "hovermode": "closest",
                    "mapbox": {
                      "style": "light"
                    },
                    "paper_bgcolor": "white",
                    "plot_bgcolor": "#E5ECF6",
                    "polar": {
                      "angularaxis": {
                        "gridcolor": "white",
                        "linecolor": "white",
                        "ticks": ""
                      },
                      "bgcolor": "#E5ECF6",
                      "radialaxis": {
                        "gridcolor": "white",
                        "linecolor": "white",
                        "ticks": ""
                      }
                    },
                    "scene": {
                      "xaxis": {
                        "backgroundcolor": "#E5ECF6",
                        "gridcolor": "white",
                        "gridwidth": 2,
                        "linecolor": "white",
                        "showbackground": true,
                        "ticks": "",
                        "zerolinecolor": "white"
                      },
                      "yaxis": {
                        "backgroundcolor": "#E5ECF6",
                        "gridcolor": "white",
                        "gridwidth": 2,
                        "linecolor": "white",
                        "showbackground": true,
                        "ticks": "",
                        "zerolinecolor": "white"
                      },
                      "zaxis": {
                        "backgroundcolor": "#E5ECF6",
                        "gridcolor": "white",
                        "gridwidth": 2,
                        "linecolor": "white",
                        "showbackground": true,
                        "ticks": "",
                        "zerolinecolor": "white"
                      }
                    },
                    "shapedefaults": {
                      "line": {
                        "color": "#2a3f5f"
                      }
                    },
                    "ternary": {
                      "aaxis": {
                        "gridcolor": "white",
                        "linecolor": "white",
                        "ticks": ""
                      },
                      "baxis": {
                        "gridcolor": "white",
                        "linecolor": "white",
                        "ticks": ""
                      },
                      "bgcolor": "#E5ECF6",
                      "caxis": {
                        "gridcolor": "white",
                        "linecolor": "white",
                        "ticks": ""
                      }
                    },
                    "title": {
                      "x": 0.05
                    },
                    "xaxis": {
                      "automargin": true,
                      "gridcolor": "white",
                      "linecolor": "white",
                      "ticks": "",
                      "title": {
                        "standoff": 15
                      },
                      "zerolinecolor": "white",
                      "zerolinewidth": 2
                    },
                    "yaxis": {
                      "automargin": true,
                      "gridcolor": "white",
                      "linecolor": "white",
                      "ticks": "",
                      "title": {
                        "standoff": 15
                      },
                      "zerolinecolor": "white",
                      "zerolinewidth": 2
                    }
                  }
                },
                "width": 1000,
                "xaxis": {
                  "anchor": "y",
                  "domain": [
                    0,
                    1
                  ],
                  "linecolor": "black",
                  "linewidth": 1,
                  "mirror": true,
                  "range": [
                    -5,
                    10
                  ],
                  "showgrid": false,
                  "showline": true,
                  "title": {
                    "font": {
                      "color": "black",
                      "size": 20
                    },
                    "text": "Principal component 1"
                  }
                },
                "yaxis": {
                  "anchor": "x",
                  "domain": [
                    0,
                    1
                  ],
                  "linecolor": "black",
                  "linewidth": 1,
                  "mirror": true,
                  "range": [
                    -4,
                    8
                  ],
                  "showgrid": false,
                  "showline": true,
                  "title": {
                    "font": {
                      "color": "black",
                      "size": 20
                    },
                    "text": "Principal component 2"
                  }
                }
              }
            }
          },
          "metadata": {},
          "output_type": "display_data"
        },
        {
          "name": "stdout",
          "output_type": "stream",
          "text": [
            "Saved: ../results/outputs_pca/sidas_dianat_pca_sr_accumulated.png\n"
          ]
        },
        {
          "data": {
            "application/vnd.plotly.v1+json": {
              "config": {
                "plotlyServerURL": "https://plot.ly"
              },
              "data": [
                {
                  "customdata": [
                    [
                      "5204"
                    ],
                    [
                      "442849"
                    ],
                    [
                      "21120946"
                    ],
                    [
                      "1054"
                    ],
                    [
                      "162912427"
                    ],
                    [
                      "162962930"
                    ],
                    [
                      "12303930"
                    ],
                    [
                      "162969771"
                    ],
                    [
                      "162961650"
                    ],
                    [
                      "16093748"
                    ],
                    [
                      "57006309"
                    ],
                    [
                      "7146"
                    ],
                    [
                      "444899"
                    ],
                    [
                      "10416"
                    ],
                    [
                      "112720"
                    ],
                    [
                      "163189932"
                    ],
                    [
                      "6734"
                    ],
                    [
                      "3084463"
                    ],
                    [
                      "5280934"
                    ],
                    [
                      "136085678"
                    ],
                    [
                      "8215"
                    ],
                    [
                      "9561835"
                    ],
                    [
                      "16441"
                    ],
                    [
                      "14091"
                    ],
                    [
                      "134781708"
                    ],
                    [
                      "15645217"
                    ]
                  ],
                  "hovertemplate": "PC1=%{x}<br>PC2=%{y}<br>ID=%{customdata[0]}<extra></extra>",
                  "legendgroup": "",
                  "marker": {
                    "color": "#19a3a6",
                    "size": 10,
                    "symbol": "circle"
                  },
                  "mode": "markers",
                  "name": "",
                  "orientation": "v",
                  "showlegend": false,
                  "type": "scatter",
                  "x": {
                    "bdata": "Q9pjLX5N8r+NERKH3jT9v2/1qYixreO/rl7jWfI7978HDssmYCQNQKFCYlG6lvO/493uWGCI8D+0U8LA/gESQI4xIDR1sbU/lsj06CpY+j+GaXxecZwDwLmAzz2wagXASuvGEX+U+7/cNCTiaf37vyal7gBMGwHAFPn5tYLK9L98L42JWpoIwIlECKStS+S/GXjwrVCO/L9gXpGOScADwLNmasmk4/e/7Hb3A2U28r8G35w0zWoFwKlswvN1OAjAYvRvgMWi6r+r0lSv9GMIwA==",
                    "dtype": "f8"
                  },
                  "xaxis": "x",
                  "y": {
                    "bdata": "o10GkvJ70D8HyPXrk1r0v3/lX5+RqwRACf5lnxiG97+cjQXSXmHSP+fINxB8Y9O/H80ZArlKyj8GyaTBm9/iP43HE2QrS+A/go9HbMO98j/l8JB92N7AvymwDzmCEte/8ea8P1T4A0B4iH1UoOsCQN1JyfCPi/m/RKBsYSvuBEAxaj+FqEHVvwU44nqPIANAI6yt4j1xAUBquvwZ7574v0kGb6tHGA5AbTS/1hygA0AFpluGkgnLv9Yzcb0Fd7q/9oVbuwOTBkDhHy09L/mNPw==",
                    "dtype": "f8"
                  },
                  "yaxis": "y"
                }
              ],
              "layout": {
                "height": 800,
                "legend": {
                  "tracegroupgap": 0
                },
                "margin": {
                  "t": 60
                },
                "paper_bgcolor": "white",
                "plot_bgcolor": "white",
                "showlegend": false,
                "template": {
                  "data": {
                    "bar": [
                      {
                        "error_x": {
                          "color": "#2a3f5f"
                        },
                        "error_y": {
                          "color": "#2a3f5f"
                        },
                        "marker": {
                          "line": {
                            "color": "#E5ECF6",
                            "width": 0.5
                          },
                          "pattern": {
                            "fillmode": "overlay",
                            "size": 10,
                            "solidity": 0.2
                          }
                        },
                        "type": "bar"
                      }
                    ],
                    "barpolar": [
                      {
                        "marker": {
                          "line": {
                            "color": "#E5ECF6",
                            "width": 0.5
                          },
                          "pattern": {
                            "fillmode": "overlay",
                            "size": 10,
                            "solidity": 0.2
                          }
                        },
                        "type": "barpolar"
                      }
                    ],
                    "carpet": [
                      {
                        "aaxis": {
                          "endlinecolor": "#2a3f5f",
                          "gridcolor": "white",
                          "linecolor": "white",
                          "minorgridcolor": "white",
                          "startlinecolor": "#2a3f5f"
                        },
                        "baxis": {
                          "endlinecolor": "#2a3f5f",
                          "gridcolor": "white",
                          "linecolor": "white",
                          "minorgridcolor": "white",
                          "startlinecolor": "#2a3f5f"
                        },
                        "type": "carpet"
                      }
                    ],
                    "choropleth": [
                      {
                        "colorbar": {
                          "outlinewidth": 0,
                          "ticks": ""
                        },
                        "type": "choropleth"
                      }
                    ],
                    "contour": [
                      {
                        "colorbar": {
                          "outlinewidth": 0,
                          "ticks": ""
                        },
                        "colorscale": [
                          [
                            0,
                            "#0d0887"
                          ],
                          [
                            0.1111111111111111,
                            "#46039f"
                          ],
                          [
                            0.2222222222222222,
                            "#7201a8"
                          ],
                          [
                            0.3333333333333333,
                            "#9c179e"
                          ],
                          [
                            0.4444444444444444,
                            "#bd3786"
                          ],
                          [
                            0.5555555555555556,
                            "#d8576b"
                          ],
                          [
                            0.6666666666666666,
                            "#ed7953"
                          ],
                          [
                            0.7777777777777778,
                            "#fb9f3a"
                          ],
                          [
                            0.8888888888888888,
                            "#fdca26"
                          ],
                          [
                            1,
                            "#f0f921"
                          ]
                        ],
                        "type": "contour"
                      }
                    ],
                    "contourcarpet": [
                      {
                        "colorbar": {
                          "outlinewidth": 0,
                          "ticks": ""
                        },
                        "type": "contourcarpet"
                      }
                    ],
                    "heatmap": [
                      {
                        "colorbar": {
                          "outlinewidth": 0,
                          "ticks": ""
                        },
                        "colorscale": [
                          [
                            0,
                            "#0d0887"
                          ],
                          [
                            0.1111111111111111,
                            "#46039f"
                          ],
                          [
                            0.2222222222222222,
                            "#7201a8"
                          ],
                          [
                            0.3333333333333333,
                            "#9c179e"
                          ],
                          [
                            0.4444444444444444,
                            "#bd3786"
                          ],
                          [
                            0.5555555555555556,
                            "#d8576b"
                          ],
                          [
                            0.6666666666666666,
                            "#ed7953"
                          ],
                          [
                            0.7777777777777778,
                            "#fb9f3a"
                          ],
                          [
                            0.8888888888888888,
                            "#fdca26"
                          ],
                          [
                            1,
                            "#f0f921"
                          ]
                        ],
                        "type": "heatmap"
                      }
                    ],
                    "histogram": [
                      {
                        "marker": {
                          "pattern": {
                            "fillmode": "overlay",
                            "size": 10,
                            "solidity": 0.2
                          }
                        },
                        "type": "histogram"
                      }
                    ],
                    "histogram2d": [
                      {
                        "colorbar": {
                          "outlinewidth": 0,
                          "ticks": ""
                        },
                        "colorscale": [
                          [
                            0,
                            "#0d0887"
                          ],
                          [
                            0.1111111111111111,
                            "#46039f"
                          ],
                          [
                            0.2222222222222222,
                            "#7201a8"
                          ],
                          [
                            0.3333333333333333,
                            "#9c179e"
                          ],
                          [
                            0.4444444444444444,
                            "#bd3786"
                          ],
                          [
                            0.5555555555555556,
                            "#d8576b"
                          ],
                          [
                            0.6666666666666666,
                            "#ed7953"
                          ],
                          [
                            0.7777777777777778,
                            "#fb9f3a"
                          ],
                          [
                            0.8888888888888888,
                            "#fdca26"
                          ],
                          [
                            1,
                            "#f0f921"
                          ]
                        ],
                        "type": "histogram2d"
                      }
                    ],
                    "histogram2dcontour": [
                      {
                        "colorbar": {
                          "outlinewidth": 0,
                          "ticks": ""
                        },
                        "colorscale": [
                          [
                            0,
                            "#0d0887"
                          ],
                          [
                            0.1111111111111111,
                            "#46039f"
                          ],
                          [
                            0.2222222222222222,
                            "#7201a8"
                          ],
                          [
                            0.3333333333333333,
                            "#9c179e"
                          ],
                          [
                            0.4444444444444444,
                            "#bd3786"
                          ],
                          [
                            0.5555555555555556,
                            "#d8576b"
                          ],
                          [
                            0.6666666666666666,
                            "#ed7953"
                          ],
                          [
                            0.7777777777777778,
                            "#fb9f3a"
                          ],
                          [
                            0.8888888888888888,
                            "#fdca26"
                          ],
                          [
                            1,
                            "#f0f921"
                          ]
                        ],
                        "type": "histogram2dcontour"
                      }
                    ],
                    "mesh3d": [
                      {
                        "colorbar": {
                          "outlinewidth": 0,
                          "ticks": ""
                        },
                        "type": "mesh3d"
                      }
                    ],
                    "parcoords": [
                      {
                        "line": {
                          "colorbar": {
                            "outlinewidth": 0,
                            "ticks": ""
                          }
                        },
                        "type": "parcoords"
                      }
                    ],
                    "pie": [
                      {
                        "automargin": true,
                        "type": "pie"
                      }
                    ],
                    "scatter": [
                      {
                        "fillpattern": {
                          "fillmode": "overlay",
                          "size": 10,
                          "solidity": 0.2
                        },
                        "type": "scatter"
                      }
                    ],
                    "scatter3d": [
                      {
                        "line": {
                          "colorbar": {
                            "outlinewidth": 0,
                            "ticks": ""
                          }
                        },
                        "marker": {
                          "colorbar": {
                            "outlinewidth": 0,
                            "ticks": ""
                          }
                        },
                        "type": "scatter3d"
                      }
                    ],
                    "scattercarpet": [
                      {
                        "marker": {
                          "colorbar": {
                            "outlinewidth": 0,
                            "ticks": ""
                          }
                        },
                        "type": "scattercarpet"
                      }
                    ],
                    "scattergeo": [
                      {
                        "marker": {
                          "colorbar": {
                            "outlinewidth": 0,
                            "ticks": ""
                          }
                        },
                        "type": "scattergeo"
                      }
                    ],
                    "scattergl": [
                      {
                        "marker": {
                          "colorbar": {
                            "outlinewidth": 0,
                            "ticks": ""
                          }
                        },
                        "type": "scattergl"
                      }
                    ],
                    "scattermap": [
                      {
                        "marker": {
                          "colorbar": {
                            "outlinewidth": 0,
                            "ticks": ""
                          }
                        },
                        "type": "scattermap"
                      }
                    ],
                    "scattermapbox": [
                      {
                        "marker": {
                          "colorbar": {
                            "outlinewidth": 0,
                            "ticks": ""
                          }
                        },
                        "type": "scattermapbox"
                      }
                    ],
                    "scatterpolar": [
                      {
                        "marker": {
                          "colorbar": {
                            "outlinewidth": 0,
                            "ticks": ""
                          }
                        },
                        "type": "scatterpolar"
                      }
                    ],
                    "scatterpolargl": [
                      {
                        "marker": {
                          "colorbar": {
                            "outlinewidth": 0,
                            "ticks": ""
                          }
                        },
                        "type": "scatterpolargl"
                      }
                    ],
                    "scatterternary": [
                      {
                        "marker": {
                          "colorbar": {
                            "outlinewidth": 0,
                            "ticks": ""
                          }
                        },
                        "type": "scatterternary"
                      }
                    ],
                    "surface": [
                      {
                        "colorbar": {
                          "outlinewidth": 0,
                          "ticks": ""
                        },
                        "colorscale": [
                          [
                            0,
                            "#0d0887"
                          ],
                          [
                            0.1111111111111111,
                            "#46039f"
                          ],
                          [
                            0.2222222222222222,
                            "#7201a8"
                          ],
                          [
                            0.3333333333333333,
                            "#9c179e"
                          ],
                          [
                            0.4444444444444444,
                            "#bd3786"
                          ],
                          [
                            0.5555555555555556,
                            "#d8576b"
                          ],
                          [
                            0.6666666666666666,
                            "#ed7953"
                          ],
                          [
                            0.7777777777777778,
                            "#fb9f3a"
                          ],
                          [
                            0.8888888888888888,
                            "#fdca26"
                          ],
                          [
                            1,
                            "#f0f921"
                          ]
                        ],
                        "type": "surface"
                      }
                    ],
                    "table": [
                      {
                        "cells": {
                          "fill": {
                            "color": "#EBF0F8"
                          },
                          "line": {
                            "color": "white"
                          }
                        },
                        "header": {
                          "fill": {
                            "color": "#C8D4E3"
                          },
                          "line": {
                            "color": "white"
                          }
                        },
                        "type": "table"
                      }
                    ]
                  },
                  "layout": {
                    "annotationdefaults": {
                      "arrowcolor": "#2a3f5f",
                      "arrowhead": 0,
                      "arrowwidth": 1
                    },
                    "autotypenumbers": "strict",
                    "coloraxis": {
                      "colorbar": {
                        "outlinewidth": 0,
                        "ticks": ""
                      }
                    },
                    "colorscale": {
                      "diverging": [
                        [
                          0,
                          "#8e0152"
                        ],
                        [
                          0.1,
                          "#c51b7d"
                        ],
                        [
                          0.2,
                          "#de77ae"
                        ],
                        [
                          0.3,
                          "#f1b6da"
                        ],
                        [
                          0.4,
                          "#fde0ef"
                        ],
                        [
                          0.5,
                          "#f7f7f7"
                        ],
                        [
                          0.6,
                          "#e6f5d0"
                        ],
                        [
                          0.7,
                          "#b8e186"
                        ],
                        [
                          0.8,
                          "#7fbc41"
                        ],
                        [
                          0.9,
                          "#4d9221"
                        ],
                        [
                          1,
                          "#276419"
                        ]
                      ],
                      "sequential": [
                        [
                          0,
                          "#0d0887"
                        ],
                        [
                          0.1111111111111111,
                          "#46039f"
                        ],
                        [
                          0.2222222222222222,
                          "#7201a8"
                        ],
                        [
                          0.3333333333333333,
                          "#9c179e"
                        ],
                        [
                          0.4444444444444444,
                          "#bd3786"
                        ],
                        [
                          0.5555555555555556,
                          "#d8576b"
                        ],
                        [
                          0.6666666666666666,
                          "#ed7953"
                        ],
                        [
                          0.7777777777777778,
                          "#fb9f3a"
                        ],
                        [
                          0.8888888888888888,
                          "#fdca26"
                        ],
                        [
                          1,
                          "#f0f921"
                        ]
                      ],
                      "sequentialminus": [
                        [
                          0,
                          "#0d0887"
                        ],
                        [
                          0.1111111111111111,
                          "#46039f"
                        ],
                        [
                          0.2222222222222222,
                          "#7201a8"
                        ],
                        [
                          0.3333333333333333,
                          "#9c179e"
                        ],
                        [
                          0.4444444444444444,
                          "#bd3786"
                        ],
                        [
                          0.5555555555555556,
                          "#d8576b"
                        ],
                        [
                          0.6666666666666666,
                          "#ed7953"
                        ],
                        [
                          0.7777777777777778,
                          "#fb9f3a"
                        ],
                        [
                          0.8888888888888888,
                          "#fdca26"
                        ],
                        [
                          1,
                          "#f0f921"
                        ]
                      ]
                    },
                    "colorway": [
                      "#636efa",
                      "#EF553B",
                      "#00cc96",
                      "#ab63fa",
                      "#FFA15A",
                      "#19d3f3",
                      "#FF6692",
                      "#B6E880",
                      "#FF97FF",
                      "#FECB52"
                    ],
                    "font": {
                      "color": "#2a3f5f"
                    },
                    "geo": {
                      "bgcolor": "white",
                      "lakecolor": "white",
                      "landcolor": "#E5ECF6",
                      "showlakes": true,
                      "showland": true,
                      "subunitcolor": "white"
                    },
                    "hoverlabel": {
                      "align": "left"
                    },
                    "hovermode": "closest",
                    "mapbox": {
                      "style": "light"
                    },
                    "paper_bgcolor": "white",
                    "plot_bgcolor": "#E5ECF6",
                    "polar": {
                      "angularaxis": {
                        "gridcolor": "white",
                        "linecolor": "white",
                        "ticks": ""
                      },
                      "bgcolor": "#E5ECF6",
                      "radialaxis": {
                        "gridcolor": "white",
                        "linecolor": "white",
                        "ticks": ""
                      }
                    },
                    "scene": {
                      "xaxis": {
                        "backgroundcolor": "#E5ECF6",
                        "gridcolor": "white",
                        "gridwidth": 2,
                        "linecolor": "white",
                        "showbackground": true,
                        "ticks": "",
                        "zerolinecolor": "white"
                      },
                      "yaxis": {
                        "backgroundcolor": "#E5ECF6",
                        "gridcolor": "white",
                        "gridwidth": 2,
                        "linecolor": "white",
                        "showbackground": true,
                        "ticks": "",
                        "zerolinecolor": "white"
                      },
                      "zaxis": {
                        "backgroundcolor": "#E5ECF6",
                        "gridcolor": "white",
                        "gridwidth": 2,
                        "linecolor": "white",
                        "showbackground": true,
                        "ticks": "",
                        "zerolinecolor": "white"
                      }
                    },
                    "shapedefaults": {
                      "line": {
                        "color": "#2a3f5f"
                      }
                    },
                    "ternary": {
                      "aaxis": {
                        "gridcolor": "white",
                        "linecolor": "white",
                        "ticks": ""
                      },
                      "baxis": {
                        "gridcolor": "white",
                        "linecolor": "white",
                        "ticks": ""
                      },
                      "bgcolor": "#E5ECF6",
                      "caxis": {
                        "gridcolor": "white",
                        "linecolor": "white",
                        "ticks": ""
                      }
                    },
                    "title": {
                      "x": 0.05
                    },
                    "xaxis": {
                      "automargin": true,
                      "gridcolor": "white",
                      "linecolor": "white",
                      "ticks": "",
                      "title": {
                        "standoff": 15
                      },
                      "zerolinecolor": "white",
                      "zerolinewidth": 2
                    },
                    "yaxis": {
                      "automargin": true,
                      "gridcolor": "white",
                      "linecolor": "white",
                      "ticks": "",
                      "title": {
                        "standoff": 15
                      },
                      "zerolinecolor": "white",
                      "zerolinewidth": 2
                    }
                  }
                },
                "width": 1000,
                "xaxis": {
                  "anchor": "y",
                  "domain": [
                    0,
                    1
                  ],
                  "linecolor": "black",
                  "linewidth": 1,
                  "mirror": true,
                  "range": [
                    -5,
                    10
                  ],
                  "showgrid": false,
                  "showline": true,
                  "title": {
                    "font": {
                      "color": "black",
                      "size": 20
                    },
                    "text": "Principal component 1"
                  }
                },
                "yaxis": {
                  "anchor": "x",
                  "domain": [
                    0,
                    1
                  ],
                  "linecolor": "black",
                  "linewidth": 1,
                  "mirror": true,
                  "range": [
                    -4,
                    8
                  ],
                  "showgrid": false,
                  "showline": true,
                  "title": {
                    "font": {
                      "color": "black",
                      "size": 20
                    },
                    "text": "Principal component 2"
                  }
                }
              }
            }
          },
          "metadata": {},
          "output_type": "display_data"
        }
      ],
      "source": [
        "### Iterate through datasets and create individual plots\n",
        "for dataset in set(pca_3d_df[COL_DATASET].cat.categories):\n",
        "    \n",
        "    ### Filter PCA results for the specific dataset\n",
        "    pca_dataset = pca_3d_df[pca_3d_df[COL_DATASET] == dataset].copy()\n",
        "    \n",
        "    ### Get the corresponding color from the COLOR_MAP\n",
        "    color_value = COLOR_MAP.get(dataset, \"#000000\")  # Default to black if not found\n",
        "    \n",
        "    ### Create the scatter plot for the individual dataset\n",
        "    fig_individual = px.scatter(\n",
        "        pca_dataset, x='PC1', y='PC2',\n",
        "        color_discrete_sequence=[color_value],\n",
        "        title=False,\n",
        "        hover_data=[COL_ID],\n",
        "        width=1000, height=800)\n",
        "    \n",
        "    ### Improve layout and axis titles with dynamic variance\n",
        "    fig_individual.update_traces(marker=dict(size=10))\n",
        "    fig_individual.update_layout(\n",
        "        xaxis=dict(showgrid=False, showline=True, linewidth=1, linecolor='black', mirror=True),\n",
        "        yaxis=dict(showgrid=False, showline=True, linewidth=1, linecolor='black', mirror=True),\n",
        "        plot_bgcolor='white', paper_bgcolor='white',\n",
        "        showlegend=False\n",
        "    )\n",
        "    fig_individual.update_xaxes(title_text=f'Principal component 1', range=[-5, 10],\n",
        "        title_font=dict(size=20, color= \"black\"))\n",
        "    fig_individual.update_yaxes(title_text=f'Principal component 2', range=[-4, 8],\n",
        "        title_font=dict(size=20, color= \"black\"))\n",
        "    \n",
        "    ### Save the static PNG\n",
        "    png_individual = OUTPUT_DIR/f\"sidas_dianat_pca_{dataset.lower().replace('-', '_')}.png\"\n",
        "    pio.write_image(fig_individual, str(png_individual), width=1000, height=800, scale=3)\n",
        "    print(f\"Saved: {png_individual}\")\n",
        "    fig_individual.show()"
      ]
    }
  ],
  "metadata": {
    "colab": {
      "provenance": []
    },
    "kernelspec": {
      "display_name": "chemspace",
      "language": "python",
      "name": "python3"
    },
    "language_info": {
      "codemirror_mode": {
        "name": "ipython",
        "version": 3
      },
      "file_extension": ".py",
      "mimetype": "text/x-python",
      "name": "python",
      "nbconvert_exporter": "python",
      "pygments_lexer": "ipython3",
      "version": "3.13.3"
    },
    "widgets": {
      "application/vnd.jupyter.widget-state+json": {
        "0c9d1e0975d549dd81c046ec72943c5b": {
          "model_module": "@jupyter-widgets/controls",
          "model_module_version": "1.5.0",
          "model_name": "DescriptionStyleModel",
          "state": {
            "_model_module": "@jupyter-widgets/controls",
            "_model_module_version": "1.5.0",
            "_model_name": "DescriptionStyleModel",
            "_view_count": null,
            "_view_module": "@jupyter-widgets/base",
            "_view_module_version": "1.2.0",
            "_view_name": "StyleView",
            "description_width": ""
          }
        },
        "319eec2cd70c4662b244c8b6c60da802": {
          "model_module": "@jupyter-widgets/controls",
          "model_module_version": "1.5.0",
          "model_name": "HTMLModel",
          "state": {
            "_dom_classes": [],
            "_model_module": "@jupyter-widgets/controls",
            "_model_module_version": "1.5.0",
            "_model_name": "HTMLModel",
            "_view_count": null,
            "_view_module": "@jupyter-widgets/controls",
            "_view_module_version": "1.5.0",
            "_view_name": "HTMLView",
            "description": "",
            "description_tooltip": null,
            "layout": "IPY_MODEL_fa1512ac19a84b9db29bce94f17df1f5",
            "placeholder": "​",
            "style": "IPY_MODEL_572f805605fd481a85e537b0f182c906",
            "value": " 300/? [00:33&lt;00:00, 11.05it/s]"
          }
        },
        "3b957f0938414e708c3bca47ba77dc35": {
          "model_module": "@jupyter-widgets/controls",
          "model_module_version": "1.5.0",
          "model_name": "FloatProgressModel",
          "state": {
            "_dom_classes": [],
            "_model_module": "@jupyter-widgets/controls",
            "_model_module_version": "1.5.0",
            "_model_name": "FloatProgressModel",
            "_view_count": null,
            "_view_module": "@jupyter-widgets/controls",
            "_view_module_version": "1.5.0",
            "_view_name": "ProgressView",
            "bar_style": "success",
            "description": "",
            "description_tooltip": null,
            "layout": "IPY_MODEL_ee10f6c85cf249059aba2f6a5b000276",
            "max": 100,
            "min": 0,
            "orientation": "horizontal",
            "style": "IPY_MODEL_ccff62e7cd354325adcd6ea6c8b35014",
            "value": 100
          }
        },
        "3c81f456afab4c10b8a29ddec4129823": {
          "model_module": "@jupyter-widgets/controls",
          "model_module_version": "1.5.0",
          "model_name": "HBoxModel",
          "state": {
            "_dom_classes": [],
            "_model_module": "@jupyter-widgets/controls",
            "_model_module_version": "1.5.0",
            "_model_name": "HBoxModel",
            "_view_count": null,
            "_view_module": "@jupyter-widgets/controls",
            "_view_module_version": "1.5.0",
            "_view_name": "HBoxView",
            "box_style": "",
            "children": [
              "IPY_MODEL_ba037ed3231f4d93b3742841734b6e0f",
              "IPY_MODEL_3b957f0938414e708c3bca47ba77dc35",
              "IPY_MODEL_319eec2cd70c4662b244c8b6c60da802"
            ],
            "layout": "IPY_MODEL_aa5c112948f34f9f9c1bcf7c0ad9e93d"
          }
        },
        "572f805605fd481a85e537b0f182c906": {
          "model_module": "@jupyter-widgets/controls",
          "model_module_version": "1.5.0",
          "model_name": "DescriptionStyleModel",
          "state": {
            "_model_module": "@jupyter-widgets/controls",
            "_model_module_version": "1.5.0",
            "_model_name": "DescriptionStyleModel",
            "_view_count": null,
            "_view_module": "@jupyter-widgets/base",
            "_view_module_version": "1.2.0",
            "_view_name": "StyleView",
            "description_width": ""
          }
        },
        "9489e8ba209e4a7e93e333b9d4e1af14": {
          "model_module": "@jupyter-widgets/base",
          "model_module_version": "1.2.0",
          "model_name": "LayoutModel",
          "state": {
            "_model_module": "@jupyter-widgets/base",
            "_model_module_version": "1.2.0",
            "_model_name": "LayoutModel",
            "_view_count": null,
            "_view_module": "@jupyter-widgets/base",
            "_view_module_version": "1.2.0",
            "_view_name": "LayoutView",
            "align_content": null,
            "align_items": null,
            "align_self": null,
            "border": null,
            "bottom": null,
            "display": null,
            "flex": null,
            "flex_flow": null,
            "grid_area": null,
            "grid_auto_columns": null,
            "grid_auto_flow": null,
            "grid_auto_rows": null,
            "grid_column": null,
            "grid_gap": null,
            "grid_row": null,
            "grid_template_areas": null,
            "grid_template_columns": null,
            "grid_template_rows": null,
            "height": null,
            "justify_content": null,
            "justify_items": null,
            "left": null,
            "margin": null,
            "max_height": null,
            "max_width": null,
            "min_height": null,
            "min_width": null,
            "object_fit": null,
            "object_position": null,
            "order": null,
            "overflow": null,
            "overflow_x": null,
            "overflow_y": null,
            "padding": null,
            "right": null,
            "top": null,
            "visibility": null,
            "width": null
          }
        },
        "aa5c112948f34f9f9c1bcf7c0ad9e93d": {
          "model_module": "@jupyter-widgets/base",
          "model_module_version": "1.2.0",
          "model_name": "LayoutModel",
          "state": {
            "_model_module": "@jupyter-widgets/base",
            "_model_module_version": "1.2.0",
            "_model_name": "LayoutModel",
            "_view_count": null,
            "_view_module": "@jupyter-widgets/base",
            "_view_module_version": "1.2.0",
            "_view_name": "LayoutView",
            "align_content": null,
            "align_items": null,
            "align_self": null,
            "border": null,
            "bottom": null,
            "display": null,
            "flex": null,
            "flex_flow": null,
            "grid_area": null,
            "grid_auto_columns": null,
            "grid_auto_flow": null,
            "grid_auto_rows": null,
            "grid_column": null,
            "grid_gap": null,
            "grid_row": null,
            "grid_template_areas": null,
            "grid_template_columns": null,
            "grid_template_rows": null,
            "height": null,
            "justify_content": null,
            "justify_items": null,
            "left": null,
            "margin": null,
            "max_height": null,
            "max_width": null,
            "min_height": null,
            "min_width": null,
            "object_fit": null,
            "object_position": null,
            "order": null,
            "overflow": null,
            "overflow_x": null,
            "overflow_y": null,
            "padding": null,
            "right": null,
            "top": null,
            "visibility": null,
            "width": null
          }
        },
        "ba037ed3231f4d93b3742841734b6e0f": {
          "model_module": "@jupyter-widgets/controls",
          "model_module_version": "1.5.0",
          "model_name": "HTMLModel",
          "state": {
            "_dom_classes": [],
            "_model_module": "@jupyter-widgets/controls",
            "_model_module_version": "1.5.0",
            "_model_name": "HTMLModel",
            "_view_count": null,
            "_view_module": "@jupyter-widgets/controls",
            "_view_module_version": "1.5.0",
            "_view_name": "HTMLView",
            "description": "",
            "description_tooltip": null,
            "layout": "IPY_MODEL_9489e8ba209e4a7e93e333b9d4e1af14",
            "placeholder": "​",
            "style": "IPY_MODEL_0c9d1e0975d549dd81c046ec72943c5b",
            "value": ""
          }
        },
        "ccff62e7cd354325adcd6ea6c8b35014": {
          "model_module": "@jupyter-widgets/controls",
          "model_module_version": "1.5.0",
          "model_name": "ProgressStyleModel",
          "state": {
            "_model_module": "@jupyter-widgets/controls",
            "_model_module_version": "1.5.0",
            "_model_name": "ProgressStyleModel",
            "_view_count": null,
            "_view_module": "@jupyter-widgets/base",
            "_view_module_version": "1.2.0",
            "_view_name": "StyleView",
            "bar_color": null,
            "description_width": ""
          }
        },
        "ee10f6c85cf249059aba2f6a5b000276": {
          "model_module": "@jupyter-widgets/base",
          "model_module_version": "1.2.0",
          "model_name": "LayoutModel",
          "state": {
            "_model_module": "@jupyter-widgets/base",
            "_model_module_version": "1.2.0",
            "_model_name": "LayoutModel",
            "_view_count": null,
            "_view_module": "@jupyter-widgets/base",
            "_view_module_version": "1.2.0",
            "_view_name": "LayoutView",
            "align_content": null,
            "align_items": null,
            "align_self": null,
            "border": null,
            "bottom": null,
            "display": null,
            "flex": null,
            "flex_flow": null,
            "grid_area": null,
            "grid_auto_columns": null,
            "grid_auto_flow": null,
            "grid_auto_rows": null,
            "grid_column": null,
            "grid_gap": null,
            "grid_row": null,
            "grid_template_areas": null,
            "grid_template_columns": null,
            "grid_template_rows": null,
            "height": null,
            "justify_content": null,
            "justify_items": null,
            "left": null,
            "margin": null,
            "max_height": null,
            "max_width": null,
            "min_height": null,
            "min_width": null,
            "object_fit": null,
            "object_position": null,
            "order": null,
            "overflow": null,
            "overflow_x": null,
            "overflow_y": null,
            "padding": null,
            "right": null,
            "top": null,
            "visibility": null,
            "width": null
          }
        },
        "fa1512ac19a84b9db29bce94f17df1f5": {
          "model_module": "@jupyter-widgets/base",
          "model_module_version": "1.2.0",
          "model_name": "LayoutModel",
          "state": {
            "_model_module": "@jupyter-widgets/base",
            "_model_module_version": "1.2.0",
            "_model_name": "LayoutModel",
            "_view_count": null,
            "_view_module": "@jupyter-widgets/base",
            "_view_module_version": "1.2.0",
            "_view_name": "LayoutView",
            "align_content": null,
            "align_items": null,
            "align_self": null,
            "border": null,
            "bottom": null,
            "display": null,
            "flex": null,
            "flex_flow": null,
            "grid_area": null,
            "grid_auto_columns": null,
            "grid_auto_flow": null,
            "grid_auto_rows": null,
            "grid_column": null,
            "grid_gap": null,
            "grid_row": null,
            "grid_template_areas": null,
            "grid_template_columns": null,
            "grid_template_rows": null,
            "height": null,
            "justify_content": null,
            "justify_items": null,
            "left": null,
            "margin": null,
            "max_height": null,
            "max_width": null,
            "min_height": null,
            "min_width": null,
            "object_fit": null,
            "object_position": null,
            "order": null,
            "overflow": null,
            "overflow_x": null,
            "overflow_y": null,
            "padding": null,
            "right": null,
            "top": null,
            "visibility": null,
            "width": null
          }
        }
      }
    }
  },
  "nbformat": 4,
  "nbformat_minor": 0
}

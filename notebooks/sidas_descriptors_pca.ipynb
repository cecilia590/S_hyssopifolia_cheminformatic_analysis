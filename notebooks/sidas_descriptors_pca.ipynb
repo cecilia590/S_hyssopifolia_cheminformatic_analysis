{
  "cells": [
    {
      "cell_type": "markdown",
      "metadata": {},
      "source": [
        "## **PCA of Molecular Descriptors**\n",
        "This workflow loads curated SMILES, computes a minimal set of interpretable descriptors (Drug type + O/N counts), standardizes features, performs PCA, and visualizes the first two components. Finally, export per-dataset views.\n",
        "\n",
        "### **1. Notebook and data preparation**\n",
        "#### **1.1. Configure the environment**"
      ]
    },
    {
      "cell_type": "code",
      "execution_count": null,
      "metadata": {},
      "outputs": [],
      "source": [
        "### Import necessary libraries and configure settings\n",
        "\n",
        "import os\n",
        "import random\n",
        "from pathlib import Path\n",
        "\n",
        "import pandas as pd\n",
        "import numpy as np\n",
        "\n",
        "from rdkit import Chem\n",
        "from rdkit.Chem import Descriptors\n",
        "\n",
        "from sklearn.preprocessing import StandardScaler\n",
        "from sklearn.decomposition import PCA\n",
        "\n",
        "import matplotlib.pyplot as plt\n",
        "import plotly.express as px\n",
        "from plotly import io as pio"
      ]
    },
    {
      "cell_type": "code",
      "execution_count": 5,
      "metadata": {},
      "outputs": [],
      "source": [
        "### Define parameters and paths for reproducibility and portability\n",
        "\n",
        "SEED = 42\n",
        "random.seed(SEED)\n",
        "np.random.seed(SEED)\n",
        "\n",
        "INPUT_CSV = \"../raw_data/dbs_curated_sidas_dianat.csv\" # Path to the curated SMILES CSV\n",
        "OUTPUT_DIR = Path(\"../results/outputs_pca\") # Directory to save outputs\n",
        "OUTPUT_DIR.mkdir(parents=True, exist_ok=True)\n",
        "\n",
        "COL_ID = \"ID\"\n",
        "COL_DATASET = \"DATASET\"\n",
        "COL_SMILES = \"curated_smiles\""
      ]
    },
    {
      "cell_type": "markdown",
      "metadata": {},
      "source": [
        "#### **1.2. Load data and basic sanity checks**\n",
        "Keep only the required columns and drop rows with missing/invalid SMILES."
      ]
    },
    {
      "cell_type": "code",
      "execution_count": 6,
      "metadata": {},
      "outputs": [
        {
          "name": "stdout",
          "output_type": "stream",
          "text": [
            "(612, 3)\n"
          ]
        },
        {
          "data": {
            "text/html": [
              "<div>\n",
              "<style scoped>\n",
              "    .dataframe tbody tr th:only-of-type {\n",
              "        vertical-align: middle;\n",
              "    }\n",
              "\n",
              "    .dataframe tbody tr th {\n",
              "        vertical-align: top;\n",
              "    }\n",
              "\n",
              "    .dataframe thead th {\n",
              "        text-align: right;\n",
              "    }\n",
              "</style>\n",
              "<table border=\"1\" class=\"dataframe\">\n",
              "  <thead>\n",
              "    <tr style=\"text-align: right;\">\n",
              "      <th></th>\n",
              "      <th>ID</th>\n",
              "      <th>DATASET</th>\n",
              "      <th>curated_smiles</th>\n",
              "    </tr>\n",
              "  </thead>\n",
              "  <tbody>\n",
              "    <tr>\n",
              "      <th>0</th>\n",
              "      <td>DiaNatDB-1</td>\n",
              "      <td>DiaNat-DB</td>\n",
              "      <td>O=C(O)C1=C[C@@H](O)[C@@H](O)[C@H](O)C1</td>\n",
              "    </tr>\n",
              "    <tr>\n",
              "      <th>1</th>\n",
              "      <td>DiaNatDB-10</td>\n",
              "      <td>DiaNat-DB</td>\n",
              "      <td>C=C(C)[C@@H]1CC[C@]2(C)CC[C@]3(C)[C@H](CC[C@@H...</td>\n",
              "    </tr>\n",
              "    <tr>\n",
              "      <th>2</th>\n",
              "      <td>DiaNatDB-100</td>\n",
              "      <td>DiaNat-DB</td>\n",
              "      <td>C=C(CC[C@@H](C)[C@H]1CC[C@@]2(C)C3CC[C@H]4C(C)...</td>\n",
              "    </tr>\n",
              "  </tbody>\n",
              "</table>\n",
              "</div>"
            ],
            "text/plain": [
              "             ID    DATASET                                     curated_smiles\n",
              "0    DiaNatDB-1  DiaNat-DB             O=C(O)C1=C[C@@H](O)[C@@H](O)[C@H](O)C1\n",
              "1   DiaNatDB-10  DiaNat-DB  C=C(C)[C@@H]1CC[C@]2(C)CC[C@]3(C)[C@H](CC[C@@H...\n",
              "2  DiaNatDB-100  DiaNat-DB  C=C(CC[C@@H](C)[C@H]1CC[C@@]2(C)C3CC[C@H]4C(C)..."
            ]
          },
          "execution_count": 6,
          "metadata": {},
          "output_type": "execute_result"
        }
      ],
      "source": [
        "### Load data and keep required columns\n",
        "df = pd.read_csv(INPUT_CSV)\n",
        "\n",
        "required_cols = [COL_ID, COL_DATASET, COL_SMILES]\n",
        "missing = [c for c in required_cols if c not in df.columns]\n",
        "if missing:\n",
        "    raise ValueError(f\"Missing required columns in input CSV: {missing}\")\n",
        "\n",
        "df = df[required_cols].copy()\n",
        "print(df.shape)\n",
        "df.head(3)"
      ]
    },
    {
      "cell_type": "code",
      "execution_count": 7,
      "metadata": {},
      "outputs": [
        {
          "name": "stdout",
          "output_type": "stream",
          "text": [
            "After filtering invalid SMILES: (612, 3)\n"
          ]
        },
        {
          "data": {
            "text/html": [
              "<div>\n",
              "<style scoped>\n",
              "    .dataframe tbody tr th:only-of-type {\n",
              "        vertical-align: middle;\n",
              "    }\n",
              "\n",
              "    .dataframe tbody tr th {\n",
              "        vertical-align: top;\n",
              "    }\n",
              "\n",
              "    .dataframe thead th {\n",
              "        text-align: right;\n",
              "    }\n",
              "</style>\n",
              "<table border=\"1\" class=\"dataframe\">\n",
              "  <thead>\n",
              "    <tr style=\"text-align: right;\">\n",
              "      <th></th>\n",
              "      <th>ID</th>\n",
              "      <th>DATASET</th>\n",
              "      <th>curated_smiles</th>\n",
              "    </tr>\n",
              "  </thead>\n",
              "  <tbody>\n",
              "    <tr>\n",
              "      <th>0</th>\n",
              "      <td>DiaNatDB-1</td>\n",
              "      <td>DiaNat-DB</td>\n",
              "      <td>O=C(O)C1=C[C@@H](O)[C@@H](O)[C@H](O)C1</td>\n",
              "    </tr>\n",
              "    <tr>\n",
              "      <th>1</th>\n",
              "      <td>DiaNatDB-10</td>\n",
              "      <td>DiaNat-DB</td>\n",
              "      <td>C=C(C)[C@@H]1CC[C@]2(C)CC[C@]3(C)[C@H](CC[C@@H...</td>\n",
              "    </tr>\n",
              "    <tr>\n",
              "      <th>2</th>\n",
              "      <td>DiaNatDB-100</td>\n",
              "      <td>DiaNat-DB</td>\n",
              "      <td>C=C(CC[C@@H](C)[C@H]1CC[C@@]2(C)C3CC[C@H]4C(C)...</td>\n",
              "    </tr>\n",
              "  </tbody>\n",
              "</table>\n",
              "</div>"
            ],
            "text/plain": [
              "             ID    DATASET                                     curated_smiles\n",
              "0    DiaNatDB-1  DiaNat-DB             O=C(O)C1=C[C@@H](O)[C@@H](O)[C@H](O)C1\n",
              "1   DiaNatDB-10  DiaNat-DB  C=C(C)[C@@H]1CC[C@]2(C)CC[C@]3(C)[C@H](CC[C@@H...\n",
              "2  DiaNatDB-100  DiaNat-DB  C=C(CC[C@@H](C)[C@H]1CC[C@@]2(C)C3CC[C@H]4C(C)..."
            ]
          },
          "execution_count": 7,
          "metadata": {},
          "output_type": "execute_result"
        }
      ],
      "source": [
        "### Validate SMILES and filter invalid rows\n",
        "def is_valid_smiles(smiles: str) -> bool:\n",
        "    \"\"\"\n",
        "    Return True if SMILES parses into a valid RDKit Mol, else False.\n",
        "    \"\"\"\n",
        "    try:\n",
        "        mol = Chem.MolFromSmiles(smiles)\n",
        "        return mol is not None\n",
        "    except Exception:\n",
        "        return False\n",
        "    \n",
        "mask_valid = df[COL_SMILES].notna() & df[COL_SMILES].astype(str).apply(is_valid_smiles)\n",
        "df = df[mask_valid].reset_index(drop=True)\n",
        "print(f\"After filtering invalid SMILES: {df.shape}\")\n",
        "df.head(3)"
      ]
    },
    {
      "cell_type": "markdown",
      "metadata": {},
      "source": [
        "### **2. Compute descriptor set**\n",
        "Compute a compact set of physicochemical descriptors commonly used in drug discovery: HBD, HBA, MolWt, logP, TPSA, and Rotatable Bonds, and counts of O and N atoms."
      ]
    },
    {
      "cell_type": "code",
      "execution_count": 10,
      "metadata": {},
      "outputs": [],
      "source": [
        "### Define the descriptor columns name\n",
        "DESC_COLS = ['HBD', 'HBA', 'MolWt', 'LogP', 'TPSA',\n",
        "            'NumRotatableBonds', 'NumOxygens', 'NumNitrogens']\n",
        "\n",
        "### Function to compute descriptors\n",
        "def compute_descriptors(smiles: str) -> pd.Series:\n",
        "    \"\"\"\n",
        "    Compute a set of interpretable molecular descriptors from a SMILES string.\n",
        "    \"\"\"\n",
        "    mol = Chem.MolFromSmiles(smiles)\n",
        "    if mol is None:\n",
        "        return pd.Series([np.nan] * len(DESC_COLS), index=DESC_COLS)\n",
        "    \n",
        "    return pd.Series([\n",
        "        Descriptors.NumHDonors(mol),\n",
        "        Descriptors.NumHAcceptors(mol),\n",
        "        Descriptors.MolWt(mol),\n",
        "        Descriptors.MolLogP(mol),\n",
        "        Descriptors.TPSA(mol),\n",
        "        Descriptors.NumRotatableBonds(mol),\n",
        "        sum(1 for atom in mol.GetAtoms() if atom.GetAtomicNum() == '8'),\n",
        "        sum(1 for atom in mol.GetAtoms() if atom.GetAtomicNum() == '7')\n",
        "    ], index=DESC_COLS)"
      ]
    },
    {
      "cell_type": "code",
      "execution_count": 17,
      "metadata": {},
      "outputs": [
        {
          "name": "stdout",
          "output_type": "stream",
          "text": [
            "Saved: ../results/outputs_pca/sidas_dianat_descriptors.csv\n",
            "After computing descriptors: (612, 11)\n"
          ]
        },
        {
          "data": {
            "text/html": [
              "<div>\n",
              "<style scoped>\n",
              "    .dataframe tbody tr th:only-of-type {\n",
              "        vertical-align: middle;\n",
              "    }\n",
              "\n",
              "    .dataframe tbody tr th {\n",
              "        vertical-align: top;\n",
              "    }\n",
              "\n",
              "    .dataframe thead th {\n",
              "        text-align: right;\n",
              "    }\n",
              "</style>\n",
              "<table border=\"1\" class=\"dataframe\">\n",
              "  <thead>\n",
              "    <tr style=\"text-align: right;\">\n",
              "      <th></th>\n",
              "      <th>ID</th>\n",
              "      <th>DATASET</th>\n",
              "      <th>curated_smiles</th>\n",
              "      <th>HBD</th>\n",
              "      <th>HBA</th>\n",
              "      <th>MolWt</th>\n",
              "      <th>LogP</th>\n",
              "      <th>TPSA</th>\n",
              "      <th>NumRotatableBonds</th>\n",
              "      <th>NumOxygens</th>\n",
              "      <th>NumNitrogens</th>\n",
              "    </tr>\n",
              "  </thead>\n",
              "  <tbody>\n",
              "    <tr>\n",
              "      <th>0</th>\n",
              "      <td>DiaNatDB-1</td>\n",
              "      <td>DiaNat-DB</td>\n",
              "      <td>O=C(O)C1=C[C@@H](O)[C@@H](O)[C@H](O)C1</td>\n",
              "      <td>4.0</td>\n",
              "      <td>4.0</td>\n",
              "      <td>174.152</td>\n",
              "      <td>-1.5162</td>\n",
              "      <td>97.99</td>\n",
              "      <td>1.0</td>\n",
              "      <td>0.0</td>\n",
              "      <td>0.0</td>\n",
              "    </tr>\n",
              "    <tr>\n",
              "      <th>1</th>\n",
              "      <td>DiaNatDB-10</td>\n",
              "      <td>DiaNat-DB</td>\n",
              "      <td>C=C(C)[C@@H]1CC[C@]2(C)CC[C@]3(C)[C@H](CC[C@@H...</td>\n",
              "      <td>1.0</td>\n",
              "      <td>1.0</td>\n",
              "      <td>426.729</td>\n",
              "      <td>8.0248</td>\n",
              "      <td>20.23</td>\n",
              "      <td>1.0</td>\n",
              "      <td>0.0</td>\n",
              "      <td>0.0</td>\n",
              "    </tr>\n",
              "    <tr>\n",
              "      <th>2</th>\n",
              "      <td>DiaNatDB-100</td>\n",
              "      <td>DiaNat-DB</td>\n",
              "      <td>C=C(CC[C@@H](C)[C@H]1CC[C@@]2(C)C3CC[C@H]4C(C)...</td>\n",
              "      <td>1.0</td>\n",
              "      <td>1.0</td>\n",
              "      <td>440.756</td>\n",
              "      <td>8.4149</td>\n",
              "      <td>20.23</td>\n",
              "      <td>5.0</td>\n",
              "      <td>0.0</td>\n",
              "      <td>0.0</td>\n",
              "    </tr>\n",
              "  </tbody>\n",
              "</table>\n",
              "</div>"
            ],
            "text/plain": [
              "             ID    DATASET                                     curated_smiles  \\\n",
              "0    DiaNatDB-1  DiaNat-DB             O=C(O)C1=C[C@@H](O)[C@@H](O)[C@H](O)C1   \n",
              "1   DiaNatDB-10  DiaNat-DB  C=C(C)[C@@H]1CC[C@]2(C)CC[C@]3(C)[C@H](CC[C@@H...   \n",
              "2  DiaNatDB-100  DiaNat-DB  C=C(CC[C@@H](C)[C@H]1CC[C@@]2(C)C3CC[C@H]4C(C)...   \n",
              "\n",
              "   HBD  HBA    MolWt    LogP   TPSA  NumRotatableBonds  NumOxygens  \\\n",
              "0  4.0  4.0  174.152 -1.5162  97.99                1.0         0.0   \n",
              "1  1.0  1.0  426.729  8.0248  20.23                1.0         0.0   \n",
              "2  1.0  1.0  440.756  8.4149  20.23                5.0         0.0   \n",
              "\n",
              "   NumNitrogens  \n",
              "0           0.0  \n",
              "1           0.0  \n",
              "2           0.0  "
            ]
          },
          "execution_count": 17,
          "metadata": {},
          "output_type": "execute_result"
        }
      ],
      "source": [
        "### Apply per-row descriptor computation\n",
        "df_desc = df[COL_SMILES].astype(str).apply(compute_descriptors)\n",
        "df_final = pd.concat([df, df_desc], axis=1)\n",
        "\n",
        "descriptors_csv = OUTPUT_DIR/\"sidas_dianat_descriptors.csv\"\n",
        "df_final.to_csv(descriptors_csv, index=False)\n",
        "print(f\"Saved: {descriptors_csv}\")\n",
        "\n",
        "print(f\"After computing descriptors: {df_final.shape}\")\n",
        "df_final.head(3)"
      ]
    },
    {
      "cell_type": "markdown",
      "metadata": {},
      "source": [
        "### **3. PCA workflow overview**\n",
        "\n",
        "* Select only descriptor columns.\n",
        "* Standardize features (mean 0, variance 1).\n",
        "* Fit PCA and compute transformed components.\n",
        "* Inspect explained variance and visualize PC2 vs. PC1.\n",
        "\n",
        "#### **3.1 Build the feature matrix and labels**"
      ]
    },
    {
      "cell_type": "code",
      "execution_count": 21,
      "metadata": {},
      "outputs": [
        {
          "name": "stdout",
          "output_type": "stream",
          "text": [
            "Feature matrix shape: (612, 8)\n"
          ]
        },
        {
          "data": {
            "text/html": [
              "<div>\n",
              "<style scoped>\n",
              "    .dataframe tbody tr th:only-of-type {\n",
              "        vertical-align: middle;\n",
              "    }\n",
              "\n",
              "    .dataframe tbody tr th {\n",
              "        vertical-align: top;\n",
              "    }\n",
              "\n",
              "    .dataframe thead th {\n",
              "        text-align: right;\n",
              "    }\n",
              "</style>\n",
              "<table border=\"1\" class=\"dataframe\">\n",
              "  <thead>\n",
              "    <tr style=\"text-align: right;\">\n",
              "      <th></th>\n",
              "      <th>0</th>\n",
              "      <th>1</th>\n",
              "      <th>2</th>\n",
              "      <th>3</th>\n",
              "      <th>4</th>\n",
              "      <th>5</th>\n",
              "      <th>6</th>\n",
              "      <th>7</th>\n",
              "    </tr>\n",
              "  </thead>\n",
              "  <tbody>\n",
              "    <tr>\n",
              "      <th>0</th>\n",
              "      <td>4.0</td>\n",
              "      <td>4.0</td>\n",
              "      <td>174.152</td>\n",
              "      <td>-1.5162</td>\n",
              "      <td>97.99</td>\n",
              "      <td>1.0</td>\n",
              "      <td>0.0</td>\n",
              "      <td>0.0</td>\n",
              "    </tr>\n",
              "    <tr>\n",
              "      <th>1</th>\n",
              "      <td>1.0</td>\n",
              "      <td>1.0</td>\n",
              "      <td>426.729</td>\n",
              "      <td>8.0248</td>\n",
              "      <td>20.23</td>\n",
              "      <td>1.0</td>\n",
              "      <td>0.0</td>\n",
              "      <td>0.0</td>\n",
              "    </tr>\n",
              "    <tr>\n",
              "      <th>2</th>\n",
              "      <td>1.0</td>\n",
              "      <td>1.0</td>\n",
              "      <td>440.756</td>\n",
              "      <td>8.4149</td>\n",
              "      <td>20.23</td>\n",
              "      <td>5.0</td>\n",
              "      <td>0.0</td>\n",
              "      <td>0.0</td>\n",
              "    </tr>\n",
              "  </tbody>\n",
              "</table>\n",
              "</div>"
            ],
            "text/plain": [
              "     0    1        2       3      4    5    6    7\n",
              "0  4.0  4.0  174.152 -1.5162  97.99  1.0  0.0  0.0\n",
              "1  1.0  1.0  426.729  8.0248  20.23  1.0  0.0  0.0\n",
              "2  1.0  1.0  440.756  8.4149  20.23  5.0  0.0  0.0"
            ]
          },
          "execution_count": 21,
          "metadata": {},
          "output_type": "execute_result"
        }
      ],
      "source": [
        "feature_matrix = df_final[DESC_COLS].to_numpy(dtype=float) # Feature matrix for PCA\n",
        "labels = df_final[[COL_DATASET, COL_ID, COL_SMILES]].copy()  # Labels for reference\n",
        "\n",
        "print(f\"Feature matrix shape: {feature_matrix.shape}\")\n",
        "\n",
        "pd.DataFrame(feature_matrix).head(3)"
      ]
    },
    {
      "cell_type": "markdown",
      "metadata": {},
      "source": [
        "#### **3.2. Standardize and fit PCA**\n",
        "Standardize features before PCA. Compute the first 3 components for potential 3D use and a full PCA for variance plots."
      ]
    },
    {
      "cell_type": "code",
      "execution_count": 22,
      "metadata": {},
      "outputs": [],
      "source": [
        "### Standardize and fit PCA\n",
        "scaler = StandardScaler()\n",
        "feature_matrix_std = scaler.fit_transform(feature_matrix)\n",
        "\n",
        "pca_3d = PCA(n_components=3, random_state=SEED)\n",
        "components_3d = pca_3d.fit_transform(feature_matrix_std)"
      ]
    },
    {
      "cell_type": "code",
      "execution_count": 26,
      "metadata": {},
      "outputs": [
        {
          "name": "stdout",
          "output_type": "stream",
          "text": [
            "Saved: ../results/outputs_pca/sidas_dianat_pca_3d.csv\n",
            "(612, 6)\n"
          ]
        },
        {
          "data": {
            "text/html": [
              "<div>\n",
              "<style scoped>\n",
              "    .dataframe tbody tr th:only-of-type {\n",
              "        vertical-align: middle;\n",
              "    }\n",
              "\n",
              "    .dataframe tbody tr th {\n",
              "        vertical-align: top;\n",
              "    }\n",
              "\n",
              "    .dataframe thead th {\n",
              "        text-align: right;\n",
              "    }\n",
              "</style>\n",
              "<table border=\"1\" class=\"dataframe\">\n",
              "  <thead>\n",
              "    <tr style=\"text-align: right;\">\n",
              "      <th></th>\n",
              "      <th>DATASET</th>\n",
              "      <th>ID</th>\n",
              "      <th>curated_smiles</th>\n",
              "      <th>PC1</th>\n",
              "      <th>PC2</th>\n",
              "      <th>PC3</th>\n",
              "    </tr>\n",
              "  </thead>\n",
              "  <tbody>\n",
              "    <tr>\n",
              "      <th>0</th>\n",
              "      <td>DiaNat-DB</td>\n",
              "      <td>DiaNatDB-1</td>\n",
              "      <td>O=C(O)C1=C[C@@H](O)[C@@H](O)[C@H](O)C1</td>\n",
              "      <td>-0.672887</td>\n",
              "      <td>-1.737184</td>\n",
              "      <td>0.416677</td>\n",
              "    </tr>\n",
              "    <tr>\n",
              "      <th>1</th>\n",
              "      <td>DiaNat-DB</td>\n",
              "      <td>DiaNatDB-10</td>\n",
              "      <td>C=C(C)[C@@H]1CC[C@]2(C)CC[C@]3(C)[C@H](CC[C@@H...</td>\n",
              "      <td>-2.109580</td>\n",
              "      <td>1.320053</td>\n",
              "      <td>-1.478001</td>\n",
              "    </tr>\n",
              "    <tr>\n",
              "      <th>2</th>\n",
              "      <td>DiaNat-DB</td>\n",
              "      <td>DiaNatDB-100</td>\n",
              "      <td>C=C(CC[C@@H](C)[C@H]1CC[C@@]2(C)C3CC[C@H]4C(C)...</td>\n",
              "      <td>-1.900804</td>\n",
              "      <td>2.016830</td>\n",
              "      <td>-0.802371</td>\n",
              "    </tr>\n",
              "  </tbody>\n",
              "</table>\n",
              "</div>"
            ],
            "text/plain": [
              "     DATASET            ID                                     curated_smiles  \\\n",
              "0  DiaNat-DB    DiaNatDB-1             O=C(O)C1=C[C@@H](O)[C@@H](O)[C@H](O)C1   \n",
              "1  DiaNat-DB   DiaNatDB-10  C=C(C)[C@@H]1CC[C@]2(C)CC[C@]3(C)[C@H](CC[C@@H...   \n",
              "2  DiaNat-DB  DiaNatDB-100  C=C(CC[C@@H](C)[C@H]1CC[C@@]2(C)C3CC[C@H]4C(C)...   \n",
              "\n",
              "        PC1       PC2       PC3  \n",
              "0 -0.672887 -1.737184  0.416677  \n",
              "1 -2.109580  1.320053 -1.478001  \n",
              "2 -1.900804  2.016830 -0.802371  "
            ]
          },
          "execution_count": 26,
          "metadata": {},
          "output_type": "execute_result"
        }
      ],
      "source": [
        "### Assemble a PCA results DataFrame\n",
        "pca_3d_df = labels.copy()\n",
        "pca_3d_df[['PC1', 'PC2', 'PC3']] = components_3d\n",
        "\n",
        "pca_3d_csv = OUTPUT_DIR/\"sidas_dianat_pca_3d.csv\"\n",
        "pca_3d_df.to_csv(pca_3d_csv, index=False)\n",
        "print(f\"Saved: {pca_3d_csv}\")\n",
        "print(pca_3d_df.shape)\n",
        "pca_3d_df.head(3)"
      ]
    },
    {
      "cell_type": "markdown",
      "metadata": {},
      "source": [
        "#### **3.3. Explained variance (individual and cumulative plots)**\n",
        "Compute explained variance ratios for all components to decide how many PCs are enough informative."
      ]
    },
    {
      "cell_type": "code",
      "execution_count": 28,
      "metadata": {},
      "outputs": [
        {
          "name": "stdout",
          "output_type": "stream",
          "text": [
            "PC1 variance: 63.882524%\n",
            "PC2 variance: 23.423279%\n"
          ]
        },
        {
          "data": {
            "image/png": "[encoded data removed]",
            "text/plain": [
              "<Figure size 700x500 with 1 Axes>"
            ]
          },
          "metadata": {},
          "output_type": "display_data"
        }
      ],
      "source": [
        "### Scree (individual) and cumulative variance plots\n",
        "pca_full = PCA(random_state=SEED)\n",
        "pca_full.fit(feature_matrix_std)\n",
        "\n",
        "exp_var = pca_full.explained_variance_ratio_\n",
        "cum_exp_var = np.cumsum(exp_var)\n",
        "\n",
        "plt.figure(figsize=(7, 5))\n",
        "plt.bar(range(1, len(exp_var) + 1), exp_var, alpha=0.7, label='Individual Explained Variance')\n",
        "plt.step(range(1, len(cum_exp_var) + 1), cum_exp_var, where='mid', label='Cumulative Explained Variance')\n",
        "plt.xlabel('Principal Component Index')\n",
        "plt.ylabel('Explained Variance Ratio')\n",
        "plt.legend(loc='best')\n",
        "plt.tight_layout()\n",
        "plt.savefig(OUTPUT_DIR/\"sidas_dianat_pca_explained_variance.png\", dpi=300)\n",
        "print(f\"PC1 variance: {exp_var[0]*100:2f}%\")\n",
        "print(f\"PC2 variance: {exp_var[1]*100:2f}%\")\n",
        "plt.show()"
      ]
    },
    {
      "cell_type": "markdown",
      "metadata": {
        "id": "yGGdbX2vkLxx"
      },
      "source": [
        "Al realizar el método de PCA, hay una pérdida de correlación con cada componente, por esto es necesario poder identificar la cantidad de correlación que poseemos para nuestras representaciones visuales, pudiendo determinar si estas serán relevantes o no por la cantidad de correlación que posean con la muestra original."
      ]
    },
    {
      "cell_type": "markdown",
      "metadata": {
        "id": "TcQa7IvCKzzq"
      },
      "source": [
        "Finalmente, se pretende visualizar la varianza explicada por cada componente principal utilizando una gráfica de barras y una gráfica escalonada. La variable \"cum_sum_eigenvalues\" es un arreglo numpy que contiene la suma acumulativa de la varianza explicada por cada componente principal. Luego, se utiliza la función \"plt.bar()\" para crear la gráfica de barras de la varianza explicada para cada componente principal y la función \"plt.step()\" para crear la gráfica escalonada de la varianza explicada acumulada. Finalmente, se ajustan los ejes y se muestran ambas gráficas utilizando \"plt.tight_layout()\" y \"plt.show()\"."
      ]
    },
    {
      "cell_type": "markdown",
      "metadata": {},
      "source": [
        "### **4. Interactive PCA scatter**\n",
        "Points are colored by dataset. Hover to see ID and SMILES. Axis titles include the actual explained variance."
      ]
    },
    {
      "cell_type": "code",
      "execution_count": 42,
      "metadata": {},
      "outputs": [],
      "source": [
        "### Color dataset values\n",
        "COLOR_MAP = {\n",
        "    'DiaNat-DB': \"#979745\",\n",
        "    'SH-accumulated': \"#4AB82B\",\n",
        "    'SG-accumulated': \"#304be3\",\n",
        "    'SR-accumulated': \"#19a3a6\"\n",
        "    }"
      ]
    },
    {
      "cell_type": "code",
      "execution_count": 45,
      "metadata": {},
      "outputs": [
        {
          "data": {
            "text/plain": [
              "['#979745', '#4AB82B', '#304be3', '#19a3a6']"
            ]
          },
          "execution_count": 45,
          "metadata": {},
          "output_type": "execute_result"
        }
      ],
      "source": [
        "list(COLOR_MAP.values())"
      ]
    },
    {
      "cell_type": "code",
      "execution_count": 46,
      "metadata": {},
      "outputs": [
        {
          "name": "stdout",
          "output_type": "stream",
          "text": [
            "Saved: ../results/outputs_pca/sidas_dianat_pca_all.png\n"
          ]
        },
        {
          "data": {
            "application/vnd.plotly.v1+json": {
              "config": {
                "plotlyServerURL": "https://plot.ly"
              },
              "data": [
                {
                  "customdata": [
                    [
                      "DiaNatDB-1"
                    ],
                    [
                      "DiaNatDB-10"
                    ],
                    [
                      "DiaNatDB-100"
                    ],
                    [
                      "DiaNatDB-101"
                    ],
                    [
                      "DiaNatDB-102"
                    ],
                    [
                      "DiaNatDB-103"
                    ],
                    [
                      "DiaNatDB-104"
                    ],
                    [
                      "DiaNatDB-105"
                    ],
                    [
                      "DiaNatDB-106"
                    ],
                    [
                      "DiaNatDB-107"
                    ],
                    [
                      "DiaNatDB-108"
                    ],
                    [
                      "DiaNatDB-109"
                    ],
                    [
                      "DiaNatDB-11"
                    ],
                    [
                      "DiaNatDB-110"
                    ],
                    [
                      "DiaNatDB-111"
                    ],
                    [
                      "DiaNatDB-112"
                    ],
                    [
                      "DiaNatDB-113"
                    ],
                    [
                      "DiaNatDB-114"
                    ],
                    [
                      "DiaNatDB-115"
                    ],
                    [
                      "DiaNatDB-116"
                    ],
                    [
                      "DiaNatDB-117"
                    ],
                    [
                      "DiaNatDB-118"
                    ],
                    [
                      "DiaNatDB-119"
                    ],
                    [
                      "DiaNatDB-120"
                    ],
                    [
                      "DiaNatDB-121"
                    ],
                    [
                      "DiaNatDB-122"
                    ],
                    [
                      "DiaNatDB-123"
                    ],
                    [
                      "DiaNatDB-124"
                    ],
                    [
                      "DiaNatDB-125"
                    ],
                    [
                      "DiaNatDB-126"
                    ],
                    [
                      "DiaNatDB-127"
                    ],
                    [
                      "DiaNatDB-128"
                    ],
                    [
                      "DiaNatDB-129"
                    ],
                    [
                      "DiaNatDB-13"
                    ],
                    [
                      "DiaNatDB-130"
                    ],
                    [
                      "DiaNatDB-131"
                    ],
                    [
                      "DiaNatDB-132"
                    ],
                    [
                      "DiaNatDB-133"
                    ],
                    [
                      "DiaNatDB-134"
                    ],
                    [
                      "DiaNatDB-135"
                    ],
                    [
                      "DiaNatDB-136"
                    ],
                    [
                      "DiaNatDB-137"
                    ],
                    [
                      "DiaNatDB-138"
                    ],
                    [
                      "DiaNatDB-139"
                    ],
                    [
                      "DiaNatDB-14"
                    ],
                    [
                      "DiaNatDB-140"
                    ],
                    [
                      "DiaNatDB-141"
                    ],
                    [
                      "DiaNatDB-142"
                    ],
                    [
                      "DiaNatDB-143"
                    ],
                    [
                      "DiaNatDB-144"
                    ],
                    [
                      "DiaNatDB-145"
                    ],
                    [
                      "DiaNatDB-146"
                    ],
                    [
                      "DiaNatDB-147"
                    ],
                    [
                      "DiaNatDB-148"
                    ],
                    [
                      "DiaNatDB-149"
                    ],
                    [
                      "DiaNatDB-15"
                    ],
                    [
                      "DiaNatDB-150"
                    ],
                    [
                      "DiaNatDB-151"
                    ],
                    [
                      "DiaNatDB-152"
                    ],
                    [
                      "DiaNatDB-153"
                    ],
                    [
                      "DiaNatDB-154"
                    ],
                    [
                      "DiaNatDB-155"
                    ],
                    [
                      "DiaNatDB-156"
                    ],
                    [
                      "DiaNatDB-157"
                    ],
                    [
                      "DiaNatDB-158"
                    ],
                    [
                      "DiaNatDB-159"
                    ],
                    [
                      "DiaNatDB-16"
                    ],
                    [
                      "DiaNatDB-160"
                    ],
                    [
                      "DiaNatDB-161"
                    ],
                    [
                      "DiaNatDB-162"
                    ],
                    [
                      "DiaNatDB-163"
                    ],
                    [
                      "DiaNatDB-164"
                    ],
                    [
                      "DiaNatDB-165"
                    ],
                    [
                      "DiaNatDB-166"
                    ],
                    [
                      "DiaNatDB-167"
                    ],
                    [
                      "DiaNatDB-168"
                    ],
                    [
                      "DiaNatDB-169"
                    ],
                    [
                      "DiaNatDB-17"
                    ],
                    [
                      "DiaNatDB-170"
                    ],
                    [
                      "DiaNatDB-171"
                    ],
                    [
                      "DiaNatDB-172"
                    ],
                    [
                      "DiaNatDB-173"
                    ],
                    [
                      "DiaNatDB-174"
                    ],
                    [
                      "DiaNatDB-175"
                    ],
                    [
                      "DiaNatDB-176"
                    ],
                    [
                      "DiaNatDB-177"
                    ],
                    [
                      "DiaNatDB-178"
                    ],
                    [
                      "DiaNatDB-179"
                    ],
                    [
                      "DiaNatDB-18"
                    ],
                    [
                      "DiaNatDB-180"
                    ],
                    [
                      "DiaNatDB-181"
                    ],
                    [
                      "DiaNatDB-182"
                    ],
                    [
                      "DiaNatDB-183"
                    ],
                    [
                      "DiaNatDB-184"
                    ],
                    [
                      "DiaNatDB-185"
                    ],
                    [
                      "DiaNatDB-186"
                    ],
                    [
                      "DiaNatDB-187"
                    ],
                    [
                      "DiaNatDB-188"
                    ],
                    [
                      "DiaNatDB-189"
                    ],
                    [
                      "DiaNatDB-19"
                    ],
                    [
                      "DiaNatDB-190"
                    ],
                    [
                      "DiaNatDB-191"
                    ],
                    [
                      "DiaNatDB-192"
                    ],
                    [
                      "DiaNatDB-193"
                    ],
                    [
                      "DiaNatDB-194"
                    ],
                    [
                      "DiaNatDB-195"
                    ],
                    [
                      "DiaNatDB-196"
                    ],
                    [
                      "DiaNatDB-197"
                    ],
                    [
                      "DiaNatDB-198"
                    ],
                    [
                      "DiaNatDB-199"
                    ],
                    [
                      "DiaNatDB-2"
                    ],
                    [
                      "DiaNatDB-20"
                    ],
                    [
                      "DiaNatDB-200"
                    ],
                    [
                      "DiaNatDB-201"
                    ],
                    [
                      "DiaNatDB-202"
                    ],
                    [
                      "DiaNatDB-203"
                    ],
                    [
                      "DiaNatDB-204"
                    ],
                    [
                      "DiaNatDB-205"
                    ],
                    [
                      "DiaNatDB-206"
                    ],
                    [
                      "DiaNatDB-207"
                    ],
                    [
                      "DiaNatDB-208"
                    ],
                    [
                      "DiaNatDB-209"
                    ],
                    [
                      "DiaNatDB-21"
                    ],
                    [
                      "DiaNatDB-210"
                    ],
                    [
                      "DiaNatDB-211"
                    ],
                    [
                      "DiaNatDB-212"
                    ],
                    [
                      "DiaNatDB-213"
                    ],
                    [
                      "DiaNatDB-214"
                    ],
                    [
                      "DiaNatDB-215"
                    ],
                    [
                      "DiaNatDB-216"
                    ],
                    [
                      "DiaNatDB-217"
                    ],
                    [
                      "DiaNatDB-218"
                    ],
                    [
                      "DiaNatDB-219"
                    ],
                    [
                      "DiaNatDB-22"
                    ],
                    [
                      "DiaNatDB-220"
                    ],
                    [
                      "DiaNatDB-221"
                    ],
                    [
                      "DiaNatDB-222"
                    ],
                    [
                      "DiaNatDB-223"
                    ],
                    [
                      "DiaNatDB-224"
                    ],
                    [
                      "DiaNatDB-225"
                    ],
                    [
                      "DiaNatDB-226"
                    ],
                    [
                      "DiaNatDB-227"
                    ],
                    [
                      "DiaNatDB-228"
                    ],
                    [
                      "DiaNatDB-229"
                    ],
                    [
                      "DiaNatDB-23"
                    ],
                    [
                      "DiaNatDB-230"
                    ],
                    [
                      "DiaNatDB-231"
                    ],
                    [
                      "DiaNatDB-232"
                    ],
                    [
                      "DiaNatDB-233"
                    ],
                    [
                      "DiaNatDB-234"
                    ],
                    [
                      "DiaNatDB-235"
                    ],
                    [
                      "DiaNatDB-236"
                    ],
                    [
                      "DiaNatDB-237"
                    ],
                    [
                      "DiaNatDB-238"
                    ],
                    [
                      "DiaNatDB-239"
                    ],
                    [
                      "DiaNatDB-24"
                    ],
                    [
                      "DiaNatDB-240"
                    ],
                    [
                      "DiaNatDB-241"
                    ],
                    [
                      "DiaNatDB-242"
                    ],
                    [
                      "DiaNatDB-243"
                    ],
                    [
                      "DiaNatDB-244"
                    ],
                    [
                      "DiaNatDB-245"
                    ],
                    [
                      "DiaNatDB-246"
                    ],
                    [
                      "DiaNatDB-248"
                    ],
                    [
                      "DiaNatDB-249"
                    ],
                    [
                      "DiaNatDB-25"
                    ],
                    [
                      "DiaNatDB-250"
                    ],
                    [
                      "DiaNatDB-251"
                    ],
                    [
                      "DiaNatDB-252"
                    ],
                    [
                      "DiaNatDB-253"
                    ],
                    [
                      "DiaNatDB-254"
                    ],
                    [
                      "DiaNatDB-255"
                    ],
                    [
                      "DiaNatDB-256"
                    ],
                    [
                      "DiaNatDB-257"
                    ],
                    [
                      "DiaNatDB-258"
                    ],
                    [
                      "DiaNatDB-259"
                    ],
                    [
                      "DiaNatDB-26"
                    ],
                    [
                      "DiaNatDB-260"
                    ],
                    [
                      "DiaNatDB-261"
                    ],
                    [
                      "DiaNatDB-262"
                    ],
                    [
                      "DiaNatDB-263"
                    ],
                    [
                      "DiaNatDB-264"
                    ],
                    [
                      "DiaNatDB-265"
                    ],
                    [
                      "DiaNatDB-266"
                    ],
                    [
                      "DiaNatDB-267"
                    ],
                    [
                      "DiaNatDB-268"
                    ],
                    [
                      "DiaNatDB-269"
                    ],
                    [
                      "DiaNatDB-27"
                    ],
                    [
                      "DiaNatDB-270"
                    ],
                    [
                      "DiaNatDB-271"
                    ],
                    [
                      "DiaNatDB-272"
                    ],
                    [
                      "DiaNatDB-273"
                    ],
                    [
                      "DiaNatDB-274"
                    ],
                    [
                      "DiaNatDB-275"
                    ],
                    [
                      "DiaNatDB-276"
                    ],
                    [
                      "DiaNatDB-277"
                    ],
                    [
                      "DiaNatDB-278"
                    ],
                    [
                      "DiaNatDB-279"
                    ],
                    [
                      "DiaNatDB-28"
                    ],
                    [
                      "DiaNatDB-280"
                    ],
                    [
                      "DiaNatDB-281"
                    ],
                    [
                      "DiaNatDB-282"
                    ],
                    [
                      "DiaNatDB-283"
                    ],
                    [
                      "DiaNatDB-284"
                    ],
                    [
                      "DiaNatDB-285"
                    ],
                    [
                      "DiaNatDB-286"
                    ],
                    [
                      "DiaNatDB-287"
                    ],
                    [
                      "DiaNatDB-288"
                    ],
                    [
                      "DiaNatDB-289"
                    ],
                    [
                      "DiaNatDB-29"
                    ],
                    [
                      "DiaNatDB-290"
                    ],
                    [
                      "DiaNatDB-291"
                    ],
                    [
                      "DiaNatDB-292"
                    ],
                    [
                      "DiaNatDB-293"
                    ],
                    [
                      "DiaNatDB-294"
                    ],
                    [
                      "DiaNatDB-295"
                    ],
                    [
                      "DiaNatDB-296"
                    ],
                    [
                      "DiaNatDB-297"
                    ],
                    [
                      "DiaNatDB-298"
                    ],
                    [
                      "DiaNatDB-299"
                    ],
                    [
                      "DiaNatDB-3"
                    ],
                    [
                      "DiaNatDB-30"
                    ],
                    [
                      "DiaNatDB-300"
                    ],
                    [
                      "DiaNatDB-301"
                    ],
                    [
                      "DiaNatDB-302"
                    ],
                    [
                      "DiaNatDB-303"
                    ],
                    [
                      "DiaNatDB-304"
                    ],
                    [
                      "DiaNatDB-305"
                    ],
                    [
                      "DiaNatDB-306"
                    ],
                    [
                      "DiaNatDB-307"
                    ],
                    [
                      "DiaNatDB-308"
                    ],
                    [
                      "DiaNatDB-309"
                    ],
                    [
                      "DiaNatDB-31"
                    ],
                    [
                      "DiaNatDB-310"
                    ],
                    [
                      "DiaNatDB-311"
                    ],
                    [
                      "DiaNatDB-312"
                    ],
                    [
                      "DiaNatDB-313"
                    ],
                    [
                      "DiaNatDB-314"
                    ],
                    [
                      "DiaNatDB-315"
                    ],
                    [
                      "DiaNatDB-316"
                    ],
                    [
                      "DiaNatDB-317"
                    ],
                    [
                      "DiaNatDB-318"
                    ],
                    [
                      "DiaNatDB-319"
                    ],
                    [
                      "DiaNatDB-32"
                    ],
                    [
                      "DiaNatDB-320"
                    ],
                    [
                      "DiaNatDB-321"
                    ],
                    [
                      "DiaNatDB-322"
                    ],
                    [
                      "DiaNatDB-323"
                    ],
                    [
                      "DiaNatDB-324"
                    ],
                    [
                      "DiaNatDB-325"
                    ],
                    [
                      "DiaNatDB-326"
                    ],
                    [
                      "DiaNatDB-327"
                    ],
                    [
                      "DiaNatDB-328"
                    ],
                    [
                      "DiaNatDB-329"
                    ],
                    [
                      "DiaNatDB-33"
                    ],
                    [
                      "DiaNatDB-330"
                    ],
                    [
                      "DiaNatDB-331"
                    ],
                    [
                      "DiaNatDB-332"
                    ],
                    [
                      "DiaNatDB-333"
                    ],
                    [
                      "DiaNatDB-334"
                    ],
                    [
                      "DiaNatDB-335"
                    ],
                    [
                      "DiaNatDB-336"
                    ],
                    [
                      "DiaNatDB-337"
                    ],
                    [
                      "DiaNatDB-338"
                    ],
                    [
                      "DiaNatDB-339"
                    ],
                    [
                      "DiaNatDB-34"
                    ],
                    [
                      "DiaNatDB-340"
                    ],
                    [
                      "DiaNatDB-35"
                    ],
                    [
                      "DiaNatDB-36"
                    ],
                    [
                      "DiaNatDB-37"
                    ],
                    [
                      "DiaNatDB-38"
                    ],
                    [
                      "DiaNatDB-39"
                    ],
                    [
                      "DiaNatDB-40"
                    ],
                    [
                      "DiaNatDB-41"
                    ],
                    [
                      "DiaNatDB-42"
                    ],
                    [
                      "DiaNatDB-43"
                    ],
                    [
                      "DiaNatDB-44"
                    ],
                    [
                      "DiaNatDB-45"
                    ],
                    [
                      "DiaNatDB-46"
                    ],
                    [
                      "DiaNatDB-47"
                    ],
                    [
                      "DiaNatDB-48"
                    ],
                    [
                      "DiaNatDB-49"
                    ],
                    [
                      "DiaNatDB-5"
                    ],
                    [
                      "DiaNatDB-50"
                    ],
                    [
                      "DiaNatDB-51"
                    ],
                    [
                      "DiaNatDB-52"
                    ],
                    [
                      "DiaNatDB-53"
                    ],
                    [
                      "DiaNatDB-54"
                    ],
                    [
                      "DiaNatDB-55"
                    ],
                    [
                      "DiaNatDB-56"
                    ],
                    [
                      "DiaNatDB-57"
                    ],
                    [
                      "DiaNatDB-59"
                    ],
                    [
                      "DiaNatDB-6"
                    ],
                    [
                      "DiaNatDB-60"
                    ],
                    [
                      "DiaNatDB-61"
                    ],
                    [
                      "DiaNatDB-62"
                    ],
                    [
                      "DiaNatDB-63"
                    ],
                    [
                      "DiaNatDB-64"
                    ],
                    [
                      "DiaNatDB-65"
                    ],
                    [
                      "DiaNatDB-66"
                    ],
                    [
                      "DiaNatDB-67"
                    ],
                    [
                      "DiaNatDB-68"
                    ],
                    [
                      "DiaNatDB-69"
                    ],
                    [
                      "DiaNatDB-7"
                    ],
                    [
                      "DiaNatDB-70"
                    ],
                    [
                      "DiaNatDB-71"
                    ],
                    [
                      "DiaNatDB-72"
                    ],
                    [
                      "DiaNatDB-73"
                    ],
                    [
                      "DiaNatDB-74"
                    ],
                    [
                      "DiaNatDB-75"
                    ],
                    [
                      "DiaNatDB-76"
                    ],
                    [
                      "DiaNatDB-77"
                    ],
                    [
                      "DiaNatDB-78"
                    ],
                    [
                      "DiaNatDB-79"
                    ],
                    [
                      "DiaNatDB-8"
                    ],
                    [
                      "DiaNatDB-80"
                    ],
                    [
                      "DiaNatDB-81"
                    ],
                    [
                      "DiaNatDB-82"
                    ],
                    [
                      "DiaNatDB-83"
                    ],
                    [
                      "DiaNatDB-84"
                    ],
                    [
                      "DiaNatDB-85"
                    ],
                    [
                      "DiaNatDB-86"
                    ],
                    [
                      "DiaNatDB-87"
                    ],
                    [
                      "DiaNatDB-88"
                    ],
                    [
                      "DiaNatDB-89"
                    ],
                    [
                      "DiaNatDB-9"
                    ],
                    [
                      "DiaNatDB-90"
                    ],
                    [
                      "DiaNatDB-91"
                    ],
                    [
                      "DiaNatDB-92"
                    ],
                    [
                      "DiaNatDB-93"
                    ],
                    [
                      "DiaNatDB-94"
                    ],
                    [
                      "DiaNatDB-95"
                    ],
                    [
                      "DiaNatDB-96"
                    ],
                    [
                      "DiaNatDB-97"
                    ],
                    [
                      "DiaNatDB-98"
                    ],
                    [
                      "DiaNatDB-99"
                    ]
                  ],
                  "hovertemplate": "DATASET=DiaNat-DB<br>PC1=%{x}<br>PC2=%{y}<br>ID=%{customdata[0]}<extra></extra>",
                  "legendgroup": "DiaNat-DB",
                  "marker": {
                    "color": "#979745",
                    "size": 10,
                    "symbol": "circle"
                  },
                  "mode": "markers",
                  "name": "DiaNat-DB",
                  "orientation": "v",
                  "showlegend": true,
                  "type": "scatter",
                  "x": {
                    "bdata": "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",
                    "dtype": "f8"
                  },
                  "xaxis": "x",
                  "y": {
                    "bdata": "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",
                    "dtype": "f8"
                  },
                  "yaxis": "y"
                },
                {
                  "customdata": [
                    [
                      "162866484"
                    ],
                    [
                      "5282102"
                    ],
                    [
                      "447791"
                    ],
                    [
                      "311"
                    ],
                    [
                      "5793"
                    ],
                    [
                      "441574"
                    ],
                    [
                      "23642717"
                    ],
                    [
                      "163033482"
                    ],
                    [
                      "439341"
                    ],
                    [
                      "444539"
                    ],
                    [
                      "102430"
                    ],
                    [
                      "129847920"
                    ],
                    [
                      "11354754"
                    ],
                    [
                      "5274625"
                    ],
                    [
                      "57172986"
                    ],
                    [
                      "11953803"
                    ],
                    [
                      "5320006"
                    ],
                    [
                      "323"
                    ],
                    [
                      "6441104"
                    ],
                    [
                      "11692717"
                    ],
                    [
                      "8103"
                    ],
                    [
                      "10508776"
                    ],
                    [
                      "12088"
                    ],
                    [
                      "163195750"
                    ],
                    [
                      "44552029"
                    ],
                    [
                      "44552030"
                    ],
                    [
                      "798"
                    ],
                    [
                      "12097"
                    ],
                    [
                      "107526"
                    ],
                    [
                      "12799212"
                    ],
                    [
                      "479957"
                    ],
                    [
                      "11194416"
                    ],
                    [
                      "1711945"
                    ],
                    [
                      "102239783"
                    ],
                    [
                      "5280536"
                    ],
                    [
                      "128853"
                    ],
                    [
                      "5466138"
                    ],
                    [
                      "636576"
                    ],
                    [
                      "163057526"
                    ],
                    [
                      "78162875"
                    ],
                    [
                      "101182982"
                    ],
                    [
                      "101204053"
                    ],
                    [
                      "5460372"
                    ],
                    [
                      "440835"
                    ],
                    [
                      "5320834"
                    ],
                    [
                      "1183"
                    ],
                    [
                      "5468749"
                    ],
                    [
                      "10630882"
                    ],
                    [
                      "5280379"
                    ],
                    [
                      "10582821"
                    ],
                    [
                      "162957279"
                    ],
                    [
                      "10256"
                    ],
                    [
                      "162972958"
                    ],
                    [
                      "440265"
                    ],
                    [
                      "14681438"
                    ],
                    [
                      "101204054"
                    ],
                    [
                      "5281647"
                    ],
                    [
                      "28619"
                    ],
                    [
                      "996"
                    ],
                    [
                      "73172655"
                    ],
                    [
                      "129881889"
                    ],
                    [
                      "25310"
                    ],
                    [
                      "10187514"
                    ],
                    [
                      "21579640"
                    ],
                    [
                      "11072668"
                    ],
                    [
                      "9978316"
                    ],
                    [
                      "14340"
                    ],
                    [
                      "72732"
                    ],
                    [
                      "85524814"
                    ],
                    [
                      "49831493"
                    ],
                    [
                      "10652163"
                    ],
                    [
                      "107557"
                    ],
                    [
                      "101114361"
                    ],
                    [
                      "2723872"
                    ],
                    [
                      "44577733"
                    ],
                    [
                      "162842866"
                    ],
                    [
                      "163047490"
                    ],
                    [
                      "3314"
                    ],
                    [
                      "8299"
                    ],
                    [
                      "14079"
                    ],
                    [
                      "10105245"
                    ],
                    [
                      "5281578"
                    ],
                    [
                      "163190248"
                    ],
                    [
                      "10262028"
                    ],
                    [
                      "3083616"
                    ],
                    [
                      "72751004"
                    ],
                    [
                      "135191"
                    ],
                    [
                      "119216"
                    ],
                    [
                      "10413856"
                    ],
                    [
                      "518900"
                    ],
                    [
                      "101286273"
                    ],
                    [
                      "328066"
                    ],
                    [
                      "10743"
                    ],
                    [
                      "373912"
                    ],
                    [
                      "632128"
                    ],
                    [
                      "162978216"
                    ],
                    [
                      "11079623"
                    ],
                    [
                      "8417"
                    ],
                    [
                      "7967"
                    ],
                    [
                      "24982202"
                    ],
                    [
                      "11277992"
                    ],
                    [
                      "163040205"
                    ],
                    [
                      "26339717"
                    ],
                    [
                      "522636"
                    ],
                    [
                      "442101"
                    ],
                    [
                      "7302"
                    ],
                    [
                      "10922890"
                    ],
                    [
                      "1549095"
                    ],
                    [
                      "135"
                    ],
                    [
                      "101114360"
                    ],
                    [
                      "10969116"
                    ],
                    [
                      "5318717"
                    ],
                    [
                      "101262727"
                    ],
                    [
                      "125213"
                    ],
                    [
                      "28516"
                    ],
                    [
                      "44578390"
                    ],
                    [
                      "119205"
                    ],
                    [
                      "538953"
                    ],
                    [
                      "10472650"
                    ],
                    [
                      "85091334"
                    ],
                    [
                      "10748"
                    ],
                    [
                      "46181828"
                    ],
                    [
                      "1548883"
                    ],
                    [
                      "5460657"
                    ],
                    [
                      "5281601"
                    ],
                    [
                      "100151"
                    ],
                    [
                      "42608087"
                    ],
                    [
                      "181681"
                    ],
                    [
                      "124222280"
                    ],
                    [
                      "65373"
                    ],
                    [
                      "7478"
                    ],
                    [
                      "44631546"
                    ],
                    [
                      "5274621"
                    ],
                    [
                      "6274"
                    ],
                    [
                      "12681283"
                    ],
                    [
                      "162904343"
                    ],
                    [
                      "439514"
                    ],
                    [
                      "441833"
                    ],
                    [
                      "1249"
                    ],
                    [
                      "73323377"
                    ],
                    [
                      "49831491"
                    ],
                    [
                      "14035324"
                    ],
                    [
                      "439246"
                    ],
                    [
                      "10252339"
                    ],
                    [
                      "74978075"
                    ],
                    [
                      "375713"
                    ],
                    [
                      "31242"
                    ],
                    [
                      "94225"
                    ],
                    [
                      "636543"
                    ],
                    [
                      "10255859"
                    ],
                    [
                      "10393"
                    ],
                    [
                      "384679"
                    ],
                    [
                      "3469"
                    ],
                    [
                      "6185"
                    ],
                    [
                      "10371536"
                    ],
                    [
                      "16077448"
                    ],
                    [
                      "6057"
                    ],
                    [
                      "10176654"
                    ],
                    [
                      "5281612"
                    ],
                    [
                      "13988634"
                    ],
                    [
                      "5320254"
                    ],
                    [
                      "162847751"
                    ],
                    [
                      "13245586"
                    ],
                    [
                      "163003716"
                    ],
                    [
                      "135542082"
                    ],
                    [
                      "5281321"
                    ],
                    [
                      "132966232"
                    ],
                    [
                      "179"
                    ],
                    [
                      "7438"
                    ],
                    [
                      "441644"
                    ],
                    [
                      "163062115"
                    ],
                    [
                      "101182983"
                    ],
                    [
                      "7156991"
                    ],
                    [
                      "7237"
                    ],
                    [
                      "13915427"
                    ],
                    [
                      "263"
                    ],
                    [
                      "446066"
                    ],
                    [
                      "92863445"
                    ],
                    [
                      "12580"
                    ],
                    [
                      "163195778"
                    ],
                    [
                      "2682"
                    ],
                    [
                      "13918554"
                    ],
                    [
                      "441765"
                    ],
                    [
                      "1174"
                    ],
                    [
                      "35698"
                    ],
                    [
                      "1140"
                    ],
                    [
                      "71403936"
                    ],
                    [
                      "525578"
                    ],
                    [
                      "3015413"
                    ],
                    [
                      "156741"
                    ],
                    [
                      "100914108"
                    ],
                    [
                      "54005211"
                    ],
                    [
                      "100955863"
                    ],
                    [
                      "22238"
                    ],
                    [
                      "162844792"
                    ],
                    [
                      "21742"
                    ]
                  ],
                  "hovertemplate": "DATASET=SG-accumulated<br>PC1=%{x}<br>PC2=%{y}<br>ID=%{customdata[0]}<extra></extra>",
                  "legendgroup": "SG-accumulated",
                  "marker": {
                    "color": "#4AB82B",
                    "size": 10,
                    "symbol": "circle"
                  },
                  "mode": "markers",
                  "name": "SG-accumulated",
                  "orientation": "v",
                  "showlegend": true,
                  "type": "scatter",
                  "x": {
                    "bdata": "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",
                    "dtype": "f8"
                  },
                  "xaxis": "x",
                  "y": {
                    "bdata": "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",
                    "dtype": "f8"
                  },
                  "yaxis": "y"
                },
                {
                  "customdata": [
                    [
                      "5204"
                    ],
                    [
                      "442849"
                    ],
                    [
                      "21120946"
                    ],
                    [
                      "1054"
                    ],
                    [
                      "162912427"
                    ],
                    [
                      "162962930"
                    ],
                    [
                      "12303930"
                    ],
                    [
                      "162969771"
                    ],
                    [
                      "162961650"
                    ],
                    [
                      "16093748"
                    ],
                    [
                      "57006309"
                    ],
                    [
                      "7146"
                    ],
                    [
                      "444899"
                    ],
                    [
                      "10416"
                    ],
                    [
                      "112720"
                    ],
                    [
                      "163189932"
                    ],
                    [
                      "6734"
                    ],
                    [
                      "3084463"
                    ],
                    [
                      "5280934"
                    ],
                    [
                      "136085678"
                    ],
                    [
                      "8215"
                    ],
                    [
                      "9561835"
                    ],
                    [
                      "16441"
                    ],
                    [
                      "14091"
                    ],
                    [
                      "134781708"
                    ],
                    [
                      "15645217"
                    ]
                  ],
                  "hovertemplate": "DATASET=SR-accumulated<br>PC1=%{x}<br>PC2=%{y}<br>ID=%{customdata[0]}<extra></extra>",
                  "legendgroup": "SR-accumulated",
                  "marker": {
                    "color": "#304be3",
                    "size": 10,
                    "symbol": "circle"
                  },
                  "mode": "markers",
                  "name": "SR-accumulated",
                  "orientation": "v",
                  "showlegend": true,
                  "type": "scatter",
                  "x": {
                    "bdata": "7Ht/E2gu9L9D7Dl6dOH3v9OuHqHsaeW/PKROpfEa8b8ou0+hU4IJQGcpczYU7vO/a6ShDx8a7D8cZkGgkqEQQKDkuZMuq5M/clbhMTSx9T8wJ5SHVooBwBlevu38mgPAKaIxYNCM97/u0AdcbAD4vzkyCzHfx/u/fcRlnl6P8b8BfJksG18GwCRNEzGA6Ny/aCBhhy6o+L/O1mzDhb/8vyrc4YNzTPO/LlcYcttA7b82SYrHr5wDwNHvNyPn6gXAj/Tz0sI+5r/K+zu+TCEGwA==",
                    "dtype": "f8"
                  },
                  "xaxis": "x",
                  "y": {
                    "bdata": "ILfXTLddwT9aPMtgTMnuvyTu4dchbgRAkPZvh0hu8r/SfLclOvzUP3g8ebX7Ct2/yzEIwFINwz8bmLdlXxPlPzfW89Zee9s/8Gd9JRfB8j93/TAC/VnSvxZoqrnCLuG/evBuRiraA0AIEepcVMUCQMH8nb8zvfS/eh1PmnoEBUACqSRvh/Tgv+QzzrWRWQNAFViGZV80AUDnZEPzW4Hov0VSxfQjig5Ark/QRPC0A0AjDL/tnZvYv2RE8+5pHtK/UFuWxUBqBkAha+pK5qHFvw==",
                    "dtype": "f8"
                  },
                  "yaxis": "y"
                },
                {
                  "customdata": [
                    [
                      "11060391"
                    ],
                    [
                      "338"
                    ],
                    [
                      "439944"
                    ],
                    [
                      "45273405"
                    ],
                    [
                      "12313704"
                    ],
                    [
                      "5491693"
                    ],
                    [
                      "133551"
                    ],
                    [
                      "25021697"
                    ],
                    [
                      "100967916"
                    ],
                    [
                      "90657201"
                    ],
                    [
                      "162999405"
                    ],
                    [
                      "10023166"
                    ],
                    [
                      "123908"
                    ],
                    [
                      "10603919"
                    ],
                    [
                      "286498"
                    ],
                    [
                      "5274626"
                    ],
                    [
                      "15767724"
                    ],
                    [
                      "5281119"
                    ],
                    [
                      "163106470"
                    ],
                    [
                      "163189360"
                    ],
                    [
                      "9930500"
                    ],
                    [
                      "14887607"
                    ],
                    [
                      "5490334"
                    ],
                    [
                      "14055737"
                    ],
                    [
                      "73207"
                    ],
                    [
                      "638014"
                    ],
                    [
                      "22236717"
                    ],
                    [
                      "15559735"
                    ],
                    [
                      "5487855"
                    ],
                    [
                      "6436348"
                    ],
                    [
                      "5319474"
                    ],
                    [
                      "163020497"
                    ],
                    [
                      "44178847"
                    ],
                    [
                      "162887874"
                    ],
                    [
                      "65064"
                    ],
                    [
                      "44566911"
                    ],
                    [
                      "73193"
                    ],
                    [
                      "5281702"
                    ],
                    [
                      "5281676"
                    ],
                    [
                      "44260032"
                    ],
                    [
                      "1742210"
                    ],
                    [
                      "1203"
                    ],
                    [
                      "101607227"
                    ],
                    [
                      "162957786"
                    ],
                    [
                      "19309"
                    ],
                    [
                      "62465"
                    ],
                    [
                      "24796850"
                    ],
                    [
                      "101248984"
                    ],
                    [
                      "11167374"
                    ],
                    [
                      "2371"
                    ],
                    [
                      "10494"
                    ],
                    [
                      "107876"
                    ],
                    [
                      "19844"
                    ],
                    [
                      "14707301"
                    ]
                  ],
                  "hovertemplate": "DATASET=SH-accumulated<br>PC1=%{x}<br>PC2=%{y}<br>ID=%{customdata[0]}<extra></extra>",
                  "legendgroup": "SH-accumulated",
                  "marker": {
                    "color": "#19a3a6",
                    "size": 10,
                    "symbol": "circle"
                  },
                  "mode": "markers",
                  "name": "SH-accumulated",
                  "orientation": "v",
                  "showlegend": true,
                  "type": "scatter",
                  "x": {
                    "bdata": "+L/nneek1D9VQHOZw9v7v+RKGp3MtOA/izYv4mfF3L8HYJI20Mb6v+KY/me3PP0/80cR8Zspzr9DrnGdB73UPyQxWFuNELg/F9XHTfaK+j9mWzVeOkT6PyfxwIxTF+g/X/eC3N9H0j+bFKeJAiXAP5nONmPpoc4/LDS/L/hCmr9nG7G/J8vQP+IcwNXq3vq/Ziofzm34BkB2qnkswuKDPxm+VOc0/+G/mLKhmw7+AUBmKh/ObfgGQKVY99o4Ybo/U+P5urEu3b8lTGaD5IsDwPMukVSgfwHAW1Tc6iKf7j8k1B5SrWfSv5xAHb7TUATAyAnY7qhO+b8pjiWk14IJQIV3QeUAZfO/lkDYycbDAkD70ZwYHhD9P3yX+TLu2f0/1SFRy7NE3b8j1B5SrWfSv1kImvRHXmG/04zVrY8p9T88RPEjMEMEwL9NsQ3TBMi/gS3OhB160L94KzeN1gf2P1ZbjgqZoP6/yhorQweCAMBwTxil1v3NP72veVeFxbg/k9UNON9G7b+lWhUKbZv2v8ioihywmve/QMD4NjULB0ACPqI8etv4v005IxNZSOu/",
                    "dtype": "f8"
                  },
                  "xaxis": "x",
                  "y": {
                    "bdata": "8V4k8YR74z/YyQfqGpHwv9yPP4K56vu/vbh6J8UV8z/w34guYi7zPyNorherdOe/kvXVTksOAkDogkca6Fj6v6SB2ml1dgJAX90SPxlL278iH3iLNRDMP4zbcMESNeO/vVNTWIci9r+KtgqFmnP/P6XbNn6TK9o/HhdKXpQa/T9HQ9HLrQIAQJhOakeT0fc/zRhzyk2+7b+AReNESX3xP3a/hIs8Gfi///ZT5pw44L/OGHPKTb7tv4+b1zOP5Nc/hRmyVZISxj+cPIA3DsyRv0OLfIGLSNs/s7b2qttV7789zOGK5ynBv5cXnGJWRLW/iZX5nc/15b+YcM4tMUzxv1B431pnfvE/5IKjaWG86b+DDsyxGNXUv7U/Q/6/EOO/WcUvyiqg4D9JzOGK5ynBv3ngJZci4aw/jo0TchXs4r94uIkDalfGv0epmsT/G+u/8yY/cv+I5D8jZRvrAtngP+0wSWbjofO/08jo5PZ74r+o+FViwRXsP7BoFZZ/res/JT7erAeF7j+ug3jcvlnzP9sakW51mfE/E/AgphvNsj8yOqnTQMnnv+aHVkTNAvE/",
                    "dtype": "f8"
                  },
                  "yaxis": "y"
                }
              ],
              "layout": {
                "height": 800,
                "legend": {
                  "title": {
                    "text": "DATASET"
                  },
                  "tracegroupgap": 0
                },
                "margin": {
                  "t": 60
                },
                "paper_bgcolor": "white",
                "plot_bgcolor": "white",
                "showlegend": true,
                "template": {
                  "data": {
                    "bar": [
                      {
                        "error_x": {
                          "color": "#2a3f5f"
                        },
                        "error_y": {
                          "color": "#2a3f5f"
                        },
                        "marker": {
                          "line": {
                            "color": "#E5ECF6",
                            "width": 0.5
                          },
                          "pattern": {
                            "fillmode": "overlay",
                            "size": 10,
                            "solidity": 0.2
                          }
                        },
                        "type": "bar"
                      }
                    ],
                    "barpolar": [
                      {
                        "marker": {
                          "line": {
                            "color": "#E5ECF6",
                            "width": 0.5
                          },
                          "pattern": {
                            "fillmode": "overlay",
                            "size": 10,
                            "solidity": 0.2
                          }
                        },
                        "type": "barpolar"
                      }
                    ],
                    "carpet": [
                      {
                        "aaxis": {
                          "endlinecolor": "#2a3f5f",
                          "gridcolor": "white",
                          "linecolor": "white",
                          "minorgridcolor": "white",
                          "startlinecolor": "#2a3f5f"
                        },
                        "baxis": {
                          "endlinecolor": "#2a3f5f",
                          "gridcolor": "white",
                          "linecolor": "white",
                          "minorgridcolor": "white",
                          "startlinecolor": "#2a3f5f"
                        },
                        "type": "carpet"
                      }
                    ],
                    "choropleth": [
                      {
                        "colorbar": {
                          "outlinewidth": 0,
                          "ticks": ""
                        },
                        "type": "choropleth"
                      }
                    ],
                    "contour": [
                      {
                        "colorbar": {
                          "outlinewidth": 0,
                          "ticks": ""
                        },
                        "colorscale": [
                          [
                            0,
                            "#0d0887"
                          ],
                          [
                            0.1111111111111111,
                            "#46039f"
                          ],
                          [
                            0.2222222222222222,
                            "#7201a8"
                          ],
                          [
                            0.3333333333333333,
                            "#9c179e"
                          ],
                          [
                            0.4444444444444444,
                            "#bd3786"
                          ],
                          [
                            0.5555555555555556,
                            "#d8576b"
                          ],
                          [
                            0.6666666666666666,
                            "#ed7953"
                          ],
                          [
                            0.7777777777777778,
                            "#fb9f3a"
                          ],
                          [
                            0.8888888888888888,
                            "#fdca26"
                          ],
                          [
                            1,
                            "#f0f921"
                          ]
                        ],
                        "type": "contour"
                      }
                    ],
                    "contourcarpet": [
                      {
                        "colorbar": {
                          "outlinewidth": 0,
                          "ticks": ""
                        },
                        "type": "contourcarpet"
                      }
                    ],
                    "heatmap": [
                      {
                        "colorbar": {
                          "outlinewidth": 0,
                          "ticks": ""
                        },
                        "colorscale": [
                          [
                            0,
                            "#0d0887"
                          ],
                          [
                            0.1111111111111111,
                            "#46039f"
                          ],
                          [
                            0.2222222222222222,
                            "#7201a8"
                          ],
                          [
                            0.3333333333333333,
                            "#9c179e"
                          ],
                          [
                            0.4444444444444444,
                            "#bd3786"
                          ],
                          [
                            0.5555555555555556,
                            "#d8576b"
                          ],
                          [
                            0.6666666666666666,
                            "#ed7953"
                          ],
                          [
                            0.7777777777777778,
                            "#fb9f3a"
                          ],
                          [
                            0.8888888888888888,
                            "#fdca26"
                          ],
                          [
                            1,
                            "#f0f921"
                          ]
                        ],
                        "type": "heatmap"
                      }
                    ],
                    "histogram": [
                      {
                        "marker": {
                          "pattern": {
                            "fillmode": "overlay",
                            "size": 10,
                            "solidity": 0.2
                          }
                        },
                        "type": "histogram"
                      }
                    ],
                    "histogram2d": [
                      {
                        "colorbar": {
                          "outlinewidth": 0,
                          "ticks": ""
                        },
                        "colorscale": [
                          [
                            0,
                            "#0d0887"
                          ],
                          [
                            0.1111111111111111,
                            "#46039f"
                          ],
                          [
                            0.2222222222222222,
                            "#7201a8"
                          ],
                          [
                            0.3333333333333333,
                            "#9c179e"
                          ],
                          [
                            0.4444444444444444,
                            "#bd3786"
                          ],
                          [
                            0.5555555555555556,
                            "#d8576b"
                          ],
                          [
                            0.6666666666666666,
                            "#ed7953"
                          ],
                          [
                            0.7777777777777778,
                            "#fb9f3a"
                          ],
                          [
                            0.8888888888888888,
                            "#fdca26"
                          ],
                          [
                            1,
                            "#f0f921"
                          ]
                        ],
                        "type": "histogram2d"
                      }
                    ],
                    "histogram2dcontour": [
                      {
                        "colorbar": {
                          "outlinewidth": 0,
                          "ticks": ""
                        },
                        "colorscale": [
                          [
                            0,
                            "#0d0887"
                          ],
                          [
                            0.1111111111111111,
                            "#46039f"
                          ],
                          [
                            0.2222222222222222,
                            "#7201a8"
                          ],
                          [
                            0.3333333333333333,
                            "#9c179e"
                          ],
                          [
                            0.4444444444444444,
                            "#bd3786"
                          ],
                          [
                            0.5555555555555556,
                            "#d8576b"
                          ],
                          [
                            0.6666666666666666,
                            "#ed7953"
                          ],
                          [
                            0.7777777777777778,
                            "#fb9f3a"
                          ],
                          [
                            0.8888888888888888,
                            "#fdca26"
                          ],
                          [
                            1,
                            "#f0f921"
                          ]
                        ],
                        "type": "histogram2dcontour"
                      }
                    ],
                    "mesh3d": [
                      {
                        "colorbar": {
                          "outlinewidth": 0,
                          "ticks": ""
                        },
                        "type": "mesh3d"
                      }
                    ],
                    "parcoords": [
                      {
                        "line": {
                          "colorbar": {
                            "outlinewidth": 0,
                            "ticks": ""
                          }
                        },
                        "type": "parcoords"
                      }
                    ],
                    "pie": [
                      {
                        "automargin": true,
                        "type": "pie"
                      }
                    ],
                    "scatter": [
                      {
                        "fillpattern": {
                          "fillmode": "overlay",
                          "size": 10,
                          "solidity": 0.2
                        },
                        "type": "scatter"
                      }
                    ],
                    "scatter3d": [
                      {
                        "line": {
                          "colorbar": {
                            "outlinewidth": 0,
                            "ticks": ""
                          }
                        },
                        "marker": {
                          "colorbar": {
                            "outlinewidth": 0,
                            "ticks": ""
                          }
                        },
                        "type": "scatter3d"
                      }
                    ],
                    "scattercarpet": [
                      {
                        "marker": {
                          "colorbar": {
                            "outlinewidth": 0,
                            "ticks": ""
                          }
                        },
                        "type": "scattercarpet"
                      }
                    ],
                    "scattergeo": [
                      {
                        "marker": {
                          "colorbar": {
                            "outlinewidth": 0,
                            "ticks": ""
                          }
                        },
                        "type": "scattergeo"
                      }
                    ],
                    "scattergl": [
                      {
                        "marker": {
                          "colorbar": {
                            "outlinewidth": 0,
                            "ticks": ""
                          }
                        },
                        "type": "scattergl"
                      }
                    ],
                    "scattermap": [
                      {
                        "marker": {
                          "colorbar": {
                            "outlinewidth": 0,
                            "ticks": ""
                          }
                        },
                        "type": "scattermap"
                      }
                    ],
                    "scattermapbox": [
                      {
                        "marker": {
                          "colorbar": {
                            "outlinewidth": 0,
                            "ticks": ""
                          }
                        },
                        "type": "scattermapbox"
                      }
                    ],
                    "scatterpolar": [
                      {
                        "marker": {
                          "colorbar": {
                            "outlinewidth": 0,
                            "ticks": ""
                          }
                        },
                        "type": "scatterpolar"
                      }
                    ],
                    "scatterpolargl": [
                      {
                        "marker": {
                          "colorbar": {
                            "outlinewidth": 0,
                            "ticks": ""
                          }
                        },
                        "type": "scatterpolargl"
                      }
                    ],
                    "scatterternary": [
                      {
                        "marker": {
                          "colorbar": {
                            "outlinewidth": 0,
                            "ticks": ""
                          }
                        },
                        "type": "scatterternary"
                      }
                    ],
                    "surface": [
                      {
                        "colorbar": {
                          "outlinewidth": 0,
                          "ticks": ""
                        },
                        "colorscale": [
                          [
                            0,
                            "#0d0887"
                          ],
                          [
                            0.1111111111111111,
                            "#46039f"
                          ],
                          [
                            0.2222222222222222,
                            "#7201a8"
                          ],
                          [
                            0.3333333333333333,
                            "#9c179e"
                          ],
                          [
                            0.4444444444444444,
                            "#bd3786"
                          ],
                          [
                            0.5555555555555556,
                            "#d8576b"
                          ],
                          [
                            0.6666666666666666,
                            "#ed7953"
                          ],
                          [
                            0.7777777777777778,
                            "#fb9f3a"
                          ],
                          [
                            0.8888888888888888,
                            "#fdca26"
                          ],
                          [
                            1,
                            "#f0f921"
                          ]
                        ],
                        "type": "surface"
                      }
                    ],
                    "table": [
                      {
                        "cells": {
                          "fill": {
                            "color": "#EBF0F8"
                          },
                          "line": {
                            "color": "white"
                          }
                        },
                        "header": {
                          "fill": {
                            "color": "#C8D4E3"
                          },
                          "line": {
                            "color": "white"
                          }
                        },
                        "type": "table"
                      }
                    ]
                  },
                  "layout": {
                    "annotationdefaults": {
                      "arrowcolor": "#2a3f5f",
                      "arrowhead": 0,
                      "arrowwidth": 1
                    },
                    "autotypenumbers": "strict",
                    "coloraxis": {
                      "colorbar": {
                        "outlinewidth": 0,
                        "ticks": ""
                      }
                    },
                    "colorscale": {
                      "diverging": [
                        [
                          0,
                          "#8e0152"
                        ],
                        [
                          0.1,
                          "#c51b7d"
                        ],
                        [
                          0.2,
                          "#de77ae"
                        ],
                        [
                          0.3,
                          "#f1b6da"
                        ],
                        [
                          0.4,
                          "#fde0ef"
                        ],
                        [
                          0.5,
                          "#f7f7f7"
                        ],
                        [
                          0.6,
                          "#e6f5d0"
                        ],
                        [
                          0.7,
                          "#b8e186"
                        ],
                        [
                          0.8,
                          "#7fbc41"
                        ],
                        [
                          0.9,
                          "#4d9221"
                        ],
                        [
                          1,
                          "#276419"
                        ]
                      ],
                      "sequential": [
                        [
                          0,
                          "#0d0887"
                        ],
                        [
                          0.1111111111111111,
                          "#46039f"
                        ],
                        [
                          0.2222222222222222,
                          "#7201a8"
                        ],
                        [
                          0.3333333333333333,
                          "#9c179e"
                        ],
                        [
                          0.4444444444444444,
                          "#bd3786"
                        ],
                        [
                          0.5555555555555556,
                          "#d8576b"
                        ],
                        [
                          0.6666666666666666,
                          "#ed7953"
                        ],
                        [
                          0.7777777777777778,
                          "#fb9f3a"
                        ],
                        [
                          0.8888888888888888,
                          "#fdca26"
                        ],
                        [
                          1,
                          "#f0f921"
                        ]
                      ],
                      "sequentialminus": [
                        [
                          0,
                          "#0d0887"
                        ],
                        [
                          0.1111111111111111,
                          "#46039f"
                        ],
                        [
                          0.2222222222222222,
                          "#7201a8"
                        ],
                        [
                          0.3333333333333333,
                          "#9c179e"
                        ],
                        [
                          0.4444444444444444,
                          "#bd3786"
                        ],
                        [
                          0.5555555555555556,
                          "#d8576b"
                        ],
                        [
                          0.6666666666666666,
                          "#ed7953"
                        ],
                        [
                          0.7777777777777778,
                          "#fb9f3a"
                        ],
                        [
                          0.8888888888888888,
                          "#fdca26"
                        ],
                        [
                          1,
                          "#f0f921"
                        ]
                      ]
                    },
                    "colorway": [
                      "#636efa",
                      "#EF553B",
                      "#00cc96",
                      "#ab63fa",
                      "#FFA15A",
                      "#19d3f3",
                      "#FF6692",
                      "#B6E880",
                      "#FF97FF",
                      "#FECB52"
                    ],
                    "font": {
                      "color": "#2a3f5f"
                    },
                    "geo": {
                      "bgcolor": "white",
                      "lakecolor": "white",
                      "landcolor": "#E5ECF6",
                      "showlakes": true,
                      "showland": true,
                      "subunitcolor": "white"
                    },
                    "hoverlabel": {
                      "align": "left"
                    },
                    "hovermode": "closest",
                    "mapbox": {
                      "style": "light"
                    },
                    "paper_bgcolor": "white",
                    "plot_bgcolor": "#E5ECF6",
                    "polar": {
                      "angularaxis": {
                        "gridcolor": "white",
                        "linecolor": "white",
                        "ticks": ""
                      },
                      "bgcolor": "#E5ECF6",
                      "radialaxis": {
                        "gridcolor": "white",
                        "linecolor": "white",
                        "ticks": ""
                      }
                    },
                    "scene": {
                      "xaxis": {
                        "backgroundcolor": "#E5ECF6",
                        "gridcolor": "white",
                        "gridwidth": 2,
                        "linecolor": "white",
                        "showbackground": true,
                        "ticks": "",
                        "zerolinecolor": "white"
                      },
                      "yaxis": {
                        "backgroundcolor": "#E5ECF6",
                        "gridcolor": "white",
                        "gridwidth": 2,
                        "linecolor": "white",
                        "showbackground": true,
                        "ticks": "",
                        "zerolinecolor": "white"
                      },
                      "zaxis": {
                        "backgroundcolor": "#E5ECF6",
                        "gridcolor": "white",
                        "gridwidth": 2,
                        "linecolor": "white",
                        "showbackground": true,
                        "ticks": "",
                        "zerolinecolor": "white"
                      }
                    },
                    "shapedefaults": {
                      "line": {
                        "color": "#2a3f5f"
                      }
                    },
                    "ternary": {
                      "aaxis": {
                        "gridcolor": "white",
                        "linecolor": "white",
                        "ticks": ""
                      },
                      "baxis": {
                        "gridcolor": "white",
                        "linecolor": "white",
                        "ticks": ""
                      },
                      "bgcolor": "#E5ECF6",
                      "caxis": {
                        "gridcolor": "white",
                        "linecolor": "white",
                        "ticks": ""
                      }
                    },
                    "title": {
                      "x": 0.05
                    },
                    "xaxis": {
                      "automargin": true,
                      "gridcolor": "white",
                      "linecolor": "white",
                      "ticks": "",
                      "title": {
                        "standoff": 15
                      },
                      "zerolinecolor": "white",
                      "zerolinewidth": 2
                    },
                    "yaxis": {
                      "automargin": true,
                      "gridcolor": "white",
                      "linecolor": "white",
                      "ticks": "",
                      "title": {
                        "standoff": 15
                      },
                      "zerolinecolor": "white",
                      "zerolinewidth": 2
                    }
                  }
                },
                "width": 1000,
                "xaxis": {
                  "anchor": "y",
                  "domain": [
                    0,
                    1
                  ],
                  "linecolor": "black",
                  "linewidth": 1,
                  "mirror": true,
                  "range": [
                    -5,
                    10
                  ],
                  "showgrid": false,
                  "showline": true,
                  "title": {
                    "font": {
                      "color": "black",
                      "size": 20
                    },
                    "text": "Principal component 1 (63.88%)"
                  }
                },
                "yaxis": {
                  "anchor": "x",
                  "domain": [
                    0,
                    1
                  ],
                  "linecolor": "black",
                  "linewidth": 1,
                  "mirror": true,
                  "range": [
                    -4,
                    8
                  ],
                  "showgrid": false,
                  "showline": true,
                  "title": {
                    "font": {
                      "color": "black",
                      "size": 20
                    },
                    "text": "Principal component 2 (23.42%)"
                  }
                }
              }
            }
          },
          "metadata": {},
          "output_type": "display_data"
        }
      ],
      "source": [
        "### Color dataset values\n",
        "COLOR_MAP = {\n",
        "    'DiaNat-DB': \"#979745\",\n",
        "    'SH-accumulated': \"#4AB82B\",\n",
        "    'SG-accumulated': \"#304be3\",\n",
        "    'SR-accumulated': \"#19a3a6\"\n",
        "            }\n",
        "\n",
        "### Interactive Plotly PCA scatter\n",
        "fig_pca = px.scatter(\n",
        "    pca_3d_df, x='PC1', y='PC2',\n",
        "    color=COL_DATASET,\n",
        "    color_discrete_sequence=list(COLOR_MAP.values()),\n",
        "    title=False,\n",
        "    hover_data=[COL_ID],\n",
        "    width=1000,\n",
        "    height=800)\n",
        "\n",
        "### Improve layout and axis titles with dynamic variance\n",
        "fig_pca.update_traces(marker=dict(size=10))\n",
        "fig_pca.update_layout(\n",
        "    xaxis=dict(\n",
        "        showgrid=False, showline=True, linewidth=1, linecolor='black', mirror=True\n",
        "    ),\n",
        "    yaxis=dict(\n",
        "        showgrid=False, showline=True, linewidth=1, linecolor='black', mirror=True\n",
        "    ),\n",
        "    plot_bgcolor='white', paper_bgcolor='white',\n",
        "    showlegend=True\n",
        ")\n",
        "fig_pca.update_xaxes(\n",
        "    title_text=f\"Principal component 1 ({exp_var[0]*100:.2f}%)\",\n",
        "    range=[-5, 10],\n",
        "    title_font=dict(size=20, color= \"black\")\n",
        ")\n",
        "fig_pca.update_yaxes(\n",
        "    title_text=f\"Principal component 2 ({exp_var[1]*100:.2f}%)\",\n",
        "    range=[-4, 8],\n",
        "    title_font=dict(size=20, color= \"black\")\n",
        ")\n",
        "\n",
        "### Save the static PNG\n",
        "png_all = OUTPUT_DIR/\"sidas_dianat_pca_all.png\"\n",
        "pio.write_image(fig_pca, str(png_all), width=1000, height=800, scale=3)\n",
        "print(f\"Saved: {png_all}\")\n",
        "fig_pca.show()"
      ]
    },
    {
      "cell_type": "markdown",
      "metadata": {},
      "source": [
        "### **5. Individual PCA scatter plots**\n",
        "Filter the PCA dataframe to visualize and export a single dataset, reusing the styling."
      ]
    },
    {
      "cell_type": "code",
      "execution_count": 47,
      "metadata": {
        "colab": {
          "base_uri": "https://localhost:8080/"
        },
        "id": "XLFBcS_avxlb",
        "outputId": "6bb6ec94-fee7-4c9e-a665-57949eb42d49"
      },
      "outputs": [
        {
          "name": "stdout",
          "output_type": "stream",
          "text": [
            "Datasets found: {'DiaNat-DB', 'SH-accumulated', 'SG-accumulated', 'SR-accumulated'}\n"
          ]
        }
      ],
      "source": [
        "### Existing datasets in the PCA results\n",
        "print(\"Datasets found:\", set(pca_3d_df[COL_DATASET]))"
      ]
    },
    {
      "cell_type": "code",
      "execution_count": null,
      "metadata": {},
      "outputs": [],
      "source": [
        "### Iterate through datasets and create individual plots\n",
        "for dataset in sorted(set(pca_3d_df[COL_DATASET])):\n",
        "    ### Filter PCA results for the specific dataset\n",
        "    pca_dataset = pca_3d_df[pca_3d_df[COL_DATASET] == dataset].copy()\n",
        "    \n",
        "    ### Get the corresponding color from the COLOR_MAP\n",
        "    color_value = COLOR_MAP.get(dataset, \"#000000\")  # Default to black if not found\n",
        "    \n",
        "    ### Create the scatter plot for the individual dataset\n",
        "    fig_individual = px.scatter(\n",
        "        pca_dataset, x='PC1', y='PC2',\n",
        "        color_discrete_sequence=[color_value],\n",
        "        title=False,\n",
        "        hover_data=[COL_ID],\n",
        "        width=1000, height=800)\n",
        "    \n",
        "    ### Improve layout and axis titles with dynamic variance\n",
        "    fig_individual.update_traces(marker=dict(size=10))\n",
        "    fig_individual.update_layout(\n",
        "        xaxis=dict(\n",
        "        showgrid=False, showline=True, linewidth=1, linecolor='black', mirror=True\n",
        "        ),\n",
        "        yaxis=dict(\n",
        "        showgrid=False, showline=True, linewidth=1, linecolor='black', mirror=True\n",
        "        ),\n",
        "        plot_bgcolor='white', paper_bgcolor='white',\n",
        "        showlegend=False\n",
        "    )\n",
        "    fig_individual.update_xaxes(\n",
        "        title_text=f'Principal component 1',\n",
        "        range=[-5, 10],\n",
        "        title_font=dict(size=20, color= \"black\")\n",
        "    )\n",
        "    fig_individual.update_yaxes(\n",
        "        title_text=f'Principal component 2',\n",
        "        range=[-4, 8],\n",
        "        title_font=dict(size=20, color= \"black\")\n",
        "    )\n",
        "    \n",
        "    ### Save the static PNG\n",
        "    png_individual = OUTPUT_DIR/f\"sidas_dianat_pca_{dataset.lower()}.png\"\n",
        "    pio.write_image(fig_individual, str(png_individual), width=1000, height=800, scale=3)\n",
        "    print(f\"Saved: {png_individual}\")\n",
        "    fig_individual.show()"
      ]
    }
  ],
  "metadata": {
    "colab": {
      "provenance": []
    },
    "kernelspec": {
      "display_name": "chemspace",
      "language": "python",
      "name": "python3"
    },
    "language_info": {
      "codemirror_mode": {
        "name": "ipython",
        "version": 3
      },
      "file_extension": ".py",
      "mimetype": "text/x-python",
      "name": "python",
      "nbconvert_exporter": "python",
      "pygments_lexer": "ipython3",
      "version": "3.13.3"
    },
    "widgets": {
      "application/vnd.jupyter.widget-state+json": {
        "0c9d1e0975d549dd81c046ec72943c5b": {
          "model_module": "@jupyter-widgets/controls",
          "model_module_version": "1.5.0",
          "model_name": "DescriptionStyleModel",
          "state": {
            "_model_module": "@jupyter-widgets/controls",
            "_model_module_version": "1.5.0",
            "_model_name": "DescriptionStyleModel",
            "_view_count": null,
            "_view_module": "@jupyter-widgets/base",
            "_view_module_version": "1.2.0",
            "_view_name": "StyleView",
            "description_width": ""
          }
        },
        "319eec2cd70c4662b244c8b6c60da802": {
          "model_module": "@jupyter-widgets/controls",
          "model_module_version": "1.5.0",
          "model_name": "HTMLModel",
          "state": {
            "_dom_classes": [],
            "_model_module": "@jupyter-widgets/controls",
            "_model_module_version": "1.5.0",
            "_model_name": "HTMLModel",
            "_view_count": null,
            "_view_module": "@jupyter-widgets/controls",
            "_view_module_version": "1.5.0",
            "_view_name": "HTMLView",
            "description": "",
            "description_tooltip": null,
            "layout": "IPY_MODEL_fa1512ac19a84b9db29bce94f17df1f5",
            "placeholder": "​",
            "style": "IPY_MODEL_572f805605fd481a85e537b0f182c906",
            "value": " 300/? [00:33&lt;00:00, 11.05it/s]"
          }
        },
        "3b957f0938414e708c3bca47ba77dc35": {
          "model_module": "@jupyter-widgets/controls",
          "model_module_version": "1.5.0",
          "model_name": "FloatProgressModel",
          "state": {
            "_dom_classes": [],
            "_model_module": "@jupyter-widgets/controls",
            "_model_module_version": "1.5.0",
            "_model_name": "FloatProgressModel",
            "_view_count": null,
            "_view_module": "@jupyter-widgets/controls",
            "_view_module_version": "1.5.0",
            "_view_name": "ProgressView",
            "bar_style": "success",
            "description": "",
            "description_tooltip": null,
            "layout": "IPY_MODEL_ee10f6c85cf249059aba2f6a5b000276",
            "max": 100,
            "min": 0,
            "orientation": "horizontal",
            "style": "IPY_MODEL_ccff62e7cd354325adcd6ea6c8b35014",
            "value": 100
          }
        },
        "3c81f456afab4c10b8a29ddec4129823": {
          "model_module": "@jupyter-widgets/controls",
          "model_module_version": "1.5.0",
          "model_name": "HBoxModel",
          "state": {
            "_dom_classes": [],
            "_model_module": "@jupyter-widgets/controls",
            "_model_module_version": "1.5.0",
            "_model_name": "HBoxModel",
            "_view_count": null,
            "_view_module": "@jupyter-widgets/controls",
            "_view_module_version": "1.5.0",
            "_view_name": "HBoxView",
            "box_style": "",
            "children": [
              "IPY_MODEL_ba037ed3231f4d93b3742841734b6e0f",
              "IPY_MODEL_3b957f0938414e708c3bca47ba77dc35",
              "IPY_MODEL_319eec2cd70c4662b244c8b6c60da802"
            ],
            "layout": "IPY_MODEL_aa5c112948f34f9f9c1bcf7c0ad9e93d"
          }
        },
        "572f805605fd481a85e537b0f182c906": {
          "model_module": "@jupyter-widgets/controls",
          "model_module_version": "1.5.0",
          "model_name": "DescriptionStyleModel",
          "state": {
            "_model_module": "@jupyter-widgets/controls",
            "_model_module_version": "1.5.0",
            "_model_name": "DescriptionStyleModel",
            "_view_count": null,
            "_view_module": "@jupyter-widgets/base",
            "_view_module_version": "1.2.0",
            "_view_name": "StyleView",
            "description_width": ""
          }
        },
        "9489e8ba209e4a7e93e333b9d4e1af14": {
          "model_module": "@jupyter-widgets/base",
          "model_module_version": "1.2.0",
          "model_name": "LayoutModel",
          "state": {
            "_model_module": "@jupyter-widgets/base",
            "_model_module_version": "1.2.0",
            "_model_name": "LayoutModel",
            "_view_count": null,
            "_view_module": "@jupyter-widgets/base",
            "_view_module_version": "1.2.0",
            "_view_name": "LayoutView",
            "align_content": null,
            "align_items": null,
            "align_self": null,
            "border": null,
            "bottom": null,
            "display": null,
            "flex": null,
            "flex_flow": null,
            "grid_area": null,
            "grid_auto_columns": null,
            "grid_auto_flow": null,
            "grid_auto_rows": null,
            "grid_column": null,
            "grid_gap": null,
            "grid_row": null,
            "grid_template_areas": null,
            "grid_template_columns": null,
            "grid_template_rows": null,
            "height": null,
            "justify_content": null,
            "justify_items": null,
            "left": null,
            "margin": null,
            "max_height": null,
            "max_width": null,
            "min_height": null,
            "min_width": null,
            "object_fit": null,
            "object_position": null,
            "order": null,
            "overflow": null,
            "overflow_x": null,
            "overflow_y": null,
            "padding": null,
            "right": null,
            "top": null,
            "visibility": null,
            "width": null
          }
        },
        "aa5c112948f34f9f9c1bcf7c0ad9e93d": {
          "model_module": "@jupyter-widgets/base",
          "model_module_version": "1.2.0",
          "model_name": "LayoutModel",
          "state": {
            "_model_module": "@jupyter-widgets/base",
            "_model_module_version": "1.2.0",
            "_model_name": "LayoutModel",
            "_view_count": null,
            "_view_module": "@jupyter-widgets/base",
            "_view_module_version": "1.2.0",
            "_view_name": "LayoutView",
            "align_content": null,
            "align_items": null,
            "align_self": null,
            "border": null,
            "bottom": null,
            "display": null,
            "flex": null,
            "flex_flow": null,
            "grid_area": null,
            "grid_auto_columns": null,
            "grid_auto_flow": null,
            "grid_auto_rows": null,
            "grid_column": null,
            "grid_gap": null,
            "grid_row": null,
            "grid_template_areas": null,
            "grid_template_columns": null,
            "grid_template_rows": null,
            "height": null,
            "justify_content": null,
            "justify_items": null,
            "left": null,
            "margin": null,
            "max_height": null,
            "max_width": null,
            "min_height": null,
            "min_width": null,
            "object_fit": null,
            "object_position": null,
            "order": null,
            "overflow": null,
            "overflow_x": null,
            "overflow_y": null,
            "padding": null,
            "right": null,
            "top": null,
            "visibility": null,
            "width": null
          }
        },
        "ba037ed3231f4d93b3742841734b6e0f": {
          "model_module": "@jupyter-widgets/controls",
          "model_module_version": "1.5.0",
          "model_name": "HTMLModel",
          "state": {
            "_dom_classes": [],
            "_model_module": "@jupyter-widgets/controls",
            "_model_module_version": "1.5.0",
            "_model_name": "HTMLModel",
            "_view_count": null,
            "_view_module": "@jupyter-widgets/controls",
            "_view_module_version": "1.5.0",
            "_view_name": "HTMLView",
            "description": "",
            "description_tooltip": null,
            "layout": "IPY_MODEL_9489e8ba209e4a7e93e333b9d4e1af14",
            "placeholder": "​",
            "style": "IPY_MODEL_0c9d1e0975d549dd81c046ec72943c5b",
            "value": ""
          }
        },
        "ccff62e7cd354325adcd6ea6c8b35014": {
          "model_module": "@jupyter-widgets/controls",
          "model_module_version": "1.5.0",
          "model_name": "ProgressStyleModel",
          "state": {
            "_model_module": "@jupyter-widgets/controls",
            "_model_module_version": "1.5.0",
            "_model_name": "ProgressStyleModel",
            "_view_count": null,
            "_view_module": "@jupyter-widgets/base",
            "_view_module_version": "1.2.0",
            "_view_name": "StyleView",
            "bar_color": null,
            "description_width": ""
          }
        },
        "ee10f6c85cf249059aba2f6a5b000276": {
          "model_module": "@jupyter-widgets/base",
          "model_module_version": "1.2.0",
          "model_name": "LayoutModel",
          "state": {
            "_model_module": "@jupyter-widgets/base",
            "_model_module_version": "1.2.0",
            "_model_name": "LayoutModel",
            "_view_count": null,
            "_view_module": "@jupyter-widgets/base",
            "_view_module_version": "1.2.0",
            "_view_name": "LayoutView",
            "align_content": null,
            "align_items": null,
            "align_self": null,
            "border": null,
            "bottom": null,
            "display": null,
            "flex": null,
            "flex_flow": null,
            "grid_area": null,
            "grid_auto_columns": null,
            "grid_auto_flow": null,
            "grid_auto_rows": null,
            "grid_column": null,
            "grid_gap": null,
            "grid_row": null,
            "grid_template_areas": null,
            "grid_template_columns": null,
            "grid_template_rows": null,
            "height": null,
            "justify_content": null,
            "justify_items": null,
            "left": null,
            "margin": null,
            "max_height": null,
            "max_width": null,
            "min_height": null,
            "min_width": null,
            "object_fit": null,
            "object_position": null,
            "order": null,
            "overflow": null,
            "overflow_x": null,
            "overflow_y": null,
            "padding": null,
            "right": null,
            "top": null,
            "visibility": null,
            "width": null
          }
        },
        "fa1512ac19a84b9db29bce94f17df1f5": {
          "model_module": "@jupyter-widgets/base",
          "model_module_version": "1.2.0",
          "model_name": "LayoutModel",
          "state": {
            "_model_module": "@jupyter-widgets/base",
            "_model_module_version": "1.2.0",
            "_model_name": "LayoutModel",
            "_view_count": null,
            "_view_module": "@jupyter-widgets/base",
            "_view_module_version": "1.2.0",
            "_view_name": "LayoutView",
            "align_content": null,
            "align_items": null,
            "align_self": null,
            "border": null,
            "bottom": null,
            "display": null,
            "flex": null,
            "flex_flow": null,
            "grid_area": null,
            "grid_auto_columns": null,
            "grid_auto_flow": null,
            "grid_auto_rows": null,
            "grid_column": null,
            "grid_gap": null,
            "grid_row": null,
            "grid_template_areas": null,
            "grid_template_columns": null,
            "grid_template_rows": null,
            "height": null,
            "justify_content": null,
            "justify_items": null,
            "left": null,
            "margin": null,
            "max_height": null,
            "max_width": null,
            "min_height": null,
            "min_width": null,
            "object_fit": null,
            "object_position": null,
            "order": null,
            "overflow": null,
            "overflow_x": null,
            "overflow_y": null,
            "padding": null,
            "right": null,
            "top": null,
            "visibility": null,
            "width": null
          }
        }
      }
    }
  },
  "nbformat": 4,
  "nbformat_minor": 0
}
